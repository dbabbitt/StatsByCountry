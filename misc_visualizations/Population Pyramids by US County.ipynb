{
 "cells": [
  {
   "cell_type": "code",
   "execution_count": null,
   "id": "8c1c07c3-07ba-4dcc-902e-278813586883",
   "metadata": {
    "tags": []
   },
   "outputs": [],
   "source": []
  },
  {
   "cell_type": "code",
   "execution_count": 1,
   "id": "94e74c01-b176-48b2-a326-399c5ad58aca",
   "metadata": {
    "tags": []
   },
   "outputs": [
    {
     "name": "stdout",
     "output_type": "stream",
     "text": [
      "Pretty printing has been turned OFF\n"
     ]
    }
   ],
   "source": [
    "\n",
    "%pprint"
   ]
  },
  {
   "cell_type": "code",
   "execution_count": 2,
   "id": "345c00f3-b2e8-463d-ba46-21009f9b5289",
   "metadata": {
    "tags": []
   },
   "outputs": [],
   "source": [
    "\n",
    "import sys\n",
    "\n",
    "# Insert at 1, 0 is the script path (or '' in REPL)\n",
    "sys.path.insert(1, '../py')\n",
    "\n",
    "from storage import Storage\n",
    "from stats_scraping_utils import StatsScrapingUtilities\n",
    "from stats_charting_utils import StatsChartingUtilities\n",
    "import pandas as pd\n",
    "import os\n",
    "\n",
    "s = Storage()\n",
    "ssu = StatsScrapingUtilities(s=s)\n",
    "scu = StatsChartingUtilities(s=s)\n",
    "counties_df = s.load_object('counties_df')"
   ]
  },
  {
   "cell_type": "markdown",
   "id": "e9af4da6-1359-4675-88b1-b5875d967de2",
   "metadata": {},
   "source": [
    "\n",
    "----"
   ]
  },
  {
   "cell_type": "markdown",
   "id": "e9e29f46-25d6-4169-8e7c-1cab6a54be14",
   "metadata": {},
   "source": [
    "\n",
    "# Visualize the Pyramids"
   ]
  },
  {
   "cell_type": "code",
   "execution_count": 21,
   "id": "cec8eb9e-5fb6-48e1-af3f-23583f1bcf68",
   "metadata": {},
   "outputs": [
    {
     "name": "stdout",
     "output_type": "stream",
     "text": [
      "https://en.wikipedia.org/wiki/Seward_County,_Kansas\n"
     ]
    }
   ],
   "source": [
    "\n",
    "mask_series = (counties_df.population_pyramidness == counties_df.population_pyramidness.max())\n",
    "df = counties_df[mask_series].sample(1)\n",
    "wikipedia_url = df.Wikipedia_URL.squeeze()\n",
    "print(wikipedia_url)\n",
    "file_names_list = []\n",
    "movie_prefix = wikipedia_url.split('/')[-1]\n",
    "movie_prefix = f'{movie_prefix}_population_pyramid'\n",
    "male_xticks_list = [0, 200, 400, 600, 800, 1000, 1200, 1400]\n",
    "female_xticks_list = [0, 200, 400, 600, 800, 1000, 1200]\n",
    "for year in range(2010, 2020):\n",
    "    fig = scu.population_pyramid(df, year=year, show=False, male_xticks_list=male_xticks_list, female_xticks_list=female_xticks_list,\n",
    "                                 verbose=False)\n",
    "    fig_name = f'{movie_prefix}_{year}'\n",
    "    scu.save_fig_as_various(fig, fig_name, dir_names_list=['png'], verbose=False)\n",
    "    file_name = f'{fig_name}.png'\n",
    "    file_names_list.append(file_name)"
   ]
  },
  {
   "cell_type": "code",
   "execution_count": 4,
   "id": "039c0b4e-b8e5-4b9b-b4a6-7cc3c608101c",
   "metadata": {},
   "outputs": [
    {
     "name": "stdout",
     "output_type": "stream",
     "text": [
      "Saving movie to C:\\Users\\daveb\\OneDrive\\Documents\\GitHub\\StatsByCountry\\saves\\gif\\Seward_County,_Kansas_population_pyramid_movie.gif\n"
     ]
    }
   ],
   "source": [
    "\n",
    "import imageio\n",
    "\n",
    "file_path = r'C:\\Users\\daveb\\OneDrive\\Documents\\GitHub\\StatsByCountry\\saves\\png\\Seward_County,_Kansas_population_pyramid_2019.png'\n",
    "base_array = imageio.imread(file_path)\n",
    "max_width = base_array.shape[1]\n",
    "scu.make_a_movie(movie_prefix, file_names_list, max_width=max_width, verbose=True)"
   ]
  },
  {
   "cell_type": "markdown",
   "id": "3437f24a-ac07-4c5b-afeb-4cb163b45097",
   "metadata": {},
   "source": [
    "\n",
    "----"
   ]
  },
  {
   "cell_type": "code",
   "execution_count": 13,
   "id": "29dfab72-08c8-463e-a615-8da396c5891c",
   "metadata": {},
   "outputs": [
    {
     "name": "stdout",
     "output_type": "stream",
     "text": [
      "https://en.wikipedia.org/wiki/Camas_County,_Idaho\n"
     ]
    }
   ],
   "source": [
    "\n",
    "mask_series = (counties_df.population_pyramidness == counties_df.population_pyramidness.min())\n",
    "df = counties_df[mask_series].sample(1)\n",
    "wikipedia_url = df.Wikipedia_URL.squeeze()\n",
    "print(wikipedia_url)\n",
    "file_names_list = []\n",
    "movie_prefix = wikipedia_url.split('/')[-1]\n",
    "movie_prefix = f'{movie_prefix}_population_pyramid'\n",
    "male_xticks_list = [i for i in range(0, 80, 10)]\n",
    "female_xticks_list = [i for i in range(0, 80, 10)]\n",
    "for year in range(2010, 2020):\n",
    "    fig = scu.population_pyramid(df, year=year, show=False, male_xticks_list=male_xticks_list, female_xticks_list=female_xticks_list,\n",
    "                                 verbose=False)\n",
    "    fig_name = f'{movie_prefix}_{year}'\n",
    "    scu.save_fig_as_various(fig, fig_name, dir_names_list=['png'], verbose=False)\n",
    "    file_name = f'{fig_name}.png'\n",
    "    file_names_list.append(file_name)"
   ]
  },
  {
   "cell_type": "code",
   "execution_count": 14,
   "id": "24a4dfa5-c74a-405f-9ed0-0b96e0c01cfa",
   "metadata": {},
   "outputs": [
    {
     "name": "stdout",
     "output_type": "stream",
     "text": [
      "Saving movie to C:\\Users\\daveb\\OneDrive\\Documents\\GitHub\\StatsByCountry\\saves\\gif\\Camas_County,_Idaho_population_pyramid_movie.gif\n"
     ]
    }
   ],
   "source": [
    "\n",
    "import imageio\n",
    "\n",
    "file_path = r'C:\\Users\\daveb\\OneDrive\\Documents\\GitHub\\StatsByCountry\\saves\\png\\Camas_County,_Idaho_population_pyramid_2019.png'\n",
    "base_array = imageio.imread(file_path)\n",
    "max_width = base_array.shape[1]\n",
    "scu.make_a_movie(movie_prefix, file_names_list, max_width=max_width, verbose=True)"
   ]
  },
  {
   "cell_type": "markdown",
   "id": "70de5c30-8676-480a-aab2-1ecfd1f5beed",
   "metadata": {},
   "source": [
    "\n",
    "----"
   ]
  },
  {
   "cell_type": "code",
   "execution_count": 19,
   "id": "0073e117-1c99-4b2c-a692-7b1ee13e6378",
   "metadata": {},
   "outputs": [
    {
     "name": "stdout",
     "output_type": "stream",
     "text": [
      "https://en.wikipedia.org/wiki/Coconino_County,_Arizona\n"
     ]
    }
   ],
   "source": [
    "\n",
    "mask_series = (counties_df.County_Name == 'Coconino County')\n",
    "df = counties_df[mask_series].sample(1)\n",
    "wikipedia_url = df.Wikipedia_URL.squeeze()\n",
    "print(wikipedia_url)\n",
    "file_names_list = []\n",
    "movie_prefix = wikipedia_url.split('/')[-1]\n",
    "movie_prefix = f'{movie_prefix}_population_pyramid'\n",
    "male_xticks_list = [i for i in range(0, 14_000, 2_000)]\n",
    "female_xticks_list = [i for i in range(0, 14_000, 2_000)]\n",
    "for year in range(2010, 2020):\n",
    "    fig = scu.population_pyramid(df, year=year, show=False, male_xticks_list=male_xticks_list, female_xticks_list=female_xticks_list,\n",
    "                                 verbose=False)\n",
    "    fig_name = f'{movie_prefix}_{year}'\n",
    "    scu.save_fig_as_various(fig, fig_name, dir_names_list=['png'], verbose=False)\n",
    "    file_name = f'{fig_name}.png'\n",
    "    file_names_list.append(file_name)"
   ]
  },
  {
   "cell_type": "code",
   "execution_count": 20,
   "id": "41c28e4b-8dd3-4f64-ae6b-5a1d72b5e560",
   "metadata": {},
   "outputs": [
    {
     "name": "stdout",
     "output_type": "stream",
     "text": [
      "Saving movie to C:\\Users\\daveb\\OneDrive\\Documents\\GitHub\\StatsByCountry\\saves\\gif\\Coconino_County,_Arizona_population_pyramid_movie.gif\n"
     ]
    }
   ],
   "source": [
    "\n",
    "import imageio\n",
    "\n",
    "file_path = r'C:\\Users\\daveb\\OneDrive\\Documents\\GitHub\\StatsByCountry\\saves\\png\\Coconino_County,_Arizona_population_pyramid_2019.png'\n",
    "base_array = imageio.imread(file_path)\n",
    "max_width = base_array.shape[1]\n",
    "scu.make_a_movie(movie_prefix, file_names_list, max_width=max_width, verbose=True)"
   ]
  },
  {
   "cell_type": "markdown",
   "id": "8dde99df-a696-4e84-aca3-5e8dce2c1ef9",
   "metadata": {},
   "source": [
    "\n",
    "----"
   ]
  },
  {
   "cell_type": "code",
   "execution_count": null,
   "id": "0b9d08c4-e77b-44e3-8fd7-f7eec65591bc",
   "metadata": {},
   "outputs": [],
   "source": [
    "\n",
    "import imageio\n",
    "from PIL import Image\n",
    "\n",
    "file_path = r'C:\\Users\\daveb\\OneDrive\\Documents\\GitHub\\StatsByCountry\\saves\\png\\Seward_County,_Kansas_population_pyramid_2019.png'\n",
    "base_array = imageio.imread(file_path)\n",
    "display(Image.fromarray(base_array))"
   ]
  },
  {
   "cell_type": "code",
   "execution_count": null,
   "id": "81af11d2-baa8-4374-9eb7-ed395a4d8aff",
   "metadata": {},
   "outputs": [],
   "source": []
  }
 ],
 "metadata": {
  "kernelspec": {
   "display_name": "Python 3 (ipykernel)",
   "language": "python",
   "name": "python3"
  },
  "language_info": {
   "codemirror_mode": {
    "name": "ipython",
    "version": 3
   },
   "file_extension": ".py",
   "mimetype": "text/x-python",
   "name": "python",
   "nbconvert_exporter": "python",
   "pygments_lexer": "ipython3",
   "version": "3.9.7"
  }
 },
 "nbformat": 4,
 "nbformat_minor": 5
}
