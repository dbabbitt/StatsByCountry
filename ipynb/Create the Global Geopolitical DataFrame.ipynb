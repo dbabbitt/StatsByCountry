{
 "cells": [
  {
   "cell_type": "code",
   "execution_count": null,
   "id": "2e2faf46-48e8-4737-b428-8713fbab2e5a",
   "metadata": {},
   "outputs": [],
   "source": []
  },
  {
   "cell_type": "code",
   "execution_count": 37,
   "id": "5c4c8fa9-cab6-4996-a0f9-3e4acb36b8b6",
   "metadata": {},
   "outputs": [],
   "source": [
    "\n",
    "nonword_regex = re.compile(r'\\W+')\n",
    "title_regex = re.compile('id=\"title\\d+\">([^><]+)<')\n",
    "file_path = r'C:\\Users\\daveb\\OneDrive\\Documents\\GitHub\\StatsByCountry\\saves\\svg\\BlankMap-World_save_as.svg'\n",
    "with open(file_path, 'r') as f:\n",
    "    svg_str = f.read()\n",
    "for match_obj in title_regex.finditer(svg_str):\n",
    "    country_name = match_obj.group(1)\n",
    "    indexized_str = nonword_regex.sub(' ', country_name.lower()).strip().replace(' ', '-')\n",
    "    svg_str = svg_str.replace(match_obj.group(), f'id=\"title-{indexized_str}\">{country_name}<')\n",
    "file_path = r'C:\\Users\\daveb\\OneDrive\\Documents\\GitHub\\StatsByCountry\\saves\\svg\\BlankMap-World_save_as_titled.svg'\n",
    "with open(file_path, 'w') as f:\n",
    "    f.write(svg_str)"
   ]
  },
  {
   "cell_type": "code",
   "execution_count": 39,
   "id": "bb22ff4b-d511-4c5f-9e07-167f991d9df3",
   "metadata": {},
   "outputs": [
    {
     "data": {
      "text/plain": [
       "['country_name',\n",
       " 'year_code_established',\n",
       " 'cc_tld',\n",
       " 'iso_3166_2',\n",
       " 'code_notes',\n",
       " 'wikipedia_url',\n",
       " 'wikipedia_title',\n",
       " 'intra_country_borders_d',\n",
       " 'svg_height',\n",
       " 'svg_width',\n",
       " 'inkscape_cx',\n",
       " 'inkscape_cy',\n",
       " 'inkscape_zoom',\n",
       " 'font_size',\n",
       " 'legend_transform',\n",
       " 'pwrindx_rank',\n",
       " 'short_form_name',\n",
       " 'pwrindx_score',\n",
       " 'country_code']"
      ]
     },
     "execution_count": 39,
     "metadata": {},
     "output_type": "execute_result"
    }
   ],
   "source": [
    "\n",
    "%run ../load_magic/storage.py\n",
    "\n",
    "s = Storage()\n",
    "country_stats_df = s.load_object('country_stats_df')\n",
    "country_stats_df.columns.tolist()"
   ]
  },
  {
   "cell_type": "code",
   "execution_count": 52,
   "id": "86e3f69b-4764-42a4-9d91-ed0da438871e",
   "metadata": {},
   "outputs": [
    {
     "name": "stdout",
     "output_type": "stream",
     "text": [
      "Pickling to C:\\Users\\daveb\\OneDrive\\Documents\\GitHub\\StatsByCountry\\saves\\pickle\\cc_dict.pickle\n"
     ]
    }
   ],
   "source": [
    "\n",
    "cc_dict = {}\n",
    "for i, r in country_stats_df.iterrows():\n",
    "    cc = r.cc_tld\n",
    "    if str(cc) == 'nan':\n",
    "        cc = r.iso_3166_2.split(':')[-1].lower()\n",
    "    else:\n",
    "        cc = cc[1:]\n",
    "    cc_dict[cc] = nonword_regex.sub(' ', r.country_name.lower()).strip().replace(' ', '-')\n",
    "s.store_objects(cc_dict=cc_dict)"
   ]
  },
  {
   "cell_type": "code",
   "execution_count": 53,
   "id": "34fb5857-51fe-4274-b204-e0710507e209",
   "metadata": {},
   "outputs": [],
   "source": [
    "\n",
    "file_path = r'C:\\Users\\daveb\\OneDrive\\Documents\\GitHub\\StatsByCountry\\saves\\svg\\BlankMap-World_save_as.svg'\n",
    "with open(file_path, 'r') as f:\n",
    "    svg_str = f.read()\n",
    "for cc, index in cc_dict.items():\n",
    "    svg_str = svg_str.replace(f'id=\"{cc}-\"', f'id=\"path-{index}\"')\n",
    "    svg_str = svg_str.replace(f'id=\"{cc}_\"', f'id=\"circle-{index}\"')\n",
    "file_path = r'C:\\Users\\daveb\\OneDrive\\Documents\\GitHub\\StatsByCountry\\saves\\svg\\BlankMap-World_save_as_titled.svg'\n",
    "with open(file_path, 'w') as f:\n",
    "    f.write(svg_str)"
   ]
  },
  {
   "cell_type": "code",
   "execution_count": 56,
   "id": "6d0b2d27-380a-4368-84d3-d7d4bb834ec6",
   "metadata": {},
   "outputs": [],
   "source": [
    "\n",
    "file_path = r'C:\\Users\\daveb\\OneDrive\\Documents\\GitHub\\StatsByCountry\\saves\\svg\\BlankMap-World_save_as.svg'\n",
    "with open(file_path, 'r') as f:\n",
    "    svg_str = f.read()\n",
    "title_regex = re.compile(r'<title(\\s+)id=\"title-([^\"]+)\">([^><]+)</title>(\\s+)<path(\\s+)id=\"[a-z]{2}-\"')\n",
    "svg_str = title_regex.sub(r'<title id=\"title-\\2\">\\3</title>\\4<path\\5id=\"path-\\2\"', svg_str)\n",
    "file_path = r'C:\\Users\\daveb\\OneDrive\\Documents\\GitHub\\StatsByCountry\\saves\\svg\\BlankMap-World_save_as_titled.svg'\n",
    "with open(file_path, 'w') as f:\n",
    "    f.write(svg_str)"
   ]
  },
  {
   "cell_type": "code",
   "execution_count": 57,
   "id": "54afa34f-b246-465e-afcc-41bc291599bc",
   "metadata": {},
   "outputs": [],
   "source": [
    "\n",
    "file_path = r'C:\\Users\\daveb\\OneDrive\\Documents\\GitHub\\StatsByCountry\\saves\\svg\\BlankMap-World_save_as.svg'\n",
    "with open(file_path, 'r') as f:\n",
    "    svg_str = f.read()\n",
    "title_regex = re.compile(r'<path(\\s+)id=\"path-([^\"]+)\"(\\s+)class=\"([^\"]+)\"(\\s+)d=\"([^\"]+)\" />(\\s+)<circle(\\s+)id=\"[a-z]{2}_\"')\n",
    "svg_str = title_regex.sub(r'<path\\1id=\"path-\\2\"\\3class=\"\\4\"\\5d=\"\\6\" />\\7<circle\\8id=\"circle-\\2\"', svg_str)\n",
    "file_path = r'C:\\Users\\daveb\\OneDrive\\Documents\\GitHub\\StatsByCountry\\saves\\svg\\BlankMap-World_save_as_titled.svg'\n",
    "with open(file_path, 'w') as f:\n",
    "    f.write(svg_str)"
   ]
  },
  {
   "cell_type": "code",
   "execution_count": 65,
   "id": "b3e30241-8d6a-4a83-9965-7a4b618e0b9c",
   "metadata": {},
   "outputs": [],
   "source": [
    "\n",
    "file_path = r'C:\\Users\\daveb\\OneDrive\\Documents\\GitHub\\StatsByCountry\\saves\\svg\\BlankMap-World_save_as.svg'\n",
    "with open(file_path, 'r') as f:\n",
    "    svg_str = f.read()\n",
    "title_regex = re.compile(r'<path\\s+id=\"([^-\"]+)\"\\s+class=\"([^\"]+)\"\\s+d=\"([^\"]+)\"([^>]*)>\\s+<title\\s+id=\"title-([^\"]+)\">([^><]+)</title>\\s+</path>')\n",
    "repl_str = '<g\\n     id=\"\\\\1\">\\n    <title\\n       id=\"title-\\\\5\">\\\\6</title>\\n    <path\\n       id=\"path-\\\\5\"\\n       class=\"\\\\2\"\\n       '\n",
    "repl_str += 'd=\"\\\\3\"\\\\4 />\\n  </g>'\n",
    "svg_str = title_regex.sub(repl_str, svg_str)\n",
    "file_path = r'C:\\Users\\daveb\\OneDrive\\Documents\\GitHub\\StatsByCountry\\saves\\svg\\BlankMap-World_save_as_titled.svg'\n",
    "with open(file_path, 'w') as f:\n",
    "    f.write(svg_str)"
   ]
  },
  {
   "cell_type": "code",
   "execution_count": 67,
   "id": "c4803ef1-97e1-42e7-89dd-c78764f4cf7a",
   "metadata": {},
   "outputs": [],
   "source": [
    "\n",
    "file_path = r'C:\\Users\\daveb\\OneDrive\\Documents\\GitHub\\StatsByCountry\\saves\\svg\\BlankMap-World_save_as.svg'\n",
    "with open(file_path, 'r') as f:\n",
    "    svg_str = f.read()\n",
    "pattern_str = r'<path\\s+id=\"([^-\"]+)\"\\s+class=\"([^\"]+)\"\\s+d=\"([^\"]+)\"([^>]*)>\\s+<title\\s+id=\"title-([^\"]+)\">([^><]+)</title>\\s+'\n",
    "pattern_str += r'<!--([^-]+)-->\\s+</path>'\n",
    "title_regex = re.compile(pattern_str)\n",
    "repl_str = '<g\\n     id=\"\\\\1\">\\n    <!--\\\\7-->\\n    <title\\n       id=\"title-\\\\5\">\\\\6</title>\\n    <path\\n       id=\"path-\\\\5\"\\n       '\n",
    "repl_str += 'class=\"\\\\2\"\\n       d=\"\\\\3\"\\\\4 />\\n  </g>'\n",
    "svg_str = title_regex.sub(repl_str, svg_str)\n",
    "file_path = r'C:\\Users\\daveb\\OneDrive\\Documents\\GitHub\\StatsByCountry\\saves\\svg\\BlankMap-World_save_as_titled.svg'\n",
    "with open(file_path, 'w') as f:\n",
    "    f.write(svg_str)"
   ]
  },
  {
   "cell_type": "code",
   "execution_count": 95,
   "id": "bd5deba2-2ed6-488f-98f4-6303fef9d966",
   "metadata": {},
   "outputs": [],
   "source": [
    "\n",
    "file_path = r'C:\\Users\\daveb\\OneDrive\\Documents\\GitHub\\StatsByCountry\\saves\\svg\\BlankMap-World_save_as.svg'\n",
    "with open(file_path, 'r') as f:\n",
    "    svg_str = f.read()\n",
    "g_regex = re.compile(r'<g(\\s+)id=\"path-')\n",
    "svg_str = g_regex.sub(r'<g\\1id=\"group-', svg_str)\n",
    "file_path = r'C:\\Users\\daveb\\OneDrive\\Documents\\GitHub\\StatsByCountry\\saves\\svg\\BlankMap-World_save_as_titled.svg'\n",
    "with open(file_path, 'w') as f:\n",
    "    f.write(svg_str)"
   ]
  },
  {
   "cell_type": "code",
   "execution_count": 100,
   "id": "1b69fb49-8a93-4adb-8d64-91cfe7d8b9d1",
   "metadata": {},
   "outputs": [],
   "source": [
    "\n",
    "file_path = r'C:\\Users\\daveb\\OneDrive\\Documents\\GitHub\\StatsByCountry\\saves\\svg\\BlankMap-World_save_as.svg'\n",
    "with open(file_path, 'r') as f:\n",
    "    svg_str = f.read()\n",
    "gp_regex = re.compile(r'<g(\\s+)id=\"group-([^\"]+)\"(\\s+)class=\"([^\"]+)\">(\\s+)<path(\\s+)id=\"path\\d+\"')\n",
    "svg_str = gp_regex.sub(r'<g\\g<1>id=\"group-\\g<2>\"\\g<3>class=\"\\g<4>\">\\g<5><path\\g<6>id=\"path-\\g<2>01\"', svg_str)\n",
    "file_path = r'C:\\Users\\daveb\\OneDrive\\Documents\\GitHub\\StatsByCountry\\saves\\svg\\BlankMap-World_save_as_titled.svg'\n",
    "with open(file_path, 'w') as f:\n",
    "    f.write(svg_str)"
   ]
  },
  {
   "cell_type": "code",
   "execution_count": 107,
   "id": "329cd559-c265-4393-9f26-8a4f6b84fbb7",
   "metadata": {},
   "outputs": [],
   "source": [
    "\n",
    "file_path = r'C:\\Users\\daveb\\OneDrive\\Documents\\GitHub\\StatsByCountry\\saves\\svg\\BlankMap-World_save_as.svg'\n",
    "with open(file_path, 'r') as f:\n",
    "    svg_str = f.read()\n",
    "for i in range(1, 18):\n",
    "    gp2_regex = re.compile(rf'<path(\\s+)id=\"path-([^\"]+){i:02}\"([^>]+)>(\\s+)<path(\\s+)id=\"path\\d+\"')\n",
    "    svg_str = gp2_regex.sub(rf'<path\\g<1>id=\"path-\\g<2>{i:02}\"\\g<3>>\\g<4><path\\g<5>id=\"path-\\g<2>{i+1:02}\"', svg_str)\n",
    "file_path = r'C:\\Users\\daveb\\OneDrive\\Documents\\GitHub\\StatsByCountry\\saves\\svg\\BlankMap-World_save_as_titled.svg'\n",
    "with open(file_path, 'w') as f:\n",
    "    f.write(svg_str)"
   ]
  },
  {
   "cell_type": "code",
   "execution_count": 121,
   "id": "a7edcedc-f2b4-416e-aea1-507d228766e0",
   "metadata": {},
   "outputs": [],
   "source": [
    "\n",
    "file_path = r'C:\\Users\\daveb\\OneDrive\\Documents\\GitHub\\StatsByCountry\\saves\\svg\\BlankMap-World_save_as.svg'\n",
    "with open(file_path, 'r') as f:\n",
    "    svg_str = f.read()\n",
    "gp1_regex = re.compile(r'<title(\\s+)id=\"title-([^\"]+)\">([^><]+)</title>(\\s+)<path(\\s+)id=\"path\\d+\"')\n",
    "svg_str = gp1_regex.sub(r'<title\\g<1>id=\"title-\\g<2>\">\\g<3></title>\\g<4><path\\g<5>id=\"path-\\g<2>01\"', svg_str)\n",
    "file_path = r'C:\\Users\\daveb\\OneDrive\\Documents\\GitHub\\StatsByCountry\\saves\\svg\\BlankMap-World_save_as_titled.svg'\n",
    "with open(file_path, 'w') as f:\n",
    "    f.write(svg_str)"
   ]
  },
  {
   "cell_type": "code",
   "execution_count": 124,
   "id": "46fb3e15-7658-4d02-a7e4-3e2295b4d766",
   "metadata": {},
   "outputs": [],
   "source": [
    "\n",
    "file_path = r'C:\\Users\\daveb\\OneDrive\\Documents\\GitHub\\StatsByCountry\\saves\\svg\\BlankMap-World_save_as.svg'\n",
    "with open(file_path, 'r') as f:\n",
    "    svg_str = f.read()\n",
    "gp1_regex = re.compile(r'id=\"path-([a-z-]+)([01][0-9])\"')\n",
    "svg_str = gp1_regex.sub(r'id=\"path-\\g<1>0\\g<2>\"', svg_str)\n",
    "file_path = r'C:\\Users\\daveb\\OneDrive\\Documents\\GitHub\\StatsByCountry\\saves\\svg\\BlankMap-World_save_as_titled.svg'\n",
    "with open(file_path, 'w') as f:\n",
    "    f.write(svg_str)"
   ]
  },
  {
   "cell_type": "code",
   "execution_count": 197,
   "id": "2771c44f-f7e5-42ee-ae1f-a5cdd1c64361",
   "metadata": {},
   "outputs": [],
   "source": [
    "\n",
    "file_path = r'C:\\Users\\daveb\\OneDrive\\Documents\\GitHub\\StatsByCountry\\saves\\svg\\BlankMap-World_save_as.svg'\n",
    "with open(file_path, 'r') as f:\n",
    "    svg_str = f.read()\n",
    "gp_regex = re.compile(r'<title(\\s+)id=\"title-([^\"]+)\">([^><]+)</title>(\\s+)<!--([^-]+)-->(\\s+)<g(\\s+)id=\"[a-z]{2}-\"')\n",
    "svg_str = gp_regex.sub(r'<title\\g<1>id=\"title-\\g<2>\">\\g<3></title>\\g<4><!--\\g<5>-->\\g<6><g\\g<7>id=\"group-\\g<2>\"', svg_str)\n",
    "file_path = r'C:\\Users\\daveb\\OneDrive\\Documents\\GitHub\\StatsByCountry\\saves\\svg\\BlankMap-World_save_as_titled.svg'\n",
    "with open(file_path, 'w') as f:\n",
    "    f.write(svg_str)"
   ]
  },
  {
   "cell_type": "code",
   "execution_count": 198,
   "id": "dd2461df-85b3-4156-b24d-0265ba6ee6f7",
   "metadata": {},
   "outputs": [],
   "source": [
    "\n",
    "file_path = r'C:\\Users\\daveb\\OneDrive\\Documents\\GitHub\\StatsByCountry\\saves\\svg\\BlankMap-World_save_as.svg'\n",
    "with open(file_path, 'r') as f:\n",
    "    svg_str = f.read()\n",
    "for i in range(1, 300):\n",
    "    gp_regex = re.compile(rf'<path(\\s+)id=\"path-([^\"]+){i:03}\"([^><]+)>(\\s+)<path(\\s+)id=\"path\\d+\"')\n",
    "    svg_str = gp_regex.sub(rf'<path\\g<1>id=\"path-\\g<2>{i:03}\"\\g<3>>\\g<4><path\\g<5>id=\"path-\\g<2>{i+1:03}\"', svg_str)\n",
    "file_path = r'C:\\Users\\daveb\\OneDrive\\Documents\\GitHub\\StatsByCountry\\saves\\svg\\BlankMap-World_save_as_titled.svg'\n",
    "with open(file_path, 'w') as f:\n",
    "    f.write(svg_str)"
   ]
  },
  {
   "cell_type": "markdown",
   "id": "69e29170-ccd0-4232-9b1b-1ccf218822e7",
   "metadata": {},
   "source": [
    "\n",
    "----\n",
    "# Extract the Paths from the SVG"
   ]
  },
  {
   "cell_type": "code",
   "execution_count": 208,
   "id": "a67496f7-5afd-4a81-b3fd-c705a65ad1f0",
   "metadata": {},
   "outputs": [],
   "source": [
    "\n",
    "# Extract the paths from the SVG\n",
    "import xml.etree.ElementTree as et\n",
    "import pandas as pd\n",
    "\n",
    "file_path = r'C:\\Users\\daveb\\OneDrive\\Documents\\GitHub\\StatsByCountry\\saves\\svg\\BlankMap-World_save_as.svg'\n",
    "root = et.parse(file_path).getroot()\n",
    "rows_list = []\n",
    "for el in root.iter():\n",
    "    rows_list.append(el.attrib)\n",
    "df = pd.DataFrame(rows_list).rename(columns={\n",
    "    'width': 'svg_width',\n",
    "    '{http://www.inkscape.org/namespaces/inkscape}version': 'inkscape_version',\n",
    "    'height': 'svg_height',\n",
    "    'id': 'svg_id',\n",
    "    '{http://sodipodi.sourceforge.net/DTD/sodipodi-0.dtd}docname': 'sodipodi_docname',\n",
    "    'version': 'svg_version',\n",
    "    'viewBox': 'svg_viewBox',\n",
    "    'bordercolor': 'svg_bordercolor',\n",
    "    'borderopacity': 'svg_borderopacity',\n",
    "    '{http://www.inkscape.org/namespaces/inkscape}current-layer': 'inkscape_current_layer',\n",
    "    '{http://www.inkscape.org/namespaces/inkscape}cx': 'inkscape_cx',\n",
    "    '{http://www.inkscape.org/namespaces/inkscape}cy': 'inkscape_cy',\n",
    "    '{http://www.inkscape.org/namespaces/inkscape}pagecheckerboard': 'inkscape_pagecheckerboard',\n",
    "    '{http://www.inkscape.org/namespaces/inkscape}pageopacity': 'inkscape_pageopacity',\n",
    "    '{http://www.inkscape.org/namespaces/inkscape}pageshadow': 'inkscape_pageshadow',\n",
    "    '{http://www.inkscape.org/namespaces/inkscape}window-height': 'inkscape_window_height',\n",
    "    '{http://www.inkscape.org/namespaces/inkscape}window-maximized': 'inkscape_window_maximized',\n",
    "    '{http://www.inkscape.org/namespaces/inkscape}window-width': 'inkscape_window_width',\n",
    "    '{http://www.inkscape.org/namespaces/inkscape}window-x': 'inkscape_window_x',\n",
    "    '{http://www.inkscape.org/namespaces/inkscape}window-y': 'inkscape_window_y',\n",
    "    '{http://www.inkscape.org/namespaces/inkscape}zoom': 'inkscape_zoom',\n",
    "    'pagecolor': 'svg_pagecolor',\n",
    "    'showgrid': 'svg_showgrid',\n",
    "    'type': 'svg_type',\n",
    "    'd': 'svg_d',\n",
    "    'style': 'svg_style',\n",
    "    '{http://www.inkscape.org/namespaces/inkscape}connector-curvature': 'inkscape_connector_curvature',\n",
    "    '{http://www.w3.org/1999/02/22-rdf-syntax-ns#}about': 'rdf_about',\n",
    "    '{http://www.w3.org/1999/02/22-rdf-syntax-ns#}resource': 'rdf_resource',\n",
    "    'x': 'svg_x',\n",
    "    'y': 'svg_y',\n",
    "    '{http://www.inkscape.org/namespaces/inkscape}label': 'inkscape_label',\n",
    "    '{http://sodipodi.sourceforge.net/DTD/sodipodi-0.dtd}insensitive': 'sodipodi_insensitive',\n",
    "    'data-id': 'svg_data_id',\n",
    "    'data-name': 'svg_data_name',\n",
    "    '{http://sodipodi.sourceforge.net/DTD/sodipodi-0.dtd}role': 'sodipodi_role',\n",
    "    'r': 'circle_radius',\n",
    "    'cx': 'center_x',\n",
    "    'cy': 'center_y',\n",
    "    'class': 'path_class'})"
   ]
  },
  {
   "cell_type": "code",
   "execution_count": 209,
   "id": "7bc0d825-b919-4aaf-9944-da06d7df0bcf",
   "metadata": {},
   "outputs": [],
   "source": [
    "\n",
    "%run ../load_magic/dataframes.py\n",
    "column_descriptions_df = get_column_descriptions(df, column_list=None)"
   ]
  },
  {
   "cell_type": "code",
   "execution_count": 210,
   "id": "f2fe70a4-ffd3-4601-a281-d1478ed899bc",
   "metadata": {},
   "outputs": [
    {
     "data": {
      "text/html": [
       "<div>\n",
       "<style scoped>\n",
       "    .dataframe tbody tr th:only-of-type {\n",
       "        vertical-align: middle;\n",
       "    }\n",
       "\n",
       "    .dataframe tbody tr th {\n",
       "        vertical-align: top;\n",
       "    }\n",
       "\n",
       "    .dataframe thead th {\n",
       "        text-align: right;\n",
       "    }\n",
       "</style>\n",
       "<table border=\"1\" class=\"dataframe\">\n",
       "  <thead>\n",
       "    <tr style=\"text-align: right;\">\n",
       "      <th></th>\n",
       "      <th>column_name</th>\n",
       "      <th>dtype</th>\n",
       "      <th>count_blanks</th>\n",
       "      <th>count_uniques</th>\n",
       "      <th>count_zeroes</th>\n",
       "      <th>has_dates</th>\n",
       "      <th>min_value</th>\n",
       "      <th>max_value</th>\n",
       "      <th>only_integers</th>\n",
       "    </tr>\n",
       "  </thead>\n",
       "  <tbody>\n",
       "    <tr>\n",
       "      <th>3</th>\n",
       "      <td>svg_id</td>\n",
       "      <td>object</td>\n",
       "      <td>3</td>\n",
       "      <td>2874</td>\n",
       "      <td>0</td>\n",
       "      <td>False</td>\n",
       "      <td>Angola_Cabinda</td>\n",
       "      <td>zw</td>\n",
       "      <td>NaN</td>\n",
       "    </tr>\n",
       "    <tr>\n",
       "      <th>24</th>\n",
       "      <td>svg_d</td>\n",
       "      <td>object</td>\n",
       "      <td>663</td>\n",
       "      <td>2212</td>\n",
       "      <td>0</td>\n",
       "      <td>False</td>\n",
       "      <td>m 1005.94,815.96 c 1.08,-2.827 -1.86,-0.525 0,0</td>\n",
       "      <td>m 997.66,58.73 c 0.493,0.07 0.973,0.02 1.44,-0...</td>\n",
       "      <td>NaN</td>\n",
       "    </tr>\n",
       "    <tr>\n",
       "      <th>23</th>\n",
       "      <td>path_class</td>\n",
       "      <td>object</td>\n",
       "      <td>2446</td>\n",
       "      <td>421</td>\n",
       "      <td>0</td>\n",
       "      <td>False</td>\n",
       "      <td>antxx landxx coastxx aq</td>\n",
       "      <td>unxx ua xl</td>\n",
       "      <td>NaN</td>\n",
       "    </tr>\n",
       "    <tr>\n",
       "      <th>27</th>\n",
       "      <td>center_x</td>\n",
       "      <td>object</td>\n",
       "      <td>2773</td>\n",
       "      <td>101</td>\n",
       "      <td>0</td>\n",
       "      <td>True</td>\n",
       "      <td>101</td>\n",
       "      <td>926.524</td>\n",
       "      <td>False</td>\n",
       "    </tr>\n",
       "    <tr>\n",
       "      <th>26</th>\n",
       "      <td>center_y</td>\n",
       "      <td>object</td>\n",
       "      <td>2773</td>\n",
       "      <td>101</td>\n",
       "      <td>0</td>\n",
       "      <td>False</td>\n",
       "      <td>1123.85</td>\n",
       "      <td>933</td>\n",
       "      <td>False</td>\n",
       "    </tr>\n",
       "    <tr>\n",
       "      <th>25</th>\n",
       "      <td>circle_radius</td>\n",
       "      <td>object</td>\n",
       "      <td>2773</td>\n",
       "      <td>6</td>\n",
       "      <td>0</td>\n",
       "      <td>False</td>\n",
       "      <td>0.25</td>\n",
       "      <td>6</td>\n",
       "      <td>False</td>\n",
       "    </tr>\n",
       "    <tr>\n",
       "      <th>0</th>\n",
       "      <td>svg_version</td>\n",
       "      <td>object</td>\n",
       "      <td>2875</td>\n",
       "      <td>2</td>\n",
       "      <td>0</td>\n",
       "      <td>False</td>\n",
       "      <td>1.1</td>\n",
       "      <td>1.1</td>\n",
       "      <td>False</td>\n",
       "    </tr>\n",
       "    <tr>\n",
       "      <th>15</th>\n",
       "      <td>inkscape_cy</td>\n",
       "      <td>object</td>\n",
       "      <td>2875</td>\n",
       "      <td>2</td>\n",
       "      <td>0</td>\n",
       "      <td>False</td>\n",
       "      <td>558</td>\n",
       "      <td>558</td>\n",
       "      <td>False</td>\n",
       "    </tr>\n",
       "    <tr>\n",
       "      <th>22</th>\n",
       "      <td>svg_type</td>\n",
       "      <td>object</td>\n",
       "      <td>2875</td>\n",
       "      <td>2</td>\n",
       "      <td>0</td>\n",
       "      <td>False</td>\n",
       "      <td>text/css</td>\n",
       "      <td>text/css</td>\n",
       "      <td>NaN</td>\n",
       "    </tr>\n",
       "    <tr>\n",
       "      <th>21</th>\n",
       "      <td>inkscape_current_layer</td>\n",
       "      <td>object</td>\n",
       "      <td>2875</td>\n",
       "      <td>2</td>\n",
       "      <td>0</td>\n",
       "      <td>False</td>\n",
       "      <td>svg-world-map</td>\n",
       "      <td>svg-world-map</td>\n",
       "      <td>NaN</td>\n",
       "    </tr>\n",
       "    <tr>\n",
       "      <th>20</th>\n",
       "      <td>inkscape_window_maximized</td>\n",
       "      <td>object</td>\n",
       "      <td>2875</td>\n",
       "      <td>2</td>\n",
       "      <td>0</td>\n",
       "      <td>False</td>\n",
       "      <td>1</td>\n",
       "      <td>1</td>\n",
       "      <td>False</td>\n",
       "    </tr>\n",
       "    <tr>\n",
       "      <th>19</th>\n",
       "      <td>inkscape_window_y</td>\n",
       "      <td>object</td>\n",
       "      <td>2875</td>\n",
       "      <td>2</td>\n",
       "      <td>0</td>\n",
       "      <td>False</td>\n",
       "      <td>-9</td>\n",
       "      <td>-9</td>\n",
       "      <td>False</td>\n",
       "    </tr>\n",
       "    <tr>\n",
       "      <th>18</th>\n",
       "      <td>inkscape_window_x</td>\n",
       "      <td>object</td>\n",
       "      <td>2875</td>\n",
       "      <td>2</td>\n",
       "      <td>0</td>\n",
       "      <td>False</td>\n",
       "      <td>-9</td>\n",
       "      <td>-9</td>\n",
       "      <td>False</td>\n",
       "    </tr>\n",
       "    <tr>\n",
       "      <th>17</th>\n",
       "      <td>inkscape_window_height</td>\n",
       "      <td>object</td>\n",
       "      <td>2875</td>\n",
       "      <td>2</td>\n",
       "      <td>0</td>\n",
       "      <td>False</td>\n",
       "      <td>991</td>\n",
       "      <td>991</td>\n",
       "      <td>False</td>\n",
       "    </tr>\n",
       "    <tr>\n",
       "      <th>16</th>\n",
       "      <td>inkscape_window_width</td>\n",
       "      <td>object</td>\n",
       "      <td>2875</td>\n",
       "      <td>2</td>\n",
       "      <td>0</td>\n",
       "      <td>True</td>\n",
       "      <td>1920</td>\n",
       "      <td>1920</td>\n",
       "      <td>False</td>\n",
       "    </tr>\n",
       "    <tr>\n",
       "      <th>14</th>\n",
       "      <td>inkscape_cx</td>\n",
       "      <td>object</td>\n",
       "      <td>2875</td>\n",
       "      <td>2</td>\n",
       "      <td>0</td>\n",
       "      <td>False</td>\n",
       "      <td>1529.5</td>\n",
       "      <td>1529.5</td>\n",
       "      <td>False</td>\n",
       "    </tr>\n",
       "    <tr>\n",
       "      <th>1</th>\n",
       "      <td>svg_width</td>\n",
       "      <td>object</td>\n",
       "      <td>2875</td>\n",
       "      <td>2</td>\n",
       "      <td>0</td>\n",
       "      <td>False</td>\n",
       "      <td>2754</td>\n",
       "      <td>2754</td>\n",
       "      <td>False</td>\n",
       "    </tr>\n",
       "    <tr>\n",
       "      <th>13</th>\n",
       "      <td>inkscape_zoom</td>\n",
       "      <td>object</td>\n",
       "      <td>2875</td>\n",
       "      <td>2</td>\n",
       "      <td>0</td>\n",
       "      <td>False</td>\n",
       "      <td>1</td>\n",
       "      <td>1</td>\n",
       "      <td>False</td>\n",
       "    </tr>\n",
       "    <tr>\n",
       "      <th>12</th>\n",
       "      <td>svg_showgrid</td>\n",
       "      <td>object</td>\n",
       "      <td>2875</td>\n",
       "      <td>2</td>\n",
       "      <td>0</td>\n",
       "      <td>False</td>\n",
       "      <td>false</td>\n",
       "      <td>false</td>\n",
       "      <td>NaN</td>\n",
       "    </tr>\n",
       "    <tr>\n",
       "      <th>11</th>\n",
       "      <td>inkscape_pagecheckerboard</td>\n",
       "      <td>object</td>\n",
       "      <td>2875</td>\n",
       "      <td>2</td>\n",
       "      <td>0</td>\n",
       "      <td>False</td>\n",
       "      <td>0</td>\n",
       "      <td>0</td>\n",
       "      <td>False</td>\n",
       "    </tr>\n",
       "    <tr>\n",
       "      <th>10</th>\n",
       "      <td>inkscape_pageopacity</td>\n",
       "      <td>object</td>\n",
       "      <td>2875</td>\n",
       "      <td>2</td>\n",
       "      <td>0</td>\n",
       "      <td>False</td>\n",
       "      <td>0.0</td>\n",
       "      <td>0.0</td>\n",
       "      <td>False</td>\n",
       "    </tr>\n",
       "    <tr>\n",
       "      <th>9</th>\n",
       "      <td>inkscape_pageshadow</td>\n",
       "      <td>object</td>\n",
       "      <td>2875</td>\n",
       "      <td>2</td>\n",
       "      <td>0</td>\n",
       "      <td>False</td>\n",
       "      <td>2</td>\n",
       "      <td>2</td>\n",
       "      <td>False</td>\n",
       "    </tr>\n",
       "    <tr>\n",
       "      <th>8</th>\n",
       "      <td>svg_borderopacity</td>\n",
       "      <td>object</td>\n",
       "      <td>2875</td>\n",
       "      <td>2</td>\n",
       "      <td>0</td>\n",
       "      <td>False</td>\n",
       "      <td>1.0</td>\n",
       "      <td>1.0</td>\n",
       "      <td>False</td>\n",
       "    </tr>\n",
       "    <tr>\n",
       "      <th>7</th>\n",
       "      <td>svg_bordercolor</td>\n",
       "      <td>object</td>\n",
       "      <td>2875</td>\n",
       "      <td>2</td>\n",
       "      <td>0</td>\n",
       "      <td>False</td>\n",
       "      <td>#666666</td>\n",
       "      <td>#666666</td>\n",
       "      <td>NaN</td>\n",
       "    </tr>\n",
       "    <tr>\n",
       "      <th>6</th>\n",
       "      <td>svg_pagecolor</td>\n",
       "      <td>object</td>\n",
       "      <td>2875</td>\n",
       "      <td>2</td>\n",
       "      <td>0</td>\n",
       "      <td>False</td>\n",
       "      <td>#ffffff</td>\n",
       "      <td>#ffffff</td>\n",
       "      <td>NaN</td>\n",
       "    </tr>\n",
       "    <tr>\n",
       "      <th>5</th>\n",
       "      <td>inkscape_version</td>\n",
       "      <td>object</td>\n",
       "      <td>2875</td>\n",
       "      <td>2</td>\n",
       "      <td>0</td>\n",
       "      <td>False</td>\n",
       "      <td>1.1.2 (b8e25be833, 2022-02-05)</td>\n",
       "      <td>1.1.2 (b8e25be833, 2022-02-05)</td>\n",
       "      <td>NaN</td>\n",
       "    </tr>\n",
       "    <tr>\n",
       "      <th>4</th>\n",
       "      <td>sodipodi_docname</td>\n",
       "      <td>object</td>\n",
       "      <td>2875</td>\n",
       "      <td>2</td>\n",
       "      <td>0</td>\n",
       "      <td>False</td>\n",
       "      <td>BlankMap-World_save_as.svg</td>\n",
       "      <td>BlankMap-World_save_as.svg</td>\n",
       "      <td>NaN</td>\n",
       "    </tr>\n",
       "    <tr>\n",
       "      <th>2</th>\n",
       "      <td>svg_height</td>\n",
       "      <td>object</td>\n",
       "      <td>2875</td>\n",
       "      <td>2</td>\n",
       "      <td>0</td>\n",
       "      <td>False</td>\n",
       "      <td>1398</td>\n",
       "      <td>1398</td>\n",
       "      <td>False</td>\n",
       "    </tr>\n",
       "    <tr>\n",
       "      <th>28</th>\n",
       "      <td>rdf_about</td>\n",
       "      <td>object</td>\n",
       "      <td>2875</td>\n",
       "      <td>2</td>\n",
       "      <td>0</td>\n",
       "      <td>False</td>\n",
       "      <td></td>\n",
       "      <td></td>\n",
       "      <td>NaN</td>\n",
       "    </tr>\n",
       "  </tbody>\n",
       "</table>\n",
       "</div>"
      ],
      "text/plain": [
       "                  column_name   dtype  count_blanks  count_uniques  \\\n",
       "3                      svg_id  object             3           2874   \n",
       "24                      svg_d  object           663           2212   \n",
       "23                 path_class  object          2446            421   \n",
       "27                   center_x  object          2773            101   \n",
       "26                   center_y  object          2773            101   \n",
       "25              circle_radius  object          2773              6   \n",
       "0                 svg_version  object          2875              2   \n",
       "15                inkscape_cy  object          2875              2   \n",
       "22                   svg_type  object          2875              2   \n",
       "21     inkscape_current_layer  object          2875              2   \n",
       "20  inkscape_window_maximized  object          2875              2   \n",
       "19          inkscape_window_y  object          2875              2   \n",
       "18          inkscape_window_x  object          2875              2   \n",
       "17     inkscape_window_height  object          2875              2   \n",
       "16      inkscape_window_width  object          2875              2   \n",
       "14                inkscape_cx  object          2875              2   \n",
       "1                   svg_width  object          2875              2   \n",
       "13              inkscape_zoom  object          2875              2   \n",
       "12               svg_showgrid  object          2875              2   \n",
       "11  inkscape_pagecheckerboard  object          2875              2   \n",
       "10       inkscape_pageopacity  object          2875              2   \n",
       "9         inkscape_pageshadow  object          2875              2   \n",
       "8           svg_borderopacity  object          2875              2   \n",
       "7             svg_bordercolor  object          2875              2   \n",
       "6               svg_pagecolor  object          2875              2   \n",
       "5            inkscape_version  object          2875              2   \n",
       "4            sodipodi_docname  object          2875              2   \n",
       "2                  svg_height  object          2875              2   \n",
       "28                  rdf_about  object          2875              2   \n",
       "\n",
       "    count_zeroes  has_dates                                        min_value  \\\n",
       "3              0      False                                   Angola_Cabinda   \n",
       "24             0      False  m 1005.94,815.96 c 1.08,-2.827 -1.86,-0.525 0,0   \n",
       "23             0      False                          antxx landxx coastxx aq   \n",
       "27             0       True                                              101   \n",
       "26             0      False                                          1123.85   \n",
       "25             0      False                                             0.25   \n",
       "0              0      False                                              1.1   \n",
       "15             0      False                                              558   \n",
       "22             0      False                                         text/css   \n",
       "21             0      False                                    svg-world-map   \n",
       "20             0      False                                                1   \n",
       "19             0      False                                               -9   \n",
       "18             0      False                                               -9   \n",
       "17             0      False                                              991   \n",
       "16             0       True                                             1920   \n",
       "14             0      False                                           1529.5   \n",
       "1              0      False                                             2754   \n",
       "13             0      False                                                1   \n",
       "12             0      False                                            false   \n",
       "11             0      False                                                0   \n",
       "10             0      False                                              0.0   \n",
       "9              0      False                                                2   \n",
       "8              0      False                                              1.0   \n",
       "7              0      False                                          #666666   \n",
       "6              0      False                                          #ffffff   \n",
       "5              0      False                   1.1.2 (b8e25be833, 2022-02-05)   \n",
       "4              0      False                       BlankMap-World_save_as.svg   \n",
       "2              0      False                                             1398   \n",
       "28             0      False                                                    \n",
       "\n",
       "                                            max_value only_integers  \n",
       "3                                                  zw           NaN  \n",
       "24  m 997.66,58.73 c 0.493,0.07 0.973,0.02 1.44,-0...           NaN  \n",
       "23                                         unxx ua xl           NaN  \n",
       "27                                            926.524         False  \n",
       "26                                                933         False  \n",
       "25                                                  6         False  \n",
       "0                                                 1.1         False  \n",
       "15                                                558         False  \n",
       "22                                           text/css           NaN  \n",
       "21                                      svg-world-map           NaN  \n",
       "20                                                  1         False  \n",
       "19                                                 -9         False  \n",
       "18                                                 -9         False  \n",
       "17                                                991         False  \n",
       "16                                               1920         False  \n",
       "14                                             1529.5         False  \n",
       "1                                                2754         False  \n",
       "13                                                  1         False  \n",
       "12                                              false           NaN  \n",
       "11                                                  0         False  \n",
       "10                                                0.0         False  \n",
       "9                                                   2         False  \n",
       "8                                                 1.0         False  \n",
       "7                                             #666666           NaN  \n",
       "6                                             #ffffff           NaN  \n",
       "5                      1.1.2 (b8e25be833, 2022-02-05)           NaN  \n",
       "4                          BlankMap-World_save_as.svg           NaN  \n",
       "2                                                1398         False  \n",
       "28                                                              NaN  "
      ]
     },
     "execution_count": 210,
     "metadata": {},
     "output_type": "execute_result"
    }
   ],
   "source": [
    "\n",
    "column_descriptions_df.sort_values(['count_uniques'], ascending=[False])"
   ]
  },
  {
   "cell_type": "code",
   "execution_count": 211,
   "id": "63078876-e06d-42e8-b776-8c611bd31182",
   "metadata": {},
   "outputs": [
    {
     "data": {
      "text/html": [
       "<div>\n",
       "<style scoped>\n",
       "    .dataframe tbody tr th:only-of-type {\n",
       "        vertical-align: middle;\n",
       "    }\n",
       "\n",
       "    .dataframe tbody tr th {\n",
       "        vertical-align: top;\n",
       "    }\n",
       "\n",
       "    .dataframe thead th {\n",
       "        text-align: right;\n",
       "    }\n",
       "</style>\n",
       "<table border=\"1\" class=\"dataframe\">\n",
       "  <thead>\n",
       "    <tr style=\"text-align: right;\">\n",
       "      <th></th>\n",
       "      <th>svg_id</th>\n",
       "      <th>path_class</th>\n",
       "      <th>svg_d</th>\n",
       "    </tr>\n",
       "  </thead>\n",
       "  <tbody>\n",
       "    <tr>\n",
       "      <th>5</th>\n",
       "      <td>path-ocean</td>\n",
       "      <td>oceanxx</td>\n",
       "      <td>m 2178.51,22.652 c 23.09,8.443 46.07,17.268 68...</td>\n",
       "    </tr>\n",
       "    <tr>\n",
       "      <th>8</th>\n",
       "      <td>path-sudan</td>\n",
       "      <td>landxx sd</td>\n",
       "      <td>m 1489.21,614.522 c 0.31,-0.313 0.36,-0.917 0....</td>\n",
       "    </tr>\n",
       "    <tr>\n",
       "      <th>11</th>\n",
       "      <td>path-south-sudan</td>\n",
       "      <td>landxx ss</td>\n",
       "      <td>m 1485.36,624.71 c 0,0.448 -0.13,0.908 -0.13,1...</td>\n",
       "    </tr>\n",
       "    <tr>\n",
       "      <th>14</th>\n",
       "      <td>path-georgia</td>\n",
       "      <td>landxx ge</td>\n",
       "      <td>m 1584.34,323.668 c 0,-3.863 7.97,-0.314 9.49,...</td>\n",
       "    </tr>\n",
       "    <tr>\n",
       "      <th>17</th>\n",
       "      <td>path-abkhazia</td>\n",
       "      <td>limitxx ge xa</td>\n",
       "      <td>m 1584.34,323.668 c 1.64,0.234 2.06,2.064 3.79...</td>\n",
       "    </tr>\n",
       "    <tr>\n",
       "      <th>...</th>\n",
       "      <td>...</td>\n",
       "      <td>...</td>\n",
       "      <td>...</td>\n",
       "    </tr>\n",
       "    <tr>\n",
       "      <th>2854</th>\n",
       "      <td>path-holy-see</td>\n",
       "      <td>landxx va</td>\n",
       "      <td>m 1394.48,337.712 -0.1,0.03 -0.11,-0.04 0.1,-0...</td>\n",
       "    </tr>\n",
       "    <tr>\n",
       "      <th>2858</th>\n",
       "      <td>path-isle-of-man</td>\n",
       "      <td>landxx coastxx im</td>\n",
       "      <td>m 1281.85,233.982 c 0.89,-0.203 2.61,-0.724 3....</td>\n",
       "    </tr>\n",
       "    <tr>\n",
       "      <th>2862</th>\n",
       "      <td>path-guam</td>\n",
       "      <td>landxx coastxx gu</td>\n",
       "      <td>m 2398.42,584.046 c 0.25,-0.289 1.27,-2.729 1....</td>\n",
       "    </tr>\n",
       "    <tr>\n",
       "      <th>2866</th>\n",
       "      <td>path-singapore</td>\n",
       "      <td>landxx coastxx sg</td>\n",
       "      <td>m 2093.43,686.214 c -0.96,0.252 0.51,2.079 1.8...</td>\n",
       "    </tr>\n",
       "    <tr>\n",
       "      <th>2870</th>\n",
       "      <td>path-tokelau</td>\n",
       "      <td>landxx coastxx tk</td>\n",
       "      <td>m 2737.92,782.766 c -0.12,-0.1 0.18,-0.08 -0.1...</td>\n",
       "    </tr>\n",
       "  </tbody>\n",
       "</table>\n",
       "<p>329 rows × 3 columns</p>\n",
       "</div>"
      ],
      "text/plain": [
       "                svg_id         path_class  \\\n",
       "5           path-ocean            oceanxx   \n",
       "8           path-sudan          landxx sd   \n",
       "11    path-south-sudan          landxx ss   \n",
       "14        path-georgia          landxx ge   \n",
       "17       path-abkhazia      limitxx ge xa   \n",
       "...                ...                ...   \n",
       "2854     path-holy-see          landxx va   \n",
       "2858  path-isle-of-man  landxx coastxx im   \n",
       "2862         path-guam  landxx coastxx gu   \n",
       "2866    path-singapore  landxx coastxx sg   \n",
       "2870      path-tokelau  landxx coastxx tk   \n",
       "\n",
       "                                                  svg_d  \n",
       "5     m 2178.51,22.652 c 23.09,8.443 46.07,17.268 68...  \n",
       "8     m 1489.21,614.522 c 0.31,-0.313 0.36,-0.917 0....  \n",
       "11    m 1485.36,624.71 c 0,0.448 -0.13,0.908 -0.13,1...  \n",
       "14    m 1584.34,323.668 c 0,-3.863 7.97,-0.314 9.49,...  \n",
       "17    m 1584.34,323.668 c 1.64,0.234 2.06,2.064 3.79...  \n",
       "...                                                 ...  \n",
       "2854  m 1394.48,337.712 -0.1,0.03 -0.11,-0.04 0.1,-0...  \n",
       "2858  m 1281.85,233.982 c 0.89,-0.203 2.61,-0.724 3....  \n",
       "2862  m 2398.42,584.046 c 0.25,-0.289 1.27,-2.729 1....  \n",
       "2866  m 2093.43,686.214 c -0.96,0.252 0.51,2.079 1.8...  \n",
       "2870  m 2737.92,782.766 c -0.12,-0.1 0.18,-0.08 -0.1...  \n",
       "\n",
       "[329 rows x 3 columns]"
      ]
     },
     "execution_count": 211,
     "metadata": {},
     "output_type": "execute_result"
    }
   ],
   "source": [
    "\n",
    "mask_series = df.circle_radius.isnull() & ~df.path_class.isnull()\n",
    "df[mask_series].dropna(axis='columns', how='all')"
   ]
  },
  {
   "cell_type": "code",
   "execution_count": 212,
   "id": "288ca7fb-ad07-431b-8d9d-3ac625a0aad5",
   "metadata": {},
   "outputs": [
    {
     "data": {
      "text/html": [
       "<div>\n",
       "<style scoped>\n",
       "    .dataframe tbody tr th:only-of-type {\n",
       "        vertical-align: middle;\n",
       "    }\n",
       "\n",
       "    .dataframe tbody tr th {\n",
       "        vertical-align: top;\n",
       "    }\n",
       "\n",
       "    .dataframe thead th {\n",
       "        text-align: right;\n",
       "    }\n",
       "</style>\n",
       "<table border=\"1\" class=\"dataframe\">\n",
       "  <thead>\n",
       "    <tr style=\"text-align: right;\">\n",
       "      <th></th>\n",
       "    </tr>\n",
       "  </thead>\n",
       "  <tbody>\n",
       "  </tbody>\n",
       "</table>\n",
       "</div>"
      ],
      "text/plain": [
       "Empty DataFrame\n",
       "Columns: []\n",
       "Index: []"
      ]
     },
     "execution_count": 212,
     "metadata": {},
     "output_type": "execute_result"
    }
   ],
   "source": [
    "\n",
    "ending_regex = re.compile(r'path\\d+$')\n",
    "mask_series = df.svg_id.map(lambda x: bool(ending_regex.search(str(x))))\n",
    "df[mask_series].dropna(axis='columns', how='all')#.sort_values('path_class')"
   ]
  },
  {
   "cell_type": "code",
   "execution_count": null,
   "id": "a6c9792d-7667-4c2f-938f-035325d6adb4",
   "metadata": {},
   "outputs": [],
   "source": [
    "\n",
    "print(df.svg_id.unique().tolist())"
   ]
  },
  {
   "cell_type": "code",
   "execution_count": null,
   "id": "484fd33c-f681-4c74-97b7-0db58da0e23f",
   "metadata": {},
   "outputs": [],
   "source": [
    "\n",
    "df.columns.tolist()"
   ]
  },
  {
   "cell_type": "markdown",
   "id": "9fe8ddbb-40f1-46a3-878d-48c431f8ff53",
   "metadata": {},
   "source": [
    "----\n",
    "# Navigate the XML to get the Group IDs"
   ]
  },
  {
   "cell_type": "code",
   "execution_count": 218,
   "id": "7f74bcf8-d571-4c6b-9d5e-9638ca746b62",
   "metadata": {},
   "outputs": [
    {
     "name": "stdout",
     "output_type": "stream",
     "text": [
      "Pretty printing has been turned OFF\n"
     ]
    }
   ],
   "source": [
    "\n",
    "%pprint\n",
    "%run ../load_magic/dataframes.py\n",
    "\n",
    "page_soup = get_page_soup(file_path, verbose=True)"
   ]
  },
  {
   "cell_type": "code",
   "execution_count": 227,
   "id": "f1d4ab01-b381-4b90-aab9-5b17a11379ed",
   "metadata": {},
   "outputs": [
    {
     "name": "stdout",
     "output_type": "stream",
     "text": [
      "Pickling to C:\\Users\\daveb\\OneDrive\\Documents\\GitHub\\StatsByCountry\\saves\\pickle\\country_group_id_dict.pickle\n"
     ]
    }
   ],
   "source": [
    "\n",
    "group_tag_dict = {group_tag.find_next('title').text.strip(): group_tag.attrs['id'] for group_tag in page_soup.find_all('g')}\n",
    "s.store_objects(country_group_id_dict=group_tag_dict)"
   ]
  },
  {
   "cell_type": "code",
   "execution_count": 239,
   "id": "360cfdc7-6bc6-4c8f-94b9-11f35e09f134",
   "metadata": {},
   "outputs": [
    {
     "name": "stdout",
     "output_type": "stream",
     "text": [
      "Pickling to C:\\Users\\daveb\\OneDrive\\Documents\\GitHub\\StatsByCountry\\saves\\pickle\\country_group_id_dict.pickle\n"
     ]
    }
   ],
   "source": [
    "\n",
    "group_tag_dict[\"Saint Martin (French part)\"] = group_tag_dict.pop(\"Saint Martin (French Part)\")\n",
    "group_tag_dict[\"Korea (Democratic People's Republic of)\"] = group_tag_dict.pop(\"Korea, Democratic People's Republic of\")\n",
    "group_tag_dict[\"Sint Maarten (Dutch part)\"] = group_tag_dict.pop(\"Sint Maarten (Dutch Part)\")\n",
    "group_tag_dict[\"Venezuela (Bolivarian Republic of)\"] = group_tag_dict.pop(\"Venezuela, Bolivarian Republic of\")\n",
    "group_tag_dict[\"Bolivia (Plurinational State of)\"] = group_tag_dict.pop(\"Bolivia, Plurinational State of\")\n",
    "group_tag_dict[\"Micronesia (Federated States of)\"] = group_tag_dict.pop(\"Micronesia, Federated States of\")\n",
    "group_tag_dict[\"Iran (Islamic Republic of)\"] = group_tag_dict.pop(\"Iran, Islamic Republic of\")\n",
    "group_tag_dict[\"Virgin Islands (British)\"] = group_tag_dict.pop(\"Virgin Islands, British\")\n",
    "group_tag_dict[\"Virgin Islands (U.S.)\"] = group_tag_dict.pop(\"Virgin Islands, U.S.\")\n",
    "group_tag_dict[\"Côte d'Ivoire\"] = group_tag_dict.pop(\"Cote d'Ivoire\")\n",
    "group_tag_dict[\"Falkland Islands (Malvinas)\"] = group_tag_dict.pop(\"Falkland Islands (Islas Malvinas)\")\n",
    "group_tag_dict[\"North Macedonia\"] = group_tag_dict.pop(\"North Macedonia, Republic of\")\n",
    "group_tag_dict[\"Pitcairn\"] = group_tag_dict.pop(\"Pitcairn Islands\")\n",
    "group_tag_dict[\"Seychelles\"] = group_tag_dict.pop(\"Seychelles, Republic of\")\n",
    "group_tag_dict[\"Svalbard and Jan Mayen\"] = group_tag_dict.pop(\"Svalbard\")\n",
    "group_tag_dict[\"Brunei Darussalam\"] = group_tag_dict.pop(\"Brunei\")\n",
    "group_tag_dict[\"United Kingdom of Great Britain and Northern Ireland\"] = group_tag_dict.pop(\"United Kingdom\")\n",
    "s.store_objects(country_group_id_dict=group_tag_dict)"
   ]
  },
  {
   "cell_type": "code",
   "execution_count": 242,
   "id": "9bd4bac1-465b-452a-87c0-5a9fb19be3d4",
   "metadata": {},
   "outputs": [
    {
     "name": "stdout",
     "output_type": "stream",
     "text": [
      "Pickling to C:\\Users\\daveb\\OneDrive\\Documents\\GitHub\\StatsByCountry\\saves\\pickle\\country_group_id_dict.pickle\n"
     ]
    }
   ],
   "source": [
    "\n",
    "group_tag_dict[\"Somalia\"] = group_tag_dict.pop(\"Somaliland\")\n",
    "group_tag_dict[\"Congo, Democratic Republic of the\"] = group_tag_dict.pop(\"Congo, Republic of the\")\n",
    "group_tag_dict[\"Marshall Islands\"] = group_tag_dict.pop(\"Marshall Islands, Republic of the\")\n",
    "group_tag_dict[\"Palestine, State of\"] = group_tag_dict.pop(\"State of Palestine\")\n",
    "s.store_objects(country_group_id_dict=group_tag_dict)"
   ]
  },
  {
   "cell_type": "code",
   "execution_count": 245,
   "id": "90d2e58d-2c5e-4d6c-b86e-5b3b968f2bfe",
   "metadata": {},
   "outputs": [
    {
     "name": "stdout",
     "output_type": "stream",
     "text": [
      "Pickling to C:\\Users\\daveb\\OneDrive\\Documents\\GitHub\\StatsByCountry\\saves\\pickle\\country_group_id_dict.pickle\n"
     ]
    }
   ],
   "source": [
    "\n",
    "group_tag_dict[\"Viet Nam\"] = group_tag_dict.pop(\"Vietnam, Socialist Republic of\")\n",
    "s.store_objects(country_group_id_dict=group_tag_dict)"
   ]
  },
  {
   "cell_type": "code",
   "execution_count": 249,
   "id": "f12dde52-7ce5-4349-bf9b-88af2b18c2ee",
   "metadata": {},
   "outputs": [
    {
     "name": "stdout",
     "output_type": "stream",
     "text": [
      "Pickling to C:\\Users\\daveb\\OneDrive\\Documents\\GitHub\\StatsByCountry\\saves\\pickle\\country_group_id_dict.pickle\n"
     ]
    }
   ],
   "source": [
    "\n",
    "group_tag_dict[\"Taiwan, Province of China\"] = group_tag_dict.pop(\"Taiwan\")\n",
    "s.store_objects(country_group_id_dict=group_tag_dict)"
   ]
  },
  {
   "cell_type": "code",
   "execution_count": 251,
   "id": "12c8d727-fd24-4e83-85ab-02517b27d886",
   "metadata": {},
   "outputs": [
    {
     "data": {
      "text/plain": [
       "['country_name', 'year_code_established', 'cc_tld', 'iso_3166_2', 'code_notes', 'pwrindx_rank', 'short_form_name', 'pwrindx_score']"
      ]
     },
     "execution_count": 251,
     "metadata": {},
     "output_type": "execute_result"
    }
   ],
   "source": [
    "\n",
    "country_stats_df = s.load_object('country_stats_df')\n",
    "[cn for cn in country_stats_df.columns]"
   ]
  },
  {
   "cell_type": "code",
   "execution_count": 252,
   "id": "33d9973e-ba57-46e0-9fa2-1f22b7d866ea",
   "metadata": {},
   "outputs": [
    {
     "name": "stdout",
     "output_type": "stream",
     "text": [
      "group_tag_dict[\"Cabo Verde\"] = group_tag_dict.pop(\"Cape Verde\")\n",
      "group_tag_dict[\"Åland Islands\"] = group_tag_dict.pop(\"Cayman Islands\")\n",
      "group_tag_dict[\"Bouvet Island\"] = group_tag_dict.pop(\"Faroe Islands\")\n",
      "group_tag_dict[\"Congo\"] = group_tag_dict.pop(\"Togo\")\n",
      "group_tag_dict[\"Czechia\"] = group_tag_dict.pop(\"China\")\n",
      "group_tag_dict[\"Maldives\"] = group_tag_dict.pop(\"Mali\")\n",
      "group_tag_dict[\"United States Minor Outlying Islands\"] = group_tag_dict.pop(\"United States of America\")\n",
      "group_tag_dict[\"Holy See\"] = group_tag_dict.pop(\"Sweden\")\n"
     ]
    }
   ],
   "source": [
    "\n",
    "%run ../load_magic/lists.py\n",
    "\n",
    "typos_df = check_for_typos(country_stats_df.country_name, group_tag_dict.keys(), verbose=False)\n",
    "mask_series = (typos_df.max_similarity < 1.)\n",
    "for i, r in typos_df[mask_series].sort_values(['max_similarity', 'left_item', 'right_item'], ascending=[False, True, True]).iterrows():\n",
    "    print(f'''group_tag_dict[\"{r.left_item}\"] = group_tag_dict.pop(\"{r.right_item}\")''')"
   ]
  },
  {
   "cell_type": "code",
   "execution_count": 253,
   "id": "e5f42721-0e77-48c5-b3bb-2b32db39da61",
   "metadata": {},
   "outputs": [
    {
     "name": "stdout",
     "output_type": "stream",
     "text": [
      "Pickling to C:\\Users\\daveb\\OneDrive\\Documents\\GitHub\\StatsByCountry\\saves\\pickle\\country_group_id_dict.pickle\n"
     ]
    }
   ],
   "source": [
    "\n",
    "group_tag_dict[\"Cabo Verde\"] = group_tag_dict.pop(\"Cape Verde\")\n",
    "s.store_objects(country_group_id_dict=group_tag_dict)"
   ]
  },
  {
   "cell_type": "code",
   "execution_count": 254,
   "id": "263c1fc2-d817-4e45-9028-f35c073f8d69",
   "metadata": {},
   "outputs": [
    {
     "name": "stdout",
     "output_type": "stream",
     "text": [
      "group_tag_dict[\"Moldova, Republic of\"] = group_tag_dict.pop(\"Maldives, Republic of\")\n",
      "group_tag_dict[\"Korea, Republic of\"] = group_tag_dict.pop(\"Artsakh, Republic of\")\n",
      "group_tag_dict[\"Northern Mariana Islands\"] = group_tag_dict.pop(\"Southern Kuril Islands\")\n",
      "group_tag_dict[\"Lao People's Democratic Republic\"] = group_tag_dict.pop(\"Luhansk People's Republic\")\n",
      "group_tag_dict[\"Lao People's Democratic Republic\"] = group_tag_dict.pop(\"Sahrawi Arab Democratic Republic\")\n",
      "group_tag_dict[\"Albania\"] = group_tag_dict.pop(\"Abkhazia\")\n",
      "group_tag_dict[\"Korea (Democratic People's Republic of)\"] = group_tag_dict.pop(\"China, People's Republic of\")\n",
      "group_tag_dict[\"Lao People's Democratic Republic\"] = group_tag_dict.pop(\"Donetsk People's Republic\")\n",
      "group_tag_dict[\"South Africa\"] = group_tag_dict.pop(\"South Ossetia\")\n",
      "group_tag_dict[\"Central African Republic\"] = group_tag_dict.pop(\"Czech Republic\")\n",
      "group_tag_dict[\"Tunisia\"] = group_tag_dict.pop(\"Transnistria\")\n",
      "group_tag_dict[\"Armenia\"] = group_tag_dict.pop(\"Crimea\")\n",
      "group_tag_dict[\"Cyprus\"] = group_tag_dict.pop(\"Northern Cyprus\")\n",
      "group_tag_dict[\"Eswatini\"] = group_tag_dict.pop(\"Vatican City\")\n",
      "group_tag_dict[\"Lesotho\"] = group_tag_dict.pop(\"Kosovo\")\n",
      "group_tag_dict[\"Antigua and Barbuda\"] = group_tag_dict.pop(\"Azad Jammu and Kashmir\")\n",
      "group_tag_dict[\"Gibraltar\"] = group_tag_dict.pop(\"Gaza Strip\")\n"
     ]
    }
   ],
   "source": [
    "\n",
    "typos_df = check_for_typos(group_tag_dict.keys(), country_stats_df.country_name, verbose=False)\n",
    "mask_series = (typos_df.max_similarity < 1.)\n",
    "for i, r in typos_df[mask_series].sort_values(['max_similarity', 'right_item', 'left_item'], ascending=[False, True, True]).iterrows():\n",
    "    print(f'''group_tag_dict[\"{r.right_item}\"] = group_tag_dict.pop(\"{r.left_item}\")''')"
   ]
  },
  {
   "cell_type": "code",
   "execution_count": 265,
   "id": "e8da4c57-dbfb-4918-ae03-25ab85b2f0e2",
   "metadata": {},
   "outputs": [
    {
     "name": "stdout",
     "output_type": "stream",
     "text": [
      "group_tag_dict[\"Åland Islands\"] = group_tag_dict.pop(\"Cayman Islands\")\n",
      "group_tag_dict[\"Bouvet Island\"] = group_tag_dict.pop(\"Faroe Islands\")\n",
      "group_tag_dict[\"United States Minor Outlying Islands\"] = group_tag_dict.pop(\"Cocos (Keeling) Islands\")\n"
     ]
    }
   ],
   "source": [
    "\n",
    "%run ../load_magic/lists.py\n",
    "\n",
    "keyword = 'Island'\n",
    "typos_df = check_for_typos([cn for cn in country_stats_df.country_name if keyword in cn],\n",
    "                           [cn for cn in group_tag_dict.keys() if keyword in cn], verbose=False)\n",
    "mask_series = (typos_df.max_similarity < 1.)\n",
    "for i, r in typos_df[mask_series].sort_values(['max_similarity', 'left_item', 'right_item'], ascending=[False, True, True]).iterrows():\n",
    "    print(f'''group_tag_dict[\"{r.left_item}\"] = group_tag_dict.pop(\"{r.right_item}\")''')"
   ]
  },
  {
   "cell_type": "code",
   "execution_count": 272,
   "id": "d6ab11a6-6149-420a-a0f8-6999caf82fc3",
   "metadata": {},
   "outputs": [
    {
     "name": "stdout",
     "output_type": "stream",
     "text": [
      "group_tag_dict[\"Bouvet Island\"] = group_tag_dict.pop(\"Southern Kuril Islands\")\n",
      "group_tag_dict[\"Åland Islands\"] = group_tag_dict.pop(\"Southern Kuril Islands\")\n",
      "group_tag_dict[\"United States Minor Outlying Islands\"] = group_tag_dict.pop(\"Southern Kuril Islands\")\n",
      "group_tag_dict[\"Congo\"] = group_tag_dict.pop(\"Kosovo\")\n",
      "group_tag_dict[\"Holy See\"] = group_tag_dict.pop(\"South Ossetia\")\n"
     ]
    }
   ],
   "source": [
    "\n",
    "sd_set = set(group_tag_dict.keys()).symmetric_difference(set(country_stats_df.country_name))\n",
    "typos_df = check_for_typos(list(set(country_stats_df.country_name).intersection(sd_set)),\n",
    "                           list(set(group_tag_dict.keys()).intersection(sd_set)), verbose=False)\n",
    "for i, r in typos_df.sort_values(['max_similarity', 'left_item', 'right_item'], ascending=[False, True, True]).iterrows():\n",
    "    print(f'''group_tag_dict[\"{r.left_item}\"] = group_tag_dict.pop(\"{r.right_item}\")''')"
   ]
  },
  {
   "cell_type": "code",
   "execution_count": 270,
   "id": "1ca8ba01-cb3e-4dd4-8e31-b1caa2159670",
   "metadata": {},
   "outputs": [
    {
     "name": "stdout",
     "output_type": "stream",
     "text": [
      "Pickling to C:\\Users\\daveb\\OneDrive\\Documents\\GitHub\\StatsByCountry\\saves\\pickle\\country_group_id_dict.pickle\n"
     ]
    }
   ],
   "source": [
    "\n",
    "group_tag_dict[\"Czechia\"] = group_tag_dict.pop(\"Czech Republic\")\n",
    "s.store_objects(country_group_id_dict=group_tag_dict)"
   ]
  },
  {
   "cell_type": "code",
   "execution_count": 271,
   "id": "81c9be01-4799-4de6-93ef-b8c93bbf39ce",
   "metadata": {},
   "outputs": [
    {
     "name": "stdout",
     "output_type": "stream",
     "text": [
      "Pickling to C:\\Users\\daveb\\OneDrive\\Documents\\GitHub\\StatsByCountry\\saves\\pickle\\country_group_id_dict.pickle\n"
     ]
    }
   ],
   "source": [
    "\n",
    "group_tag_dict[\"Maldives\"] = group_tag_dict.pop(\"Maldives, Republic of\")\n",
    "s.store_objects(country_group_id_dict=group_tag_dict)"
   ]
  },
  {
   "cell_type": "markdown",
   "id": "1fd37458-4b5a-4b0c-bfe0-358b78369dcd",
   "metadata": {},
   "source": [
    "\n",
    "----\n",
    "# Build Style Rules for coloring countries based of the Country Color Column"
   ]
  },
  {
   "cell_type": "code",
   "execution_count": 267,
   "id": "256186c2-6902-46ce-aa71-c9561140ed7c",
   "metadata": {},
   "outputs": [
    {
     "data": {
      "text/plain": [
       "['__and__', '__class__', '__class_getitem__', '__contains__', '__delattr__', '__dir__', '__doc__', '__eq__', '__format__', '__ge__', '__getattribute__', '__gt__', '__hash__', '__iand__', '__init__', '__init_subclass__', '__ior__', '__isub__', '__iter__', '__ixor__', '__le__', '__len__', '__lt__', '__ne__', '__new__', '__or__', '__rand__', '__reduce__', '__reduce_ex__', '__repr__', '__ror__', '__rsub__', '__rxor__', '__setattr__', '__sizeof__', '__str__', '__sub__', '__subclasshook__', '__xor__', 'add', 'clear', 'copy', 'difference', 'difference_update', 'discard', 'intersection', 'intersection_update', 'isdisjoint', 'issubset', 'issuperset', 'pop', 'remove', 'symmetric_difference', 'symmetric_difference_update', 'union', 'update']"
      ]
     },
     "execution_count": 267,
     "metadata": {},
     "output_type": "execute_result"
    }
   ],
   "source": [
    "\n",
    "dir(set)"
   ]
  },
  {
   "cell_type": "code",
   "execution_count": 4,
   "id": "1e9a624b-a43f-4228-8aa2-a78cabbaafa3",
   "metadata": {},
   "outputs": [
    {
     "name": "stdout",
     "output_type": "stream",
     "text": [
      "Pickling to C:\\Users\\daveb\\OneDrive\\Documents\\GitHub\\StatsByCountry\\saves\\pickle\\country_stats_df.pickle\n"
     ]
    }
   ],
   "source": [
    "\n",
    "country_stats_df = s.load_object('country_stats_df')\n",
    "country_stats_df = country_stats_df.merge(firepower_df, on=['country_name'], how='left')\n",
    "s.store_objects(country_stats_df=country_stats_df)"
   ]
  },
  {
   "cell_type": "code",
   "execution_count": null,
   "id": "433f064f-ab77-4c6a-9efe-2fb2bbef8cf7",
   "metadata": {},
   "outputs": [],
   "source": [
    "\n",
    "country_stats_df['country_group_id'] = country_stats_df."
   ]
  }
 ],
 "metadata": {
  "kernelspec": {
   "display_name": "Python 3 (ipykernel)",
   "language": "python",
   "name": "python3"
  },
  "language_info": {
   "codemirror_mode": {
    "name": "ipython",
    "version": 3
   },
   "file_extension": ".py",
   "mimetype": "text/x-python",
   "name": "python",
   "nbconvert_exporter": "python",
   "pygments_lexer": "ipython3",
   "version": "3.9.7"
  }
 },
 "nbformat": 4,
 "nbformat_minor": 5
}
