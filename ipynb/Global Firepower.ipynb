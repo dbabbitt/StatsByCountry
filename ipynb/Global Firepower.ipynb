{
 "cells": [
  {
   "cell_type": "code",
   "execution_count": 1,
   "id": "56ad408c-c152-47e2-97e0-45109ae077ea",
   "metadata": {},
   "outputs": [],
   "source": [
    "\n",
    "%run ../load_magic/dataframes.py\n",
    "%run ../load_magic/storage.py\n",
    "\n",
    "s = Storage()\n",
    "url = 'https://www.globalfirepower.com/countries-listing.php?fbclid=IwAR1s3IrCn2NAYKafbUPkWotw29IDBhZ9e86lyuxF9z3FEKHcA483SiTcTi4'\n",
    "table_dfs_list = []\n",
    "html_dir = os.path.join(s.data_folder, 'html')"
   ]
  },
  {
   "cell_type": "code",
   "execution_count": 2,
   "id": "f2b70293-daac-40bd-b625-2137683d61d3",
   "metadata": {},
   "outputs": [],
   "source": [
    "\n",
    "def get_rank_number(topRow_soup):\n",
    "    pwrindx_rank = 0\n",
    "    rankNumContainer_soups_list = topRow_soup.find_all('div', attrs={'class': ['rankNumContainer']})\n",
    "    for rankNumContainer_soup in rankNumContainer_soups_list:\n",
    "        pwrindx_rank = int(rankNumContainer_soup.text.strip())\n",
    "    \n",
    "    return pwrindx_rank"
   ]
  },
  {
   "cell_type": "code",
   "execution_count": 3,
   "id": "d61cae0b-6b21-455e-bad6-0bdddff19fed",
   "metadata": {},
   "outputs": [],
   "source": [
    "\n",
    "def get_form_name(countryName_soup, class_name):\n",
    "    form_name = ''\n",
    "    formName_soups_list = countryName_soup.find_all('div', attrs={'class': [class_name]})\n",
    "    for formName_soup in formName_soups_list:\n",
    "        form_name = formName_soup.text.strip()\n",
    "    \n",
    "    return form_name"
   ]
  },
  {
   "cell_type": "code",
   "execution_count": 4,
   "id": "c36bf7c6-bff7-4923-9b06-8c151a6a3426",
   "metadata": {},
   "outputs": [],
   "source": [
    "\n",
    "def get_power_index_score(div_soup):\n",
    "    pwrindx_score = 0.\n",
    "    bottomRow_soups_list = div_soup.find_all('div', attrs={'class': ['bottomRow']})\n",
    "    for bottomRow_soup in bottomRow_soups_list:\n",
    "        pwrIndxContainer_soups_list = bottomRow_soup.find_all('div', attrs={'class': ['pwrIndxContainer']})\n",
    "        for pwrIndxContainer_soup in pwrIndxContainer_soups_list:\n",
    "            pwrindx_score = float(pwrIndxContainer_soup.text.strip().split(': ')[-1])\n",
    "    \n",
    "    return pwrindx_score"
   ]
  },
  {
   "cell_type": "code",
   "execution_count": null,
   "id": "3eb46315-f7fb-41fc-ba86-c2701f9c8c93",
   "metadata": {},
   "outputs": [],
   "source": [
    "\n",
    "try:\n",
    "    table_dfs_list = get_page_tables(url)\n",
    "except urllib.error.HTTPError as e:\n",
    "    print(str(e).strip())\n",
    "    file_name = 'countries-listing.html'\n",
    "    file_path = os.path.join(html_dir, file_name)\n",
    "    try:\n",
    "        table_dfs_list = get_page_tables(file_path)\n",
    "    except ValueError as e:\n",
    "        print(str(e).strip())\n",
    "        page_soup = get_page_soup(file_path)\n",
    "        div_soups_list = page_soup.find_all('div', attrs={'class': ['picTrans', 'recordsetContainer', 'boxShadow']})\n",
    "        rows_list = []\n",
    "        for div_soup in div_soups_list:\n",
    "            row_dict = {}\n",
    "            topRow_soups_list = div_soup.find_all('div', attrs={'class': ['topRow']})\n",
    "            for topRow_soup in topRow_soups_list:\n",
    "                row_dict['pwrindx_rank'] = get_rank_number(topRow_soup)\n",
    "                countryName_soups_list = topRow_soup.find_all('div', attrs={'class': ['countryName']})\n",
    "                for countryName_soup in countryName_soups_list:\n",
    "                    row_dict['long_form_name'] = get_form_name(countryName_soup, 'longFormName')\n",
    "                    row_dict['short_form_name'] = get_form_name(countryName_soup, 'shortFormName')\n",
    "            row_dict['pwrindx_score'] = get_power_index_score(div_soup)\n",
    "            \n",
    "            rows_list.append(row_dict)\n",
    "except Exception as e:\n",
    "    print(f'{e.__class__} error: {str(e).strip()}')\n",
    "firepower_df = pd.DataFrame(rows_list).rename(columns={'long_form_name': 'country_name'})\n",
    "mask_series = (firepower_df.country_name == 'Vietnam')\n",
    "firepower_df.loc[mask_series, 'country_name'] = 'Viet Nam'\n",
    "mask_series = (firepower_df.country_name == 'Syria')\n",
    "firepower_df.loc[mask_series, 'country_name'] = 'Syrian Arab Republic'\n",
    "mask_series = (firepower_df.country_name == 'North Korea')\n",
    "firepower_df.loc[mask_series, 'country_name'] = \"Korea (Democratic People's Republic of)\"\n",
    "mask_series = (firepower_df.country_name == 'South Korea')\n",
    "firepower_df.loc[mask_series, 'country_name'] = 'Korea, Republic of'\n",
    "mask_series = (firepower_df.country_name == 'Moldova')\n",
    "firepower_df.loc[mask_series, 'country_name'] = 'Moldova, Republic of'\n",
    "mask_series = (firepower_df.country_name == 'Iran')\n",
    "firepower_df.loc[mask_series, 'country_name'] = 'Iran (Islamic Republic of)'\n",
    "mask_series = (firepower_df.country_name == 'Laos')\n",
    "firepower_df.loc[mask_series, 'country_name'] = \"Lao People's Democratic Republic\"\n",
    "mask_series = (firepower_df.country_name == 'Russia')\n",
    "firepower_df.loc[mask_series, 'country_name'] = 'Russian Federation'\n",
    "mask_series = (firepower_df.country_name == 'Taiwan')\n",
    "firepower_df.loc[mask_series, 'country_name'] = 'Taiwan, Province of China'\n",
    "mask_series = (firepower_df.country_name == 'United Kingdom')\n",
    "firepower_df.loc[mask_series, 'country_name'] = 'United Kingdom of Great Britain and Northern Ireland'\n",
    "s.store_objects(firepower_df=firepower_df)"
   ]
  },
  {
   "cell_type": "code",
   "execution_count": null,
   "id": "79e471f2-0514-4a5b-b971-72d5586f1097",
   "metadata": {},
   "outputs": [],
   "source": [
    "\n",
    "%run ../load_magic/lists.py\n",
    "\n",
    "eurasia_df = s.load_object('eurasia_df')"
   ]
  },
  {
   "cell_type": "raw",
   "id": "3a40fd6e-d572-4a9c-bc10-9756d919ba42",
   "metadata": {},
   "source": [
    "\n",
    "mask_series = (firepower_df.country_name == 'xxxxx')\n",
    "firepower_df.loc[mask_series, 'country_name'] = 'xxxxxx'"
   ]
  },
  {
   "cell_type": "code",
   "execution_count": null,
   "id": "2bea8fa7-63d4-47f8-a7cb-cb089b3e10a4",
   "metadata": {},
   "outputs": [],
   "source": [
    "\n",
    "typos_df = check_for_typos(eurasia_df.country_name.tolist(), firepower_df.country_name.tolist(), verbose=False)\n",
    "mask_series = (typos_df.max_similarity < 1.0)\n",
    "typos_df[mask_series].sort_values(['max_similarity'], ascending=[False])"
   ]
  },
  {
   "cell_type": "code",
   "execution_count": null,
   "id": "8f587c9f-91d7-4027-b24c-8b1ea0e57eb5",
   "metadata": {},
   "outputs": [],
   "source": [
    "\n",
    "typos_df = check_for_typos(firepower_df.country_name.tolist(), eurasia_df.country_name.tolist(), verbose=False)\n",
    "mask_series = (typos_df.max_similarity < 1.0)\n",
    "typos_df[mask_series].sort_values(['max_similarity'], ascending=[False])"
   ]
  },
  {
   "cell_type": "code",
   "execution_count": null,
   "id": "35946bb7-d6fc-4b01-b9b0-e63800da3205",
   "metadata": {},
   "outputs": [],
   "source": [
    "\n",
    "eurasia_df = s.load_object('eurasia_df')\n",
    "eurasia_df = eurasia_df.merge(firepower_df, on=['country_name'], how='left')\n",
    "s.store_objects(eurasia_df=eurasia_df)"
   ]
  },
  {
   "cell_type": "code",
   "execution_count": 3,
   "id": "40a3ab1f-6b03-4841-86fa-da5057718c61",
   "metadata": {},
   "outputs": [
    {
     "data": {
      "text/plain": [
       "{'country_name'}"
      ]
     },
     "execution_count": 3,
     "metadata": {},
     "output_type": "execute_result"
    }
   ],
   "source": [
    "\n",
    "%run ../load_magic/storage.py\n",
    "\n",
    "s = Storage()\n",
    "firepower_df = s.load_object('firepower_df')\n",
    "country_stats_df = s.load_object('country_stats_df')\n",
    "set(firepower_df.columns).intersection(set(country_stats_df.columns))"
   ]
  },
  {
   "cell_type": "code",
   "execution_count": 4,
   "id": "0c71524f-2b96-45cc-ab62-ccb3f52dee17",
   "metadata": {},
   "outputs": [
    {
     "name": "stdout",
     "output_type": "stream",
     "text": [
      "Pickling to C:\\Users\\daveb\\OneDrive\\Documents\\GitHub\\StatsByCountry\\saves\\pickle\\country_stats_df.pickle\n"
     ]
    }
   ],
   "source": [
    "\n",
    "country_stats_df = s.load_object('country_stats_df')\n",
    "country_stats_df = country_stats_df.merge(firepower_df, on=['country_name'], how='left')\n",
    "s.store_objects(country_stats_df=country_stats_df)"
   ]
  },
  {
   "cell_type": "code",
   "execution_count": null,
   "id": "1d6114a9-8613-4fc6-818b-ac12fdd40ea3",
   "metadata": {},
   "outputs": [],
   "source": []
  }
 ],
 "metadata": {
  "kernelspec": {
   "display_name": "Python 3 (ipykernel)",
   "language": "python",
   "name": "python3"
  },
  "language_info": {
   "codemirror_mode": {
    "name": "ipython",
    "version": 3
   },
   "file_extension": ".py",
   "mimetype": "text/x-python",
   "name": "python",
   "nbconvert_exporter": "python",
   "pygments_lexer": "ipython3",
   "version": "3.9.7"
  }
 },
 "nbformat": 4,
 "nbformat_minor": 5
}
