{
 "cells": [
  {
   "cell_type": "code",
   "execution_count": 11,
   "metadata": {},
   "outputs": [
    {
     "name": "stdout",
     "output_type": "stream",
     "text": [
      "['s.attempt_to_pickle', 's.data_csv_folder', 's.data_folder', 's.encoding_type', 's.load_csv', 's.load_dataframes', 's.load_object', 's.pickle_exists', 's.save_dataframes', 's.saves_csv_folder', 's.saves_folder', 's.saves_pickle_folder', 's.store_objects']\n"
     ]
    }
   ],
   "source": [
    "\n",
    "%run ../load_magic/storage.py\n",
    "import os\n",
    "\n",
    "s = Storage()\n",
    "print(['s.{}'.format(fn) for fn in dir(s) if not fn.startswith('_')])"
   ]
  },
  {
   "cell_type": "code",
   "execution_count": 3,
   "metadata": {},
   "outputs": [
    {
     "name": "stdout",
     "output_type": "stream",
     "text": [
      "s.load_object('eurasia_df') (82, 63)\n",
      "s.load_object('state_merge_df') (51, 73)\n",
      "s.load_object('us_stats_df') (51, 90)\n"
     ]
    }
   ],
   "source": [
    "\n",
    "pickle_name_list = []\n",
    "for sub_directory, directories_list, files_list in os.walk(s.saves_pickle_folder):\n",
    "    for file_name in files_list:\n",
    "        if file_name.endswith('_df.pickle'):\n",
    "            pickle_name = file_name.split('.')[0]\n",
    "            eval_str = f\"s.load_object('{pickle_name}')\"\n",
    "            df = eval(eval_str)\n",
    "            if 'outline_d' in df.columns:\n",
    "                print(eval_str, df.shape)\n",
    "                pickle_name_list.append(pickle_name)"
   ]
  },
  {
   "cell_type": "code",
   "execution_count": 12,
   "metadata": {},
   "outputs": [
    {
     "name": "stdout",
     "output_type": "stream",
     "text": [
      "s.load_object('all_countries_df', verbose=False) (248, 19)\n",
      "s.load_object('country_stats_df', verbose=False) (249, 5)\n",
      "s.load_object('eurasia_df', verbose=False) (82, 63)\n",
      "s.load_object('firepower_df', verbose=False) (142, 4)\n",
      "s.load_object('gdp_countries_df', verbose=False) (216, 8)\n",
      "s.load_object('military_expenditures_df', verbose=False) (141, 3)\n"
     ]
    }
   ],
   "source": [
    "\n",
    "pickle_name_list = []\n",
    "for sub_directory, directories_list, files_list in os.walk(s.saves_pickle_folder):\n",
    "    if '.ipynb_checkpoints' not in sub_directory:\n",
    "        for file_name in files_list:\n",
    "            if file_name.endswith('_df.pickle'):\n",
    "                pickle_name = file_name.split('.')[0]\n",
    "                eval_str = f\"s.load_object('{pickle_name}', verbose=False)\"\n",
    "                try:\n",
    "                    df = eval(eval_str)\n",
    "                    if 'country_name' in df.columns:\n",
    "                        print(eval_str, df.shape)\n",
    "                        pickle_name_list.append(pickle_name)\n",
    "                except Exception as e:\n",
    "                    print(f'{eval_str} gets an {e.__class__} error: {str(e).strip()}')\n",
    "                    continue"
   ]
  },
  {
   "cell_type": "code",
   "execution_count": 23,
   "metadata": {},
   "outputs": [
    {
     "name": "stdout",
     "output_type": "stream",
     "text": [
      "C:\\Users\\daveb\\OneDrive\\Documents\\GitHub\\covid19\\load_magic\\dataframes.py\n",
      "C:\\Users\\daveb\\OneDrive\\Documents\\GitHub\\job-hunting\\load_magic\\dataframes.py\n",
      "C:\\Users\\daveb\\OneDrive\\Documents\\GitHub\\MineCraft\\load_magic\\dataframes.py\n",
      "C:\\Users\\daveb\\OneDrive\\Documents\\GitHub\\notebooks\\load_magic\\dataframes.py\n",
      "C:\\Users\\daveb\\OneDrive\\Documents\\GitHub\\rpc\\load_magic\\dataframes.py\n",
      "C:\\Users\\daveb\\OneDrive\\Documents\\GitHub\\space-track-scenario\\load_magic\\dataframes.py\n",
      "C:\\Users\\daveb\\OneDrive\\Documents\\GitHub\\StatsByCountry\\load_magic\\dataframes.py\n",
      "C:\\Users\\daveb\\OneDrive\\Documents\\GitHub\\Strauss-Howe\\load_magic\\dataframes.py\n",
      "C:\\Users\\daveb\\OneDrive\\Documents\\GitHub\\Twitter\\load_magic\\dataframes.py\n",
      "C:\\Users\\daveb\\OneDrive\\Documents\\GitHub\\Wordle\\load_magic\\dataframes.py\n"
     ]
    }
   ],
   "source": [
    "\n",
    "for sub_directory, directories_list, files_list in os.walk(r'C:\\Users\\daveb\\OneDrive\\Documents\\GitHub'):\n",
    "    if (os.path.basename(sub_directory) == 'load_magic') and (not '_old' in sub_directory):\n",
    "        for file_name in files_list:\n",
    "            if(file_name == 'dataframes.py'):\n",
    "                file_path = os.path.join(sub_directory, file_name)\n",
    "                print(file_path)"
   ]
  },
  {
   "cell_type": "code",
   "execution_count": 22,
   "metadata": {},
   "outputs": [],
   "source": [
    "\n",
    "for sub_directory, directories_list, files_list in os.walk(r'C:\\Users\\daveb\\OneDrive\\Documents\\GitHub'):\n",
    "    base_name = os.path.basename(sub_directory)\n",
    "    dir_name = os.path.dirname(sub_directory)\n",
    "    if (base_name == 'pickle') and (os.path.basename(dir_name) == 'saves') and (not '_old' in sub_directory):\n",
    "        for file_name in files_list:\n",
    "            if(file_name.endswith('.pickle')):\n",
    "                src_path = os.path.join(sub_directory, file_name)\n",
    "                dst_path = os.path.join(sub_directory, file_name.replace('.pickle', '.pkl'))\n",
    "                os.rename(src_path, dst_path)\n",
    "        os.rename(sub_directory, sub_directory.replace('pickle', 'pkl'))"
   ]
  },
  {
   "cell_type": "code",
   "execution_count": 5,
   "metadata": {},
   "outputs": [
    {
     "name": "stdout",
     "output_type": "stream",
     "text": [
      "C:\\Users\\daveb\\OneDrive\\Documents\\GitHub\\job-hunting\\data\\secrets\\jh_secrets.json\n",
      "C:\\Users\\daveb\\OneDrive\\Documents\\GitHub\\job-hunting_old\\data\\secrets\\jh_secrets.json\n",
      "C:\\Users\\daveb\\OneDrive\\Documents\\GitHub\\notebooks\\data\\json\\secrets.json\n",
      "C:\\Users\\daveb\\OneDrive\\Documents\\GitHub\\RegHex\\.gf\\aws-secret-key.json\n",
      "C:\\Users\\daveb\\OneDrive\\Documents\\GitHub\\RegHex\\.gf\\facebook-secret-key.json\n",
      "C:\\Users\\daveb\\OneDrive\\Documents\\GitHub\\RegHex\\.gf\\linkedin-secret.json\n",
      "C:\\Users\\daveb\\OneDrive\\Documents\\GitHub\\RegHex\\.gf\\square-secret.json\n",
      "C:\\Users\\daveb\\OneDrive\\Documents\\GitHub\\RegHex\\.gf\\twitter-secret.json\n",
      "C:\\Users\\daveb\\OneDrive\\Documents\\GitHub\\rpc\\data\\secrets\\rpc_secrets.json\n",
      "C:\\Users\\daveb\\OneDrive\\Documents\\GitHub\\space-track-scenario\\data\\secrets\\aws_client_secrets.json\n",
      "C:\\Users\\daveb\\OneDrive\\Documents\\GitHub\\StatsByCountry\\data\\secrets\\rpc_secrets.json\n",
      "C:\\Users\\daveb\\OneDrive\\Documents\\GitHub\\Twitter\\data\\json\\secrets.json\n"
     ]
    }
   ],
   "source": [
    "\n",
    "for sub_directory, directories_list, files_list in os.walk(r'C:\\Users\\daveb\\OneDrive\\Documents\\GitHub'):\n",
    "    if '.ipynb_checkpoints' not in sub_directory:\n",
    "        for file_name in files_list:\n",
    "            if file_name.endswith('.json') and ('secret' in file_name.lower()):\n",
    "                file_path = os.path.join(sub_directory, file_name)\n",
    "                print(file_path)"
   ]
  },
  {
   "cell_type": "code",
   "execution_count": 3,
   "metadata": {},
   "outputs": [
    {
     "data": {
      "text/plain": [
       "['state_merge_df', 'us_stats_df']"
      ]
     },
     "execution_count": 3,
     "metadata": {},
     "output_type": "execute_result"
    }
   ],
   "source": [
    "\n",
    "pickle_name_list"
   ]
  },
  {
   "cell_type": "code",
   "execution_count": null,
   "metadata": {},
   "outputs": [],
   "source": [
    "\n",
    "%run ../load_magic/dataframes.py\n",
    "%run ../load_magic/paths.py\n",
    "%run ../load_magic/lists.py\n",
    "%run ../load_magic/environment.py\n",
    "%pprint\n",
    "notebook_path = get_notebook_path()\n",
    "print(notebook_path)\n",
    "[fn for fn in dir() if not fn.startswith('_')]"
   ]
  },
  {
   "cell_type": "code",
   "execution_count": null,
   "metadata": {},
   "outputs": [],
   "source": []
  }
 ],
 "metadata": {
  "kernelspec": {
   "display_name": "Python 3 (ipykernel)",
   "language": "python",
   "name": "python3"
  },
  "language_info": {
   "codemirror_mode": {
    "name": "ipython",
    "version": 3
   },
   "file_extension": ".py",
   "mimetype": "text/x-python",
   "name": "python",
   "nbconvert_exporter": "python",
   "pygments_lexer": "ipython3",
   "version": "3.9.7"
  }
 },
 "nbformat": 4,
 "nbformat_minor": 4
}
