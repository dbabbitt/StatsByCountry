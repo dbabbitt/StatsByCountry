{
 "cells": [
  {
   "cell_type": "code",
   "execution_count": 2,
   "metadata": {},
   "outputs": [
    {
     "name": "stdout",
     "output_type": "stream",
     "text": [
      "C:\\Users\\daveb\\OneDrive\\Documents\\GitHub\\job-hunting\\jh_env\\python.exe -m pip install pickle5 --upgrade\n",
      "Collecting pickle5\n",
      "  Using cached pickle5-0.0.11.tar.gz (132 kB)\n",
      "  Preparing metadata (setup.py): started\n",
      "  Preparing metadata (setup.py): finished with status 'done'\n",
      "Building wheels for collected packages: pickle5\n",
      "  Building wheel for pickle5 (setup.py): started\n",
      "  Building wheel for pickle5 (setup.py): finished with status 'error'\n",
      "  Running setup.py clean for pickle5\n",
      "Failed to build pickle5\n",
      "Installing collected packages: pickle5\n",
      "  Running setup.py install for pickle5: started\n",
      "  Running setup.py install for pickle5: finished with status 'error'\n"
     ]
    },
    {
     "name": "stderr",
     "output_type": "stream",
     "text": [
      "  error: subprocess-exited-with-error\n",
      "  \n",
      "  python setup.py bdist_wheel did not run successfully.\n",
      "  exit code: 1\n",
      "  \n",
      "  [38 lines of output]\n",
      "  running bdist_wheel\n",
      "  running build\n",
      "  running build_py\n",
      "  creating build\n",
      "  creating build\\lib.win-amd64-cpython-310\n",
      "  creating build\\lib.win-amd64-cpython-310\\pickle5\n",
      "  copying pickle5\\pickle.py -> build\\lib.win-amd64-cpython-310\\pickle5\n",
      "  copying pickle5\\pickletools.py -> build\\lib.win-amd64-cpython-310\\pickle5\n",
      "  copying pickle5\\__init__.py -> build\\lib.win-amd64-cpython-310\\pickle5\n",
      "  creating build\\lib.win-amd64-cpython-310\\pickle5\\test\n",
      "  copying pickle5\\test\\pickletester.py -> build\\lib.win-amd64-cpython-310\\pickle5\\test\n",
      "  copying pickle5\\test\\test_pickle.py -> build\\lib.win-amd64-cpython-310\\pickle5\\test\n",
      "  copying pickle5\\test\\test_picklebuffer.py -> build\\lib.win-amd64-cpython-310\\pickle5\\test\n",
      "  copying pickle5\\test\\__init__.py -> build\\lib.win-amd64-cpython-310\\pickle5\\test\n",
      "  running build_ext\n",
      "  building 'pickle5._pickle' extension\n",
      "  creating build\\temp.win-amd64-cpython-310\n",
      "  creating build\\temp.win-amd64-cpython-310\\Release\n",
      "  creating build\\temp.win-amd64-cpython-310\\Release\\pickle5\n",
      "  \"C:\\Program Files (x86)\\Microsoft Visual Studio\\2022\\BuildTools\\VC\\Tools\\MSVC\\14.35.32215\\bin\\HostX86\\x64\\cl.exe\" /c /nologo /O2 /W3 /GL /DNDEBUG /MD -IC:\\Users\\daveb\\OneDrive\\Documents\\GitHub\\job-hunting\\jh_env\\include -IC:\\Users\\daveb\\OneDrive\\Documents\\GitHub\\job-hunting\\jh_env\\Include \"-IC:\\Program Files (x86)\\Microsoft Visual Studio\\2022\\BuildTools\\VC\\Tools\\MSVC\\14.35.32215\\include\" \"-IC:\\Program Files (x86)\\Microsoft Visual Studio\\2022\\BuildTools\\VC\\Tools\\MSVC\\14.35.32215\\ATLMFC\\include\" \"-IC:\\Program Files (x86)\\Microsoft Visual Studio\\2022\\BuildTools\\VC\\Auxiliary\\VS\\include\" \"-IC:\\Program Files (x86)\\Windows Kits\\10\\include\\10.0.22000.0\\ucrt\" \"-IC:\\Program Files (x86)\\Windows Kits\\10\\\\include\\10.0.22000.0\\\\um\" \"-IC:\\Program Files (x86)\\Windows Kits\\10\\\\include\\10.0.22000.0\\\\shared\" \"-IC:\\Program Files (x86)\\Windows Kits\\10\\\\include\\10.0.22000.0\\\\winrt\" \"-IC:\\Program Files (x86)\\Windows Kits\\10\\\\include\\10.0.22000.0\\\\cppwinrt\" \"-IC:\\Program Files (x86)\\Windows Kits\\NETFXSDK\\4.8\\include\\um\" /Tcpickle5/_pickle.c /Fobuild\\temp.win-amd64-cpython-310\\Release\\pickle5/_pickle.obj\n",
      "  _pickle.c\n",
      "  \"C:\\Program Files (x86)\\Microsoft Visual Studio\\2022\\BuildTools\\VC\\Tools\\MSVC\\14.35.32215\\bin\\HostX86\\x64\\cl.exe\" /c /nologo /O2 /W3 /GL /DNDEBUG /MD -IC:\\Users\\daveb\\OneDrive\\Documents\\GitHub\\job-hunting\\jh_env\\include -IC:\\Users\\daveb\\OneDrive\\Documents\\GitHub\\job-hunting\\jh_env\\Include \"-IC:\\Program Files (x86)\\Microsoft Visual Studio\\2022\\BuildTools\\VC\\Tools\\MSVC\\14.35.32215\\include\" \"-IC:\\Program Files (x86)\\Microsoft Visual Studio\\2022\\BuildTools\\VC\\Tools\\MSVC\\14.35.32215\\ATLMFC\\include\" \"-IC:\\Program Files (x86)\\Microsoft Visual Studio\\2022\\BuildTools\\VC\\Auxiliary\\VS\\include\" \"-IC:\\Program Files (x86)\\Windows Kits\\10\\include\\10.0.22000.0\\ucrt\" \"-IC:\\Program Files (x86)\\Windows Kits\\10\\\\include\\10.0.22000.0\\\\um\" \"-IC:\\Program Files (x86)\\Windows Kits\\10\\\\include\\10.0.22000.0\\\\shared\" \"-IC:\\Program Files (x86)\\Windows Kits\\10\\\\include\\10.0.22000.0\\\\winrt\" \"-IC:\\Program Files (x86)\\Windows Kits\\10\\\\include\\10.0.22000.0\\\\cppwinrt\" \"-IC:\\Program Files (x86)\\Windows Kits\\NETFXSDK\\4.8\\include\\um\" /Tcpickle5/picklebufobject.c /Fobuild\\temp.win-amd64-cpython-310\\Release\\pickle5/picklebufobject.obj\n",
      "  picklebufobject.c\n",
      "  pickle5/picklebufobject.c(19): warning C4273: 'PyPickleBuffer_FromObject': inconsistent dll linkage\n",
      "  C:\\Users\\daveb\\OneDrive\\Documents\\GitHub\\job-hunting\\jh_env\\include\\cpython/picklebufobject.h(18): note: see previous definition of 'PyPickleBuffer_FromObject'\n",
      "  pickle5/picklebufobject.c(38): warning C4273: 'PyPickleBuffer_GetBuffer': inconsistent dll linkage\n",
      "  C:\\Users\\daveb\\OneDrive\\Documents\\GitHub\\job-hunting\\jh_env\\include\\cpython/picklebufobject.h(22): note: see previous definition of 'PyPickleBuffer_GetBuffer'\n",
      "  pickle5/picklebufobject.c(57): warning C4273: 'PyPickleBuffer_Release': inconsistent dll linkage\n",
      "  C:\\Users\\daveb\\OneDrive\\Documents\\GitHub\\job-hunting\\jh_env\\include\\cpython/picklebufobject.h(24): note: see previous definition of 'PyPickleBuffer_Release'\n",
      "  pickle5/picklebufobject.c(208): warning C4273: 'PyPickleBuffer_Type': inconsistent dll linkage\n",
      "  C:\\Users\\daveb\\OneDrive\\Documents\\GitHub\\job-hunting\\jh_env\\include\\cpython/picklebufobject.h(13): note: see previous definition of 'PyPickleBuffer_Type'\n",
      "  \"C:\\Program Files (x86)\\Microsoft Visual Studio\\2022\\BuildTools\\VC\\Tools\\MSVC\\14.35.32215\\bin\\HostX86\\x64\\link.exe\" /nologo /INCREMENTAL:NO /LTCG /DLL /MANIFEST:EMBED,ID=2 /MANIFESTUAC:NO /LIBPATH:C:\\Users\\daveb\\OneDrive\\Documents\\GitHub\\job-hunting\\jh_env\\libs /LIBPATH:C:\\Users\\daveb\\OneDrive\\Documents\\GitHub\\job-hunting\\jh_env /LIBPATH:C:\\Users\\daveb\\OneDrive\\Documents\\GitHub\\job-hunting\\jh_env\\PCbuild\\amd64 \"/LIBPATH:C:\\Program Files (x86)\\Microsoft Visual Studio\\2022\\BuildTools\\VC\\Tools\\MSVC\\14.35.32215\\lib\\x64\" \"/LIBPATH:C:\\Program Files (x86)\\Windows Kits\\NETFXSDK\\4.8\\lib\\um\\x64\" \"/LIBPATH:C:\\Program Files (x86)\\Windows Kits\\10\\lib\\10.0.22000.0\\ucrt\\x64\" \"/LIBPATH:C:\\Program Files (x86)\\Windows Kits\\10\\\\lib\\10.0.22000.0\\\\um\\x64\" /EXPORT:PyInit__pickle build\\temp.win-amd64-cpython-310\\Release\\pickle5/_pickle.obj build\\temp.win-amd64-cpython-310\\Release\\pickle5/picklebufobject.obj /OUT:build\\lib.win-amd64-cpython-310\\pickle5\\_pickle.cp310-win_amd64.pyd /IMPLIB:build\\temp.win-amd64-cpython-310\\Release\\pickle5\\_pickle.cp310-win_amd64.lib\n",
      "     Creating library build\\temp.win-amd64-cpython-310\\Release\\pickle5\\_pickle.cp310-win_amd64.lib and object build\\temp.win-amd64-cpython-310\\Release\\pickle5\\_pickle.cp310-win_amd64.exp\n",
      "  Generating code\n",
      "  Finished generating code\n",
      "  picklebufobject.obj : error LNK2005: PyPickleBuffer_GetBuffer already defined in python310.lib(python310.dll)\n",
      "  build\\lib.win-amd64-cpython-310\\pickle5\\_pickle.cp310-win_amd64.pyd : fatal error LNK1169: one or more multiply defined symbols found\n",
      "  error: command 'C:\\\\Program Files (x86)\\\\Microsoft Visual Studio\\\\2022\\\\BuildTools\\\\VC\\\\Tools\\\\MSVC\\\\14.35.32215\\\\bin\\\\HostX86\\\\x64\\\\link.exe' failed with exit code 1169\n",
      "  [end of output]\n",
      "  \n",
      "  note: This error originates from a subprocess, and is likely not a problem with pip.\n",
      "  ERROR: Failed building wheel for pickle5\n",
      "  error: subprocess-exited-with-error\n",
      "  \n",
      "  Running setup.py install for pickle5 did not run successfully.\n",
      "  exit code: 1\n",
      "  \n",
      "  [40 lines of output]\n",
      "  running install\n",
      "  C:\\Users\\daveb\\OneDrive\\Documents\\GitHub\\job-hunting\\jh_env\\lib\\site-packages\\setuptools\\command\\install.py:34: SetuptoolsDeprecationWarning: setup.py install is deprecated. Use build and pip and other standards-based tools.\n",
      "    warnings.warn(\n",
      "  running build\n",
      "  running build_py\n",
      "  creating build\n",
      "  creating build\\lib.win-amd64-cpython-310\n",
      "  creating build\\lib.win-amd64-cpython-310\\pickle5\n",
      "  copying pickle5\\pickle.py -> build\\lib.win-amd64-cpython-310\\pickle5\n",
      "  copying pickle5\\pickletools.py -> build\\lib.win-amd64-cpython-310\\pickle5\n",
      "  copying pickle5\\__init__.py -> build\\lib.win-amd64-cpython-310\\pickle5\n",
      "  creating build\\lib.win-amd64-cpython-310\\pickle5\\test\n",
      "  copying pickle5\\test\\pickletester.py -> build\\lib.win-amd64-cpython-310\\pickle5\\test\n",
      "  copying pickle5\\test\\test_pickle.py -> build\\lib.win-amd64-cpython-310\\pickle5\\test\n",
      "  copying pickle5\\test\\test_picklebuffer.py -> build\\lib.win-amd64-cpython-310\\pickle5\\test\n",
      "  copying pickle5\\test\\__init__.py -> build\\lib.win-amd64-cpython-310\\pickle5\\test\n",
      "  running build_ext\n",
      "  building 'pickle5._pickle' extension\n",
      "  creating build\\temp.win-amd64-cpython-310\n",
      "  creating build\\temp.win-amd64-cpython-310\\Release\n",
      "  creating build\\temp.win-amd64-cpython-310\\Release\\pickle5\n",
      "  \"C:\\Program Files (x86)\\Microsoft Visual Studio\\2022\\BuildTools\\VC\\Tools\\MSVC\\14.35.32215\\bin\\HostX86\\x64\\cl.exe\" /c /nologo /O2 /W3 /GL /DNDEBUG /MD -IC:\\Users\\daveb\\OneDrive\\Documents\\GitHub\\job-hunting\\jh_env\\include -IC:\\Users\\daveb\\OneDrive\\Documents\\GitHub\\job-hunting\\jh_env\\Include \"-IC:\\Program Files (x86)\\Microsoft Visual Studio\\2022\\BuildTools\\VC\\Tools\\MSVC\\14.35.32215\\include\" \"-IC:\\Program Files (x86)\\Microsoft Visual Studio\\2022\\BuildTools\\VC\\Tools\\MSVC\\14.35.32215\\ATLMFC\\include\" \"-IC:\\Program Files (x86)\\Microsoft Visual Studio\\2022\\BuildTools\\VC\\Auxiliary\\VS\\include\" \"-IC:\\Program Files (x86)\\Windows Kits\\10\\include\\10.0.22000.0\\ucrt\" \"-IC:\\Program Files (x86)\\Windows Kits\\10\\\\include\\10.0.22000.0\\\\um\" \"-IC:\\Program Files (x86)\\Windows Kits\\10\\\\include\\10.0.22000.0\\\\shared\" \"-IC:\\Program Files (x86)\\Windows Kits\\10\\\\include\\10.0.22000.0\\\\winrt\" \"-IC:\\Program Files (x86)\\Windows Kits\\10\\\\include\\10.0.22000.0\\\\cppwinrt\" \"-IC:\\Program Files (x86)\\Windows Kits\\NETFXSDK\\4.8\\include\\um\" /Tcpickle5/_pickle.c /Fobuild\\temp.win-amd64-cpython-310\\Release\\pickle5/_pickle.obj\n",
      "  _pickle.c\n",
      "  \"C:\\Program Files (x86)\\Microsoft Visual Studio\\2022\\BuildTools\\VC\\Tools\\MSVC\\14.35.32215\\bin\\HostX86\\x64\\cl.exe\" /c /nologo /O2 /W3 /GL /DNDEBUG /MD -IC:\\Users\\daveb\\OneDrive\\Documents\\GitHub\\job-hunting\\jh_env\\include -IC:\\Users\\daveb\\OneDrive\\Documents\\GitHub\\job-hunting\\jh_env\\Include \"-IC:\\Program Files (x86)\\Microsoft Visual Studio\\2022\\BuildTools\\VC\\Tools\\MSVC\\14.35.32215\\include\" \"-IC:\\Program Files (x86)\\Microsoft Visual Studio\\2022\\BuildTools\\VC\\Tools\\MSVC\\14.35.32215\\ATLMFC\\include\" \"-IC:\\Program Files (x86)\\Microsoft Visual Studio\\2022\\BuildTools\\VC\\Auxiliary\\VS\\include\" \"-IC:\\Program Files (x86)\\Windows Kits\\10\\include\\10.0.22000.0\\ucrt\" \"-IC:\\Program Files (x86)\\Windows Kits\\10\\\\include\\10.0.22000.0\\\\um\" \"-IC:\\Program Files (x86)\\Windows Kits\\10\\\\include\\10.0.22000.0\\\\shared\" \"-IC:\\Program Files (x86)\\Windows Kits\\10\\\\include\\10.0.22000.0\\\\winrt\" \"-IC:\\Program Files (x86)\\Windows Kits\\10\\\\include\\10.0.22000.0\\\\cppwinrt\" \"-IC:\\Program Files (x86)\\Windows Kits\\NETFXSDK\\4.8\\include\\um\" /Tcpickle5/picklebufobject.c /Fobuild\\temp.win-amd64-cpython-310\\Release\\pickle5/picklebufobject.obj\n",
      "  picklebufobject.c\n",
      "  pickle5/picklebufobject.c(19): warning C4273: 'PyPickleBuffer_FromObject': inconsistent dll linkage\n",
      "  C:\\Users\\daveb\\OneDrive\\Documents\\GitHub\\job-hunting\\jh_env\\include\\cpython/picklebufobject.h(18): note: see previous definition of 'PyPickleBuffer_FromObject'\n",
      "  pickle5/picklebufobject.c(38): warning C4273: 'PyPickleBuffer_GetBuffer': inconsistent dll linkage\n",
      "  C:\\Users\\daveb\\OneDrive\\Documents\\GitHub\\job-hunting\\jh_env\\include\\cpython/picklebufobject.h(22): note: see previous definition of 'PyPickleBuffer_GetBuffer'\n",
      "  pickle5/picklebufobject.c(57): warning C4273: 'PyPickleBuffer_Release': inconsistent dll linkage\n",
      "  C:\\Users\\daveb\\OneDrive\\Documents\\GitHub\\job-hunting\\jh_env\\include\\cpython/picklebufobject.h(24): note: see previous definition of 'PyPickleBuffer_Release'\n",
      "  pickle5/picklebufobject.c(208): warning C4273: 'PyPickleBuffer_Type': inconsistent dll linkage\n",
      "  C:\\Users\\daveb\\OneDrive\\Documents\\GitHub\\job-hunting\\jh_env\\include\\cpython/picklebufobject.h(13): note: see previous definition of 'PyPickleBuffer_Type'\n",
      "  \"C:\\Program Files (x86)\\Microsoft Visual Studio\\2022\\BuildTools\\VC\\Tools\\MSVC\\14.35.32215\\bin\\HostX86\\x64\\link.exe\" /nologo /INCREMENTAL:NO /LTCG /DLL /MANIFEST:EMBED,ID=2 /MANIFESTUAC:NO /LIBPATH:C:\\Users\\daveb\\OneDrive\\Documents\\GitHub\\job-hunting\\jh_env\\libs /LIBPATH:C:\\Users\\daveb\\OneDrive\\Documents\\GitHub\\job-hunting\\jh_env /LIBPATH:C:\\Users\\daveb\\OneDrive\\Documents\\GitHub\\job-hunting\\jh_env\\PCbuild\\amd64 \"/LIBPATH:C:\\Program Files (x86)\\Microsoft Visual Studio\\2022\\BuildTools\\VC\\Tools\\MSVC\\14.35.32215\\lib\\x64\" \"/LIBPATH:C:\\Program Files (x86)\\Windows Kits\\NETFXSDK\\4.8\\lib\\um\\x64\" \"/LIBPATH:C:\\Program Files (x86)\\Windows Kits\\10\\lib\\10.0.22000.0\\ucrt\\x64\" \"/LIBPATH:C:\\Program Files (x86)\\Windows Kits\\10\\\\lib\\10.0.22000.0\\\\um\\x64\" /EXPORT:PyInit__pickle build\\temp.win-amd64-cpython-310\\Release\\pickle5/_pickle.obj build\\temp.win-amd64-cpython-310\\Release\\pickle5/picklebufobject.obj /OUT:build\\lib.win-amd64-cpython-310\\pickle5\\_pickle.cp310-win_amd64.pyd /IMPLIB:build\\temp.win-amd64-cpython-310\\Release\\pickle5\\_pickle.cp310-win_amd64.lib\n",
      "     Creating library build\\temp.win-amd64-cpython-310\\Release\\pickle5\\_pickle.cp310-win_amd64.lib and object build\\temp.win-amd64-cpython-310\\Release\\pickle5\\_pickle.cp310-win_amd64.exp\n",
      "  Generating code\n",
      "  Finished generating code\n",
      "  picklebufobject.obj : error LNK2005: PyPickleBuffer_GetBuffer already defined in python310.lib(python310.dll)\n",
      "  build\\lib.win-amd64-cpython-310\\pickle5\\_pickle.cp310-win_amd64.pyd : fatal error LNK1169: one or more multiply defined symbols found\n",
      "  error: command 'C:\\\\Program Files (x86)\\\\Microsoft Visual Studio\\\\2022\\\\BuildTools\\\\VC\\\\Tools\\\\MSVC\\\\14.35.32215\\\\bin\\\\HostX86\\\\x64\\\\link.exe' failed with exit code 1169\n",
      "  [end of output]\n",
      "  \n",
      "  note: This error originates from a subprocess, and is likely not a problem with pip.\n",
      "error: legacy-install-failure\n",
      "\n",
      "Encountered error while trying to install package.\n",
      "\n",
      "pickle5\n",
      "\n",
      "note: This is an issue with the package mentioned above, not pip.\n",
      "hint: See above for output from the failure.\n"
     ]
    }
   ],
   "source": [
    "# %load ../load_magic/pip_install.txt\n",
    "\n",
    "import sys\n",
    "\n",
    "command_str = f'{sys.executable} -m pip install pickle5 --upgrade'# --force\n",
    "print(command_str)\n",
    "!{command_str}"
   ]
  },
  {
   "cell_type": "code",
   "execution_count": null,
   "metadata": {},
   "outputs": [],
   "source": [
    "\n",
    "import sys\n",
    "\n",
    "command_str = r'C:\\ProgramData\\Anaconda3\\python.exe -m pip install \"C:\\Users\\daveb\\Downloads\\Fiona-1.8.21-cp39-cp39-win_amd64.whl\"'\n",
    "print(command_str)\n",
    "!{command_str}"
   ]
  },
  {
   "cell_type": "code",
   "execution_count": 2,
   "metadata": {},
   "outputs": [
    {
     "name": "stdout",
     "output_type": "stream",
     "text": [
      "C:\\ProgramData\\Anaconda3\\python.exe -m pip uninstall tabula --yes\n",
      "Found existing installation: tabula 1.0.5\n",
      "Uninstalling tabula-1.0.5:\n",
      "  Successfully uninstalled tabula-1.0.5\n"
     ]
    }
   ],
   "source": [
    "# %load ../load_magic/pip_install.txt\n",
    "\n",
    "import sys\n",
    "\n",
    "command_str = f'{sys.executable} -m pip uninstall tabula --yes'\n",
    "print(command_str)\n",
    "!{command_str}"
   ]
  },
  {
   "cell_type": "code",
   "execution_count": 5,
   "metadata": {},
   "outputs": [
    {
     "name": "stdout",
     "output_type": "stream",
     "text": [
      "64\n"
     ]
    }
   ],
   "source": [
    "\n",
    "import struct\n",
    "print(struct.calcsize(\"P\") * 8)"
   ]
  },
  {
   "cell_type": "code",
   "execution_count": null,
   "metadata": {},
   "outputs": [],
   "source": []
  }
 ],
 "metadata": {
  "kernelspec": {
   "display_name": "Job Hunting (Python 3.10.9)",
   "language": "python",
   "name": "jh_env"
  },
  "language_info": {
   "codemirror_mode": {
    "name": "ipython",
    "version": 3
   },
   "file_extension": ".py",
   "mimetype": "text/x-python",
   "name": "python",
   "nbconvert_exporter": "python",
   "pygments_lexer": "ipython3",
   "version": "3.10.9"
  }
 },
 "nbformat": 4,
 "nbformat_minor": 4
}
