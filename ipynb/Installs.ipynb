{
 "cells": [
  {
   "cell_type": "raw",
   "id": "c93c518b-b210-4844-8e97-e33a85380fbf",
   "metadata": {},
   "source": [
    "\n",
    "PS C:\\Users\\daveb> flake8-nb --ignore=E231,E303,E401,E402,E501,E701,E702 --notebook-cell-format 'In[{code_cell_count}]' \"C:\\Users\\daveb\\OneDrive\\Documents\\GitHub\\notebooks\\ipynb\\Installs.ipynb\"\n",
    "PS C:\\Users\\daveb>"
   ]
  },
  {
   "cell_type": "code",
   "execution_count": 1,
   "id": "776c665e-653a-4fad-8de9-a644577fe329",
   "metadata": {
    "scrolled": true
   },
   "outputs": [
    {
     "name": "stdout",
     "output_type": "stream",
     "text": [
      "C:\\ProgramData\\anaconda3\\python.exe -m pip install colormath --upgrade\n",
      "Collecting colormath\n",
      "  Downloading colormath-3.0.0.tar.gz (39 kB)\n",
      "  Preparing metadata (setup.py): started\n",
      "  Preparing metadata (setup.py): finished with status 'done'\n",
      "Requirement already satisfied: numpy in c:\\programdata\\anaconda3\\lib\\site-packages (from colormath) (1.26.4)\n",
      "Requirement already satisfied: networkx>=2.0 in c:\\programdata\\anaconda3\\lib\\site-packages (from colormath) (3.3)\n",
      "Building wheels for collected packages: colormath\n",
      "  Building wheel for colormath (setup.py): started\n",
      "  Building wheel for colormath (setup.py): finished with status 'done'\n",
      "  Created wheel for colormath: filename=colormath-3.0.0-py3-none-any.whl size=39427 sha256=3aaf0c40eb4b0e03f66636df26ec86a8c0831419f44069746aa613dde17df07d\n",
      "  Stored in directory: c:\\users\\daveb\\appdata\\local\\pip\\cache\\wheels\\9a\\32\\6a\\605739a172d8112031c9875d744aef91709f00de9b3bbb9274\n",
      "Successfully built colormath\n",
      "Installing collected packages: colormath\n",
      "Successfully installed colormath-3.0.0\n"
     ]
    }
   ],
   "source": [
    "\n",
    "import sys\n",
    "import os.path as osp\n",
    "\n",
    "executable_path = sys.executable; scripts_folder = osp.join(osp.dirname(executable_path), 'Scripts')\n",
    "if (scripts_folder not in sys.path): sys.path.insert(1, scripts_folder)\n",
    "command_str = f'{executable_path} -m pip install colormath --upgrade'  # --quiet\n",
    "print(command_str)\n",
    "!{command_str}"
   ]
  },
  {
   "cell_type": "code",
   "execution_count": 2,
   "id": "b8605721-f64a-4e76-9b55-23302c04e866",
   "metadata": {},
   "outputs": [
    {
     "name": "stdout",
     "output_type": "stream",
     "text": [
      "C:\\ProgramData\\anaconda3\\python.exe -m pip show notebook\n",
      "Name: notebook\n",
      "Version: 7.3.1\n",
      "Summary: Jupyter Notebook - A web-based notebook environment for interactive computing\n",
      "Home-page: https://github.com/jupyter/notebook\n",
      "Author: \n",
      "Author-email: Jupyter Development Team <jupyter@googlegroups.com>\n",
      "License: BSD 3-Clause License\n",
      "\n",
      "- Copyright (c) 2001-2015, IPython Development Team\n",
      "- Copyright (c) 2015-, Jupyter Development Team\n",
      "\n",
      "All rights reserved.\n",
      "\n",
      "Redistribution and use in source and binary forms, with or without\n",
      "modification, are permitted provided that the following conditions are met:\n",
      "\n",
      "1. Redistributions of source code must retain the above copyright notice, this\n",
      "   list of conditions and the following disclaimer.\n",
      "\n",
      "2. Redistributions in binary form must reproduce the above copyright notice,\n",
      "   this list of conditions and the following disclaimer in the documentation\n",
      "   and/or other materials provided with the distribution.\n",
      "\n",
      "3. Neither the name of the copyright holder nor the names of its\n",
      "   contributors may be used to endorse or promote products derived from\n",
      "   this software without specific prior written permission.\n",
      "\n",
      "THIS SOFTWARE IS PROVIDED BY THE COPYRIGHT HOLDERS AND CONTRIBUTORS \"AS IS\"\n",
      "AND ANY EXPRESS OR IMPLIED WARRANTIES, INCLUDING, BUT NOT LIMITED TO, THE\n",
      "IMPLIED WARRANTIES OF MERCHANTABILITY AND FITNESS FOR A PARTICULAR PURPOSE ARE\n",
      "DISCLAIMED. IN NO EVENT SHALL THE COPYRIGHT HOLDER OR CONTRIBUTORS BE LIABLE\n",
      "FOR ANY DIRECT, INDIRECT, INCIDENTAL, SPECIAL, EXEMPLARY, OR CONSEQUENTIAL\n",
      "DAMAGES (INCLUDING, BUT NOT LIMITED TO, PROCUREMENT OF SUBSTITUTE GOODS OR\n",
      "SERVICES; LOSS OF USE, DATA, OR PROFITS; OR BUSINESS INTERRUPTION) HOWEVER\n",
      "CAUSED AND ON ANY THEORY OF LIABILITY, WHETHER IN CONTRACT, STRICT LIABILITY,\n",
      "OR TORT (INCLUDING NEGLIGENCE OR OTHERWISE) ARISING IN ANY WAY OUT OF THE USE\n",
      "OF THIS SOFTWARE, EVEN IF ADVISED OF THE POSSIBILITY OF SUCH DAMAGE.\n",
      "Location: C:\\Users\\daveb\\AppData\\Roaming\\Python\\Python312\\site-packages\n",
      "Requires: jupyter-server, jupyterlab, jupyterlab-server, notebook-shim, tornado\n",
      "Required-by: jupyter, widgetsnbextension\n"
     ]
    }
   ],
   "source": [
    "\n",
    "command_str = f'{executable_path} -m pip show notebook'\n",
    "print(command_str)\n",
    "!{command_str}"
   ]
  },
  {
   "cell_type": "code",
   "execution_count": null,
   "id": "latin-ability",
   "metadata": {},
   "outputs": [],
   "source": [
    "\n",
    "command_str = f'{executable_path} -m pip uninstall typing_extensions --yes'\n",
    "print(command_str)\n",
    "# !{command_str}"
   ]
  },
  {
   "cell_type": "code",
   "execution_count": null,
   "id": "5a405945-2475-4298-82fa-5827884b05dd",
   "metadata": {},
   "outputs": [],
   "source": [
    "\n",
    "command_str = rf'{sys.executable} -m pip install \"C:\\Users\\daveb\\Downloads\\GDAL-3.4.2-cp39-cp39-win_amd64.whl\"'\n",
    "print(command_str)\n",
    "!{command_str}"
   ]
  },
  {
   "cell_type": "code",
   "execution_count": null,
   "id": "driven-munich",
   "metadata": {},
   "outputs": [],
   "source": []
  }
 ],
 "metadata": {
  "kernelspec": {
   "display_name": "Python 3 (ipykernel)",
   "language": "python",
   "name": "python3"
  },
  "language_info": {
   "codemirror_mode": {
    "name": "ipython",
    "version": 3
   },
   "file_extension": ".py",
   "mimetype": "text/x-python",
   "name": "python",
   "nbconvert_exporter": "python",
   "pygments_lexer": "ipython3",
   "version": "3.12.3"
  }
 },
 "nbformat": 4,
 "nbformat_minor": 5
}
