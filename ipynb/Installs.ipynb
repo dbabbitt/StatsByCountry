{
 "cells": [
  {
   "cell_type": "code",
   "execution_count": 3,
   "metadata": {},
   "outputs": [
    {
     "name": "stdout",
     "output_type": "stream",
     "text": [
      "C:\\ProgramData\\Anaconda3\\python.exe -m pip install dimod --upgrade\n",
      "Requirement already satisfied: dimod in c:\\programdata\\anaconda3\\lib\\site-packages (0.10.15)\n",
      "Requirement already satisfied: pyparsing<3.0.0,>=2.4.7 in c:\\programdata\\anaconda3\\lib\\site-packages (from dimod) (2.4.7)\n",
      "Requirement already satisfied: numpy<2.0.0,>=1.19.1 in c:\\programdata\\anaconda3\\lib\\site-packages (from dimod) (1.20.3)\n"
     ]
    },
    {
     "name": "stderr",
     "output_type": "stream",
     "text": [
      "WARNING: Ignoring invalid distribution -ffi (c:\\programdata\\anaconda3\\lib\\site-packages)\n",
      "WARNING: Ignoring invalid distribution -ffi (c:\\programdata\\anaconda3\\lib\\site-packages)\n",
      "WARNING: Ignoring invalid distribution -ffi (c:\\programdata\\anaconda3\\lib\\site-packages)\n",
      "WARNING: Ignoring invalid distribution -ffi (c:\\programdata\\anaconda3\\lib\\site-packages)\n",
      "WARNING: Ignoring invalid distribution -ffi (c:\\programdata\\anaconda3\\lib\\site-packages)\n",
      "WARNING: Ignoring invalid distribution -ffi (c:\\programdata\\anaconda3\\lib\\site-packages)\n"
     ]
    }
   ],
   "source": [
    "# %load ../load_magic/pip_install.txt\n",
    "\n",
    "import sys\n",
    "\n",
    "command_str = f'{sys.executable} -m pip install dimod --upgrade'# --force\n",
    "print(command_str)\n",
    "!{command_str}"
   ]
  },
  {
   "cell_type": "code",
   "execution_count": null,
   "metadata": {},
   "outputs": [],
   "source": [
    "\n",
    "import sys\n",
    "\n",
    "command_str = r'C:\\ProgramData\\Anaconda3\\python.exe -m pip install \"C:\\Users\\daveb\\Downloads\\Fiona-1.8.21-cp39-cp39-win_amd64.whl\"'\n",
    "print(command_str)\n",
    "!{command_str}"
   ]
  },
  {
   "cell_type": "code",
   "execution_count": 4,
   "metadata": {},
   "outputs": [
    {
     "name": "stdout",
     "output_type": "stream",
     "text": [
      "D:\\Documents\\Repositories\\rpc\\rpc_env\\python.exe -m pip uninstall numpy --yes\n",
      "Found existing installation: numpy 1.19.4\n",
      "Uninstalling numpy-1.19.4:\n",
      "  Successfully uninstalled numpy-1.19.4\n"
     ]
    }
   ],
   "source": [
    "# %load ../load_magic/pip_install.txt\n",
    "\n",
    "import sys\n",
    "\n",
    "command_str = f'{sys.executable} -m pip uninstall numpy --yes'\n",
    "print(command_str)\n",
    "!{command_str}"
   ]
  },
  {
   "cell_type": "code",
   "execution_count": 5,
   "metadata": {},
   "outputs": [
    {
     "name": "stdout",
     "output_type": "stream",
     "text": [
      "64\n"
     ]
    }
   ],
   "source": [
    "\n",
    "import struct\n",
    "print(struct.calcsize(\"P\") * 8)"
   ]
  },
  {
   "cell_type": "code",
   "execution_count": null,
   "metadata": {},
   "outputs": [],
   "source": []
  }
 ],
 "metadata": {
  "kernelspec": {
   "display_name": "Python 3 (ipykernel)",
   "language": "python",
   "name": "python3"
  },
  "language_info": {
   "codemirror_mode": {
    "name": "ipython",
    "version": 3
   },
   "file_extension": ".py",
   "mimetype": "text/x-python",
   "name": "python",
   "nbconvert_exporter": "python",
   "pygments_lexer": "ipython3",
   "version": "3.9.7"
  }
 },
 "nbformat": 4,
 "nbformat_minor": 4
}
