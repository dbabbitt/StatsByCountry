{
 "cells": [
  {
   "cell_type": "code",
   "execution_count": 5,
   "metadata": {},
   "outputs": [
    {
     "name": "stdout",
     "output_type": "stream",
     "text": [
      "C:\\ProgramData\\Anaconda3\\python.exe -m pip install pytidylib --upgrade\n",
      "Collecting pytidylib\n",
      "  Downloading pytidylib-0.3.2.tar.gz (87 kB)\n",
      "Building wheels for collected packages: pytidylib\n",
      "  Building wheel for pytidylib (setup.py): started\n",
      "  Building wheel for pytidylib (setup.py): finished with status 'done'\n",
      "  Created wheel for pytidylib: filename=pytidylib-0.3.2-py3-none-any.whl size=8564 sha256=241b5492f769522c5c1240810f947e2927d5e600bf4c6dcb921a2fef42296b75\n",
      "  Stored in directory: c:\\users\\daveb\\appdata\\local\\pip\\cache\\wheels\\ec\\9f\\5f\\5b23323a0245962c919249f66b01b63b8765a47f58810d709d\n",
      "Successfully built pytidylib\n",
      "Installing collected packages: pytidylib\n",
      "Successfully installed pytidylib-0.3.2\n"
     ]
    }
   ],
   "source": [
    "# %load ../load_magic/pip_install.txt\n",
    "\n",
    "import sys\n",
    "\n",
    "command_str = f'{sys.executable} -m pip install pytidylib --upgrade'# --force\n",
    "print(command_str)\n",
    "!{command_str}"
   ]
  },
  {
   "cell_type": "code",
   "execution_count": null,
   "metadata": {},
   "outputs": [],
   "source": [
    "\n",
    "import sys\n",
    "\n",
    "command_str = r'C:\\ProgramData\\Anaconda3\\python.exe -m pip install \"C:\\Users\\daveb\\Downloads\\Fiona-1.8.21-cp39-cp39-win_amd64.whl\"'\n",
    "print(command_str)\n",
    "!{command_str}"
   ]
  },
  {
   "cell_type": "code",
   "execution_count": 2,
   "metadata": {},
   "outputs": [
    {
     "name": "stdout",
     "output_type": "stream",
     "text": [
      "C:\\ProgramData\\Anaconda3\\python.exe -m pip uninstall tabula --yes\n",
      "Found existing installation: tabula 1.0.5\n",
      "Uninstalling tabula-1.0.5:\n",
      "  Successfully uninstalled tabula-1.0.5\n"
     ]
    }
   ],
   "source": [
    "# %load ../load_magic/pip_install.txt\n",
    "\n",
    "import sys\n",
    "\n",
    "command_str = f'{sys.executable} -m pip uninstall tabula --yes'\n",
    "print(command_str)\n",
    "!{command_str}"
   ]
  },
  {
   "cell_type": "code",
   "execution_count": 5,
   "metadata": {},
   "outputs": [
    {
     "name": "stdout",
     "output_type": "stream",
     "text": [
      "64\n"
     ]
    }
   ],
   "source": [
    "\n",
    "import struct\n",
    "print(struct.calcsize(\"P\") * 8)"
   ]
  },
  {
   "cell_type": "code",
   "execution_count": null,
   "metadata": {},
   "outputs": [],
   "source": []
  }
 ],
 "metadata": {
  "kernelspec": {
   "display_name": "Python 3 (ipykernel)",
   "language": "python",
   "name": "python3"
  },
  "language_info": {
   "codemirror_mode": {
    "name": "ipython",
    "version": 3
   },
   "file_extension": ".py",
   "mimetype": "text/x-python",
   "name": "python",
   "nbconvert_exporter": "python",
   "pygments_lexer": "ipython3",
   "version": "3.9.7"
  }
 },
 "nbformat": 4,
 "nbformat_minor": 4
}
