{
 "cells": [
  {
   "cell_type": "code",
   "execution_count": null,
   "id": "a37edf7c-6983-422a-84e6-9a6ed61eb5f0",
   "metadata": {},
   "outputs": [],
   "source": []
  },
  {
   "cell_type": "code",
   "execution_count": null,
   "id": "ffadb908-2152-491f-a419-dd972fe49dba",
   "metadata": {},
   "outputs": [],
   "source": [
    "\n",
    "df = pd.concat(\n",
    "    [pd.Series(china_cumuls_list, index=china_years_list), pd.Series(china_cumuls_list, index=china_years_list).diff(), pd.Series(china_cumuls_list, index=china_years_list).diff().diff()], axis='columns'\n",
    ").rename(columns={0: 'china_cumuls_list', 1: 'china_cumuls_diff', 2: 'china_cumuls_diff_diff'})\n",
    "mask_series = (df.china_cumuls_diff_diff > 0.0)\n",
    "# display(df[mask_series])\n",
    "mask_series = anthropogenic_disasters_df.Start.isin(df[mask_series].index) & (anthropogenic_disasters_df.percent_china > 0.0)# & (anthropogenic_disasters_df.End < 1945)\n",
    "df = anthropogenic_disasters_df[mask_series].sort_values('Start')\n",
    "display(df)\n",
    "    label = row_series.Event\n",
    "    x = row_series.End\n",
    "    idx = china_years_list.index(x)\n",
    "    y = china_cumuls_list[idx]\n",
    "    print(f\"('{label}', {x}, {y}),\")"
   ]
  },
  {
   "cell_type": "code",
   "execution_count": 34,
   "id": "184cc5d7-2e7c-4e1c-b196-3a482c899646",
   "metadata": {},
   "outputs": [
    {
     "data": {
      "text/plain": [
       "['table_soup._lastRecursiveChild', 'table_soup.childGenerator', 'table_soup.children', 'table_soup.findChild', 'table_soup.findChildren', 'table_soup.recursiveChildGenerator', 'table_soup.replaceWithChildren', 'table_soup.replace_with_children']"
      ]
     },
     "execution_count": 34,
     "metadata": {},
     "output_type": "execute_result"
    }
   ],
   "source": [
    "\n",
    "[f'table_soup.{fn}' for fn in dir(table_soup) if 'child' in fn.lower()]"
   ]
  },
  {
   "cell_type": "code",
   "execution_count": 30,
   "id": "5ed019a8-f2f6-4484-b4ad-09d6198f6ffe",
   "metadata": {},
   "outputs": [
    {
     "data": {
      "text/plain": [
       "['Australia', 'Canada', 'India', 'New Zealand', 'Newfoundland', 'South Africa', 'United Kingdom', 'Sub-total British Empire', 'Belgium', 'France', 'Greece', 'Italy', 'Japan', 'Montenegro', 'Portugal', 'Romania', 'Russia', 'Serbia', 'United States', 'Total Allied Powers', 'Austria-Hungary', 'Bulgaria', 'Germany', 'Ottoman Empire', 'Total Central Powers', 'Denmark', 'Luxembourg', 'Norway', 'Persia', 'Sweden', 'Albania', 'Allies and co-belligerents of World War I', 'Central Powers']"
      ]
     },
     "execution_count": 30,
     "metadata": {},
     "output_type": "execute_result"
    }
   ],
   "source": [
    "\n",
    "table_soup = table_soups_list[0]\n",
    "nations_list = []\n",
    "for td_soup in table_soup.find_all('td', attrs={'align': 'left'}):\n",
    "    nation_list = []\n",
    "    for a_soup in td_soup.find_all('a', attrs={'title': True}):\n",
    "        nation_list.append(a_soup.text.strip())\n",
    "    for div_soup in td_soup.find_all('div', attrs={'class':'plainlist'}):\n",
    "        for li_soup in div_soup.find_all('li'):\n",
    "            nation_list.append(li_soup.text.strip())\n",
    "    # if nations_list and (nations_list[-1] == 'United States'): raise\n",
    "    if nation_list: nations_list.append(' '.join(nation_list))\n",
    "\n",
    "# <tr><th colspan=\"9\" style=\"text-align:center;background:#B0C4DE\">\n",
    "# <a href=\"/wiki/Central_Powers\" title=\"Central Powers\">Central Powers</a>\n",
    "# </th></tr>\n",
    "for th_soup in table_soup.find_all('th', attrs={'colspan': '9'}):\n",
    "    nation_list = []\n",
    "    for a_soup in th_soup.find_all('a', attrs={'title': True}):\n",
    "        nation_list.append(a_soup.text.strip())\n",
    "    if nation_list: nations_list.append(' '.join(nation_list))\n",
    "nations_list"
   ]
  },
  {
   "cell_type": "code",
   "execution_count": 65,
   "id": "8f2c1086-37a4-4ca5-a092-e64e13cd5de9",
   "metadata": {},
   "outputs": [
    {
     "name": "stdout",
     "output_type": "stream",
     "text": [
      "{'TotalAllied', '.mw-parser-output .plainlist ol,.mw-parser-output .plainlist ul{line-height:inherit;list-style:none;margin:0;padding:0}.mw-parser-output .plainlist ol li,.mw-parser-output .plainlist ul li{margin-bottom:0}Sub-totalBritish', 'Central', 'TotalCentral', 'Grand', 'Neutral', 'United Kingdom|(and Colonies)'}\n",
      "34 34\n",
      "Australia b Australia\n",
      "Canada d Canada\n",
      "India g India\n",
      "New Zealand l New Zealand\n",
      "Newfoundland m Newfoundland\n",
      "South Africa r South Africa\n",
      "United Kingdom|(and Colonies) s United Kingdom\n",
      ".mw-parser-output .plainlist ol,.mw-parser-output .plainlist ul{line-height:inherit;list-style:none;margin:0;padding:0}.mw-parser-output .plainlist ol li,.mw-parser-output .plainlist ul li{margin-bottom:0}Sub-totalBritish Empire Sub-total British Empire\n",
      "Belgium c Belgium\n",
      "France e France\n",
      "Greece f Greece\n",
      "Italy h Italy\n",
      "Japan i Japan\n",
      "Montenegro k Montenegro\n",
      "Portugal n Portugal\n",
      "Romania o Romania\n",
      "Russia p Russia\n",
      "Serbia q Serbia\n",
      "United States t United States\n",
      "TotalAllied Powers Total Allied Powers\n",
      "Central Powers Central Powers\n",
      "Austria-Hungary u Austria-Hungary\n",
      "Bulgaria v Bulgaria\n",
      "Germany w Germany\n",
      "Ottoman Empire x Ottoman Empire\n",
      "TotalCentral Powers Total Central Powers\n",
      "Neutral nations Neutral nations\n",
      "Denmark y Denmark\n",
      "Luxembourg j Luxembourg\n",
      "Norway z Norway\n",
      "Persia az Persia\n",
      "Sweden bz Sweden\n",
      "Albania cz Albania\n"
     ]
    }
   ],
   "source": [
    "\n",
    "wwi_casualties_df = tables_df_list[0].copy()\n",
    "wwi_casualties_df.columns = [\n",
    "    'Nation', 'Population (millions)', 'Combat deaths and missing in action (included in total military deaths)', 'Total military deaths (from all causes)',\n",
    "    'Civilian deaths (military action and crimes against humanity)', 'Increase in civilian deaths (malnutrition and disease excluding Influenza pandemic)',\n",
    "    'Total deaths', 'Deaths as % of population', 'Military wounded'\n",
    "]\n",
    "print(set([' '.join(nation.split(' ')[:-1]) for nation in wwi_casualties_df.Nation]) - set(nations_list))\n",
    "print(len(wwi_casualties_df.Nation), len(nations_list))\n",
    "for nation_raw, nation_soap in zip(wwi_casualties_df.Nation, nations_list[1:]):\n",
    "    print(nation_raw, nation_soap)"
   ]
  },
  {
   "cell_type": "code",
   "execution_count": 78,
   "id": "dbb10f33-a5c4-4609-9a63-5138b04d3a82",
   "metadata": {},
   "outputs": [
    {
     "data": {
      "text/html": [
       "<div>\n",
       "<style scoped>\n",
       "    .dataframe tbody tr th:only-of-type {\n",
       "        vertical-align: middle;\n",
       "    }\n",
       "\n",
       "    .dataframe tbody tr th {\n",
       "        vertical-align: top;\n",
       "    }\n",
       "\n",
       "    .dataframe thead th {\n",
       "        text-align: right;\n",
       "    }\n",
       "</style>\n",
       "<table border=\"1\" class=\"dataframe\">\n",
       "  <thead>\n",
       "    <tr style=\"text-align: right;\">\n",
       "      <th></th>\n",
       "      <th>Event</th>\n",
       "      <th>Lowest estimate</th>\n",
       "      <th>Highest estimate</th>\n",
       "      <th>Geometric mean estimate</th>\n",
       "      <th>Location</th>\n",
       "      <th>Start</th>\n",
       "      <th>End</th>\n",
       "      <th>Duration</th>\n",
       "      <th>Notes</th>\n",
       "    </tr>\n",
       "  </thead>\n",
       "  <tbody>\n",
       "    <tr>\n",
       "      <th>24</th>\n",
       "      <td>Punic Wars</td>\n",
       "      <td>1250000</td>\n",
       "      <td>1850000</td>\n",
       "      <td>1520691</td>\n",
       "      <td>Medi­terranean</td>\n",
       "      <td>-264</td>\n",
       "      <td>-146</td>\n",
       "      <td>118 years</td>\n",
       "      <td>See also: Carthage, Roman Republic</td>\n",
       "    </tr>\n",
       "  </tbody>\n",
       "</table>\n",
       "</div>"
      ],
      "text/plain": [
       "         Event  Lowest estimate  Highest estimate  Geometric mean estimate   \n",
       "24  Punic Wars          1250000           1850000                  1520691  \\\n",
       "\n",
       "          Location  Start  End   Duration                               Notes  \n",
       "24  Medi­terranean   -264 -146  118 years  See also: Carthage, Roman Republic  "
      ]
     },
     "metadata": {},
     "output_type": "display_data"
    },
    {
     "name": "stdout",
     "output_type": "stream",
     "text": [
      "1250000.6040437839 (1.2 million)\n"
     ]
    }
   ],
   "source": [
    "\n",
    "mask_series = (anthropogenic_disasters_df.Event == 'Punic Wars')\n",
    "display(anthropogenic_disasters_df[mask_series])\n",
    "gme = int(anthropogenic_disasters_df.loc[mask_series, 'Geometric mean estimate'])\n",
    "he = int(anthropogenic_disasters_df.loc[mask_series, 'Highest estimate'])\n",
    "print(f'{gme*gme/he} ({humanize.intword(gme*gme/he)})')"
   ]
  }
 ],
 "metadata": {
  "kernelspec": {
   "display_name": "Python 3 (ipykernel)",
   "language": "python",
   "name": "python3"
  },
  "language_info": {
   "codemirror_mode": {
    "name": "ipython",
    "version": 3
   },
   "file_extension": ".py",
   "mimetype": "text/x-python",
   "name": "python",
   "nbconvert_exporter": "python",
   "pygments_lexer": "ipython3",
   "version": "3.9.16"
  }
 },
 "nbformat": 4,
 "nbformat_minor": 5
}
