{
 "cells": [
  {
   "cell_type": "code",
   "execution_count": 1,
   "id": "a2fc1121-3294-4ba4-bb86-194e8e267383",
   "metadata": {},
   "outputs": [
    {
     "name": "stdout",
     "output_type": "stream",
     "text": [
      "Pretty printing has been turned OFF\n"
     ]
    }
   ],
   "source": [
    "\n",
    "%pprint"
   ]
  },
  {
   "cell_type": "code",
   "execution_count": 2,
   "id": "f4e097ab-3f80-4e4f-b4e4-19f53a4db5a5",
   "metadata": {},
   "outputs": [],
   "source": [
    "\n",
    "%run ../load_magic/dataframes.py"
   ]
  },
  {
   "cell_type": "code",
   "execution_count": 3,
   "id": "8fb319e2-70c6-4d3e-b938-f7a072e1ff4d",
   "metadata": {},
   "outputs": [],
   "source": [
    "\n",
    "# From https://en.wikipedia.org/wiki/List_of_religious_populations\n",
    "html_str = '''\n",
    "    <table style=\"text-align:left; border-collapse:collapse; width:30%;\">\n",
    "    <tbody><tr style=\"background:#ddd\"><th style=\"text-align:center;\" colspan=\"5\">Size of major religious groups, 2020</th></tr>\n",
    "    <tr style=\"font-size:88%; height:4px;\">\n",
    "    <td colspan=\"2\" style=\"padding:0 4px; text-align:right;\"><b>Religion</b></td>\n",
    "    <td style=\"width:100px; text-align:left;\"></td>\n",
    "    <td colspan=\"2\" style=\"padding:0 4px; width:1em; text-align:right;\"><b>Percent</b></td>\n",
    "    </tr>\n",
    "    <tr>\n",
    "    <td colspan=\"2\" style=\"padding-left: 0.4em; padding-right: 0.4em; min-width: 8em;\">Christianity</td>\n",
    "    <td style=\"width: 100px; border-left: solid 1px silver; border-right: solid 1px silver;\"><div style=\"background:#007FFF; width:31.11%; overflow: hidden;\"> </div></td>\n",
    "    <td colspan=\"2\" style=\"padding-left: 1.2em; padding-right: 0.4em; text-align: right;\">31.11%</td>\n",
    "    </tr>\n",
    "    <tr>\n",
    "    <td colspan=\"2\" style=\"padding-left: 0.4em; padding-right: 0.4em; min-width: 8em;\">Islam</td>\n",
    "    <td style=\"width: 100px; border-left: solid 1px silver; border-right: solid 1px silver;\"><div style=\"background:#009900; width:24.90%; overflow: hidden;\"> </div></td>\n",
    "    <td colspan=\"2\" style=\"padding-left: 1.2em; padding-right: 0.4em; text-align: right;\">24.90%</td>\n",
    "    </tr>\n",
    "    <tr>\n",
    "    <td colspan=\"2\" style=\"padding-left: 0.4em; padding-right: 0.4em; min-width: 8em;\">Unaffiliated</td>\n",
    "    <td style=\"width: 100px; border-left: solid 1px silver; border-right: solid 1px silver;\"><div style=\"background:#848482; width:15.58%; overflow: hidden;\"> </div></td>\n",
    "    <td colspan=\"2\" style=\"padding-left: 1.2em; padding-right: 0.4em; text-align: right;\">15.58%</td>\n",
    "    </tr>\n",
    "    <tr>\n",
    "    <td colspan=\"2\" style=\"padding-left: 0.4em; padding-right: 0.4em; min-width: 8em;\">Hinduism</td>\n",
    "    <td style=\"width: 100px; border-left: solid 1px silver; border-right: solid 1px silver;\"><div style=\"background:#FF7F00; width:15.16%; overflow: hidden;\"> </div></td>\n",
    "    <td colspan=\"2\" style=\"padding-left: 1.2em; padding-right: 0.4em; text-align: right;\">15.16%</td>\n",
    "    </tr>\n",
    "    <tr>\n",
    "    <td colspan=\"2\" style=\"padding-left: 0.4em; padding-right: 0.4em; min-width: 8em;\">Buddhism</td>\n",
    "    <td style=\"width: 100px; border-left: solid 1px silver; border-right: solid 1px silver;\"><div style=\"background:#FFFF00; width:6.62%; overflow: hidden;\"> </div></td>\n",
    "    <td colspan=\"2\" style=\"padding-left: 1.2em; padding-right: 0.4em; text-align: right;\">6.62%</td>\n",
    "    </tr>\n",
    "    <tr>\n",
    "    <td colspan=\"2\" style=\"padding-left: 0.4em; padding-right: 0.4em; min-width: 8em;\">Folk religions</td>\n",
    "    <td style=\"width: 100px; border-left: solid 1px silver; border-right: solid 1px silver;\"><div style=\"background:#ED2939; width:5.61%; overflow: hidden;\"> </div></td>\n",
    "    <td colspan=\"2\" style=\"padding-left: 1.2em; padding-right: 0.4em; text-align: right;\">5.61%</td>\n",
    "    </tr>\n",
    "    <tr>\n",
    "    <td colspan=\"2\" style=\"padding-left: 0.4em; padding-right: 0.4em; min-width: 8em;\">Other religions</td>\n",
    "    <td style=\"width: 100px; border-left: solid 1px silver; border-right: solid 1px silver;\"><div style=\"background:#808080; width:0.79%; overflow: hidden;\"> </div></td>\n",
    "    <td colspan=\"2\" style=\"padding-left: 1.2em; padding-right: 0.4em; text-align: right;\">0.79%</td>\n",
    "    </tr>\n",
    "\n",
    "    </tbody></table>'''"
   ]
  },
  {
   "cell_type": "code",
   "execution_count": 4,
   "id": "998cd5f0-bfd6-478b-b6a7-c90cd7a5f2bf",
   "metadata": {},
   "outputs": [
    {
     "name": "stderr",
     "output_type": "stream",
     "text": [
      "C:\\ProgramData\\Anaconda3\\lib\\site-packages\\pydub\\utils.py:170: RuntimeWarning: Couldn't find ffmpeg or avconv - defaulting to ffmpeg, but may not work\n",
      "  warn(\"Couldn't find ffmpeg or avconv - defaulting to ffmpeg, but may not work\", RuntimeWarning)\n"
     ]
    },
    {
     "data": {
      "text/html": [
       "<div>\n",
       "<style scoped>\n",
       "    .dataframe tbody tr th:only-of-type {\n",
       "        vertical-align: middle;\n",
       "    }\n",
       "\n",
       "    .dataframe tbody tr th {\n",
       "        vertical-align: top;\n",
       "    }\n",
       "\n",
       "    .dataframe thead th {\n",
       "        text-align: right;\n",
       "    }\n",
       "</style>\n",
       "<table border=\"1\" class=\"dataframe\">\n",
       "  <thead>\n",
       "    <tr style=\"text-align: right;\">\n",
       "      <th></th>\n",
       "      <th>Religion</th>\n",
       "      <th>Percent</th>\n",
       "    </tr>\n",
       "  </thead>\n",
       "  <tbody>\n",
       "    <tr>\n",
       "      <th>1</th>\n",
       "      <td>Christianity</td>\n",
       "      <td>31.11%</td>\n",
       "    </tr>\n",
       "    <tr>\n",
       "      <th>2</th>\n",
       "      <td>Islam</td>\n",
       "      <td>24.90%</td>\n",
       "    </tr>\n",
       "    <tr>\n",
       "      <th>3</th>\n",
       "      <td>Unaffiliated</td>\n",
       "      <td>15.58%</td>\n",
       "    </tr>\n",
       "    <tr>\n",
       "      <th>4</th>\n",
       "      <td>Hinduism</td>\n",
       "      <td>15.16%</td>\n",
       "    </tr>\n",
       "    <tr>\n",
       "      <th>5</th>\n",
       "      <td>Buddhism</td>\n",
       "      <td>6.62%</td>\n",
       "    </tr>\n",
       "    <tr>\n",
       "      <th>6</th>\n",
       "      <td>Folk religions</td>\n",
       "      <td>5.61%</td>\n",
       "    </tr>\n",
       "    <tr>\n",
       "      <th>7</th>\n",
       "      <td>Other religions</td>\n",
       "      <td>0.79%</td>\n",
       "    </tr>\n",
       "  </tbody>\n",
       "</table>\n",
       "</div>"
      ],
      "text/plain": [
       "          Religion Percent\n",
       "1     Christianity  31.11%\n",
       "2            Islam  24.90%\n",
       "3     Unaffiliated  15.58%\n",
       "4         Hinduism  15.16%\n",
       "5         Buddhism   6.62%\n",
       "6   Folk religions   5.61%\n",
       "7  Other religions   0.79%"
      ]
     },
     "execution_count": 4,
     "metadata": {},
     "output_type": "execute_result"
    }
   ],
   "source": [
    "\n",
    "import sys\n",
    "\n",
    "# Insert at 1, 0 is the script path (or '' in REPL)\n",
    "sys.path.insert(1, osp.join('..', 'py'))\n",
    "\n",
    "from storage import Storage\n",
    "from stats_scraping_utils import StatsScrapingUtilities\n",
    "\n",
    "s = Storage()\n",
    "ssu = StatsScrapingUtilities(s=s)\n",
    "df = ssu.get_page_tables(html_str, verbose=False)[0].copy()\n",
    "df = df.drop(columns=['Size of major religious groups, 2020.1', 'Size of major religious groups, 2020.2',\n",
    "                      'Size of major religious groups, 2020.3'])\n",
    "df.columns = df.loc[0].tolist()\n",
    "df = df.drop([0])\n",
    "df"
   ]
  },
  {
   "cell_type": "code",
   "execution_count": 5,
   "id": "9c7220d7-0c9f-484b-b60a-76f83c626eb3",
   "metadata": {},
   "outputs": [
    {
     "data": {
      "image/png": "[encoded data removed]",
      "text/plain": [
       "<Figure size 432x288 with 1 Axes>"
      ]
     },
     "metadata": {},
     "output_type": "display_data"
    }
   ],
   "source": [
    "\n",
    "import matplotlib.pyplot as plt\n",
    "\n",
    "# Pie chart, where the slices will be ordered and plotted counter-clockwise:\n",
    "labels = df.Religion.tolist()\n",
    "sizes = df.Percent.map(lambda x: float(x.strip('%'))).tolist()\n",
    "explode = (0.1, 0, 0, 0, 0, 0, 0)  # only \"explode\" the first slice (i.e. 'Christianity')\n",
    "\n",
    "fig1, ax1 = plt.subplots()\n",
    "ax1.pie(sizes, explode=explode, labels=labels, autopct='%1.1f%%', shadow=True, startangle=0,\n",
    "        pctdistance=0.7, labeldistance=1.1)\n",
    "ax1.axis('equal')  # Equal aspect ratio ensures that pie is drawn as a circle.\n",
    "\n",
    "plt.show()"
   ]
  }
 ],
 "metadata": {
  "kernelspec": {
   "display_name": "Python 3 (ipykernel)",
   "language": "python",
   "name": "python3"
  },
  "language_info": {
   "codemirror_mode": {
    "name": "ipython",
    "version": 3
   },
   "file_extension": ".py",
   "mimetype": "text/x-python",
   "name": "python",
   "nbconvert_exporter": "python",
   "pygments_lexer": "ipython3",
   "version": "3.9.7"
  }
 },
 "nbformat": 4,
 "nbformat_minor": 5
}
