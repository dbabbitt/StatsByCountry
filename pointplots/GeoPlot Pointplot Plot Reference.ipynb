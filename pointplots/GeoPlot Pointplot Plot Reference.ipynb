{
 "cells": [
  {
   "cell_type": "code",
   "execution_count": 1,
   "id": "11025063-713b-4a2f-9534-1631d28d93c8",
   "metadata": {},
   "outputs": [
    {
     "name": "stdout",
     "output_type": "stream",
     "text": [
      "Pretty printing has been turned OFF\n"
     ]
    }
   ],
   "source": [
    "\n",
    "# Set up notebook\n",
    "%pprint\n",
    "%matplotlib inline\n",
    "import sys\n",
    "import os.path as osp, os as os\n",
    "\n",
    "executable_path = sys.executable\n",
    "scripts_folder = osp.join(osp.dirname(executable_path), 'Scripts'); assert osp.exists(scripts_folder)\n",
    "py_folder = osp.abspath(osp.join(os.pardir, 'py')); assert osp.exists(py_folder), \"Create the py folder\"\n",
    "ffmpeg_folder = r'C:\\ffmpeg\\bin'; assert osp.exists(ffmpeg_folder)\n",
    "shared_folder = osp.abspath(osp.join(os.pardir, 'share')); assert osp.exists(shared_folder)\n",
    "scripts312_folder = r'C:\\Users\\daveb\\AppData\\Roaming\\Python\\Python312\\Scripts'; assert osp.exists(scripts312_folder)\n",
    "\n",
    "if (scripts_folder not in sys.path): sys.path.insert(1, scripts_folder)\n",
    "if (py_folder not in sys.path): sys.path.insert(1, py_folder)\n",
    "if (ffmpeg_folder not in sys.path): sys.path.insert(1, ffmpeg_folder)\n",
    "if shared_folder not in sys.path: sys.path.insert(1, shared_folder)\n",
    "if (scripts312_folder not in sys.path): sys.path.insert(1, scripts312_folder)\n",
    "\n",
    "from notebook_utils import NotebookUtilities\n",
    "nu = NotebookUtilities(\n",
    "    data_folder_path=osp.abspath(osp.join(os.pardir, 'data')),\n",
    "    saves_folder_path=osp.abspath(osp.join(os.pardir, 'saves'))\n",
    ")\n",
    "nu.delete_ipynb_checkpoint_folders()"
   ]
  },
  {
   "cell_type": "markdown",
   "id": "95c8a3c7-a7fe-4fc8-a048-c2064b850769",
   "metadata": {},
   "source": [
    "\n",
    "Plot Reference\n",
    "=============="
   ]
  },
  {
   "cell_type": "markdown",
   "id": "b6d38708-66f8-4132-80ad-2d8a49f74fb5",
   "metadata": {},
   "source": [
    "\n",
    "Pointplot\n",
    "---------\n",
    "\n",
    "The ``pointplot`` is a `geospatial scatter plot \n",
    "<https://en.wikipedia.org/wiki/Scatter_plot>`_ that represents each observation in your dataset\n",
    "as a single point on a map. It is simple and easily interpretable plot, making it an ideal\n",
    "choice for showing simple pointwise relationships between observations.\n",
    "\n",
    "``pointplot`` requires, at a minimum, some points for plotting:"
   ]
  },
  {
   "cell_type": "code",
   "execution_count": null,
   "id": "96e66238-bae2-47f1-87a0-9cddac98f865",
   "metadata": {},
   "outputs": [],
   "source": [
    "\n",
    "import geoplot as gplt\n",
    "import geoplot.crs as gcrs\n",
    "import geopandas as gpd\n",
    "\n",
    "cities = gpd.read_file(gplt.datasets.get_path('usa_cities'))\n",
    "gplt.pointplot(cities)"
   ]
  },
  {
   "cell_type": "markdown",
   "id": "64aa300f-408a-4ae9-8576-bbcfdf5b170a",
   "metadata": {},
   "source": [
    "\n",
    "The ``hue`` parameter applies a colormap to a data column. The ``legend`` parameter toggles a\n",
    "legend."
   ]
  },
  {
   "cell_type": "code",
   "execution_count": null,
   "id": "6072b267-b9b9-4e04-9d82-8dc81f220528",
   "metadata": {},
   "outputs": [],
   "source": [
    "\n",
    "gplt.pointplot(cities, projection=gcrs.AlbersEqualArea(), hue='ELEV_IN_FT', legend=True)"
   ]
  },
  {
   "cell_type": "markdown",
   "id": "b341e2bd-fca1-4cf0-9b92-a12468a39e82",
   "metadata": {},
   "source": [
    "\n",
    "Change the colormap using ``cmap``. For a categorical colormap, use ``scheme``."
   ]
  },
  {
   "cell_type": "code",
   "execution_count": null,
   "id": "079ee566-c72b-4a4c-8877-2a7f1c3757f8",
   "metadata": {},
   "outputs": [],
   "source": [
    "\n",
    "import mapclassify as mc\n",
    "\n",
    "scheme = mc.Quantiles(cities['ELEV_IN_FT'], k=5)\n",
    "gplt.pointplot(\n",
    "    cities, projection=gcrs.AlbersEqualArea(),\n",
    "    hue='ELEV_IN_FT', scheme=scheme, cmap='inferno_r',\n",
    "    legend=True\n",
    ")"
   ]
  },
  {
   "cell_type": "markdown",
   "id": "f3ee677b-20e5-438a-9f65-ba9391ef3e1c",
   "metadata": {},
   "source": [
    "\n",
    "Keyword arguments that are not part of the ``geoplot`` API are passed to the underlying\n",
    "`matplotlib.pyplot.scatter instance \n",
    "<https://matplotlib.org/3.1.0/api/_as_gen/matplotlib.pyplot.scatter.html>`_,\n",
    "which can be used to customize the appearance of the\n",
    "plot. To pass keyword argument to the legend, use the ``legend_kwargs`` argument."
   ]
  },
  {
   "cell_type": "code",
   "execution_count": null,
   "id": "b09a055c-201c-4a40-bd84-173f8a44755e",
   "metadata": {},
   "outputs": [],
   "source": [
    "\n",
    "gplt.pointplot(\n",
    "    cities, projection=gcrs.AlbersEqualArea(), \n",
    "    hue='ELEV_IN_FT',\n",
    "    legend=True, legend_kwargs={'orientation': 'horizontal'},\n",
    "    edgecolor='lightgray', linewidth=0.5\n",
    ")"
   ]
  },
  {
   "cell_type": "markdown",
   "id": "bde7c3ba-084f-47dc-b38e-f853de4480ae",
   "metadata": {},
   "source": [
    "\n",
    "``scale`` provides an alternative or additional visual variable. The minimum and maximum size\n",
    "of the points can be adjusted to fit your data using the ``limits`` parameter. It is often\n",
    "benefitial to combine both ``scale`` and ``hue`` in a single plot. In this case, you can use\n",
    "the ``legend_var`` variable to control which visual variable the legend is keyed on."
   ]
  },
  {
   "cell_type": "code",
   "execution_count": null,
   "id": "56e1c8be-c6e5-464d-8f3b-e7b150046059",
   "metadata": {},
   "outputs": [],
   "source": [
    "\n",
    "gplt.pointplot(\n",
    "    cities, projection=gcrs.AlbersEqualArea(), \n",
    "    hue='ELEV_IN_FT', scale='ELEV_IN_FT', limits=(1, 10), cmap='inferno_r',\n",
    "    legend=True, legend_var='scale'\n",
    ")"
   ]
  }
 ],
 "metadata": {
  "kernelspec": {
   "display_name": "Python 3 (ipykernel)",
   "language": "python",
   "name": "python3"
  },
  "language_info": {
   "codemirror_mode": {
    "name": "ipython",
    "version": 3
   },
   "file_extension": ".py",
   "mimetype": "text/x-python",
   "name": "python",
   "nbconvert_exporter": "python",
   "pygments_lexer": "ipython3",
   "version": "3.12.3"
  }
 },
 "nbformat": 4,
 "nbformat_minor": 5
}
