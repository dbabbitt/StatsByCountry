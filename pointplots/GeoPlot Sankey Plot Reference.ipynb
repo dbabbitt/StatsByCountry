{
 "cells": [
  {
   "cell_type": "code",
   "execution_count": 1,
   "id": "11025063-713b-4a2f-9534-1631d28d93c8",
   "metadata": {},
   "outputs": [
    {
     "name": "stdout",
     "output_type": "stream",
     "text": [
      "Pretty printing has been turned OFF\n"
     ]
    }
   ],
   "source": [
    "\n",
    "# Set up notebook\n",
    "%pprint\n",
    "%matplotlib inline\n",
    "import sys\n",
    "import os.path as osp, os as os\n",
    "\n",
    "executable_path = sys.executable\n",
    "scripts_folder = osp.join(osp.dirname(executable_path), 'Scripts'); assert osp.exists(scripts_folder)\n",
    "py_folder = osp.abspath(osp.join(os.pardir, 'py')); assert osp.exists(py_folder), \"Create the py folder\"\n",
    "ffmpeg_folder = r'C:\\ffmpeg\\bin'; assert osp.exists(ffmpeg_folder)\n",
    "shared_folder = osp.abspath(osp.join(os.pardir, 'share')); assert osp.exists(shared_folder)\n",
    "scripts312_folder = r'C:\\Users\\daveb\\AppData\\Roaming\\Python\\Python312\\Scripts'; assert osp.exists(scripts312_folder)\n",
    "\n",
    "if (scripts_folder not in sys.path): sys.path.insert(1, scripts_folder)\n",
    "if (py_folder not in sys.path): sys.path.insert(1, py_folder)\n",
    "if (ffmpeg_folder not in sys.path): sys.path.insert(1, ffmpeg_folder)\n",
    "if shared_folder not in sys.path: sys.path.insert(1, shared_folder)\n",
    "if (scripts312_folder not in sys.path): sys.path.insert(1, scripts312_folder)\n",
    "\n",
    "from notebook_utils import NotebookUtilities\n",
    "nu = NotebookUtilities(\n",
    "    data_folder_path=osp.abspath(osp.join(os.pardir, 'data')),\n",
    "    saves_folder_path=osp.abspath(osp.join(os.pardir, 'saves'))\n",
    ")\n",
    "nu.delete_ipynb_checkpoint_folders()"
   ]
  },
  {
   "cell_type": "markdown",
   "id": "95c8a3c7-a7fe-4fc8-a048-c2064b850769",
   "metadata": {},
   "source": [
    "\n",
    "Plot Reference\n",
    "=============="
   ]
  },
  {
   "cell_type": "markdown",
   "id": "f3f5465e-5052-4280-963d-996d013787be",
   "metadata": {},
   "source": [
    "\n",
    "Sankey\n",
    "------\n",
    "\n",
    "A `Sankey diagram <https://en.wikipedia.org/wiki/Sankey_diagram>`_ visualizes flow through a\n",
    "network. It can be used to show the magnitudes of data moving through a system. This plot\n",
    "brings the Sankey diagram into the geospatial context; useful for analyzing traffic load a road\n",
    "network, for example, or travel volumes between different airports.\n",
    "\n",
    "A basic ``sankey`` requires a ``GeoDataFrame`` of ``LineString`` or ``MultiPoint`` geometries.\n",
    "For interpretability, these examples also include world geometry."
   ]
  },
  {
   "cell_type": "code",
   "execution_count": null,
   "id": "e88074e3-8cff-4965-87d9-74536c429345",
   "metadata": {},
   "outputs": [],
   "source": [
    "\n",
    "import geoplot as gplt\n",
    "import geoplot.crs as gcrs\n",
    "import geopandas as gpd\n",
    "\n",
    "la_flights = gpd.read_file(gplt.datasets.get_path('la_flights'))\n",
    "world = gpd.read_file(gplt.datasets.get_path('world'))\n",
    "\n",
    "ax = gplt.sankey(la_flights, projection=gcrs.Mollweide())\n",
    "gplt.polyplot(world, ax=ax, facecolor='lightgray', edgecolor='white')\n",
    "ax.set_global(); ax.outline_patch.set_visible(True)"
   ]
  },
  {
   "cell_type": "markdown",
   "id": "fc8c5e50-93a1-42ed-91ad-64b2efb6b59e",
   "metadata": {},
   "source": [
    "\n",
    "``hue`` adds color gradation to the map. Use ``cmap`` to control the colormap. For a categorical\n",
    "colormap, specify ``scheme``. ``legend`` toggles a legend."
   ]
  },
  {
   "cell_type": "code",
   "execution_count": null,
   "id": "0483a334-e5e9-4a45-a5bc-834ff47619dd",
   "metadata": {},
   "outputs": [],
   "source": [
    "\n",
    "import mapclassify as mc\n",
    "\n",
    "scheme = mc.Quantiles(la_flights['Passengers'], k=5)\n",
    "ax = gplt.sankey(\n",
    "    la_flights, projection=gcrs.Mollweide(),\n",
    "    hue='Passengers', cmap='Greens', scheme=scheme, legend=True\n",
    ")\n",
    "gplt.polyplot(\n",
    "    world, ax=ax, facecolor='lightgray', edgecolor='white'\n",
    ")\n",
    "ax.set_global(); ax.outline_patch.set_visible(True)"
   ]
  },
  {
   "cell_type": "markdown",
   "id": "3da6363f-72e3-4cec-899a-a9ade4d54488",
   "metadata": {},
   "source": [
    "\n",
    "``scale`` adds volumetric scaling to the plot. ``limits`` can be used to control the minimum\n",
    "and maximum line width."
   ]
  },
  {
   "cell_type": "code",
   "execution_count": null,
   "id": "40e238ae-7002-47b3-b836-d2f730affed5",
   "metadata": {},
   "outputs": [],
   "source": [
    "\n",
    "import mapclassify as mc\n",
    "\n",
    "scheme = mc.Quantiles(la_flights['Passengers'], k=5)\n",
    "ax = gplt.sankey(\n",
    "    la_flights, projection=gcrs.Mollweide(),\n",
    "    scale='Passengers', limits=(1, 10),\n",
    "    hue='Passengers', cmap='Greens', scheme=scheme, legend=True\n",
    ")\n",
    "gplt.polyplot(\n",
    "    world, ax=ax, facecolor='lightgray', edgecolor='white'\n",
    ")\n",
    "ax.set_global(); ax.outline_patch.set_visible(True)"
   ]
  },
  {
   "cell_type": "markdown",
   "id": "736098d8-b54e-4777-ac99-ed92d9c81751",
   "metadata": {},
   "source": [
    "\n",
    "Keyword arguments can be passed to the legend using the ``legend_kwargs`` argument. These\n",
    "arguments will be passed to the underlying legend."
   ]
  },
  {
   "cell_type": "code",
   "execution_count": null,
   "id": "209df22e-f54e-4194-867e-e089e08e027c",
   "metadata": {},
   "outputs": [],
   "source": [
    "\n",
    "import mapclassify as mc\n",
    "\n",
    "scheme = mc.Quantiles(la_flights['Passengers'], k=5)\n",
    "ax = gplt.sankey(\n",
    "    la_flights, projection=gcrs.Mollweide(),\n",
    "    scale='Passengers', limits=(1, 10),\n",
    "    hue='Passengers', scheme=scheme, cmap='Greens',\n",
    "    legend=True, legend_kwargs={'loc': 'lower left'}\n",
    ")\n",
    "gplt.polyplot(\n",
    "    world, ax=ax, facecolor='lightgray', edgecolor='white'\n",
    ")\n",
    "ax.set_global(); ax.outline_patch.set_visible(True)"
   ]
  }
 ],
 "metadata": {
  "kernelspec": {
   "display_name": "Python 3 (ipykernel)",
   "language": "python",
   "name": "python3"
  },
  "language_info": {
   "codemirror_mode": {
    "name": "ipython",
    "version": 3
   },
   "file_extension": ".py",
   "mimetype": "text/x-python",
   "name": "python",
   "nbconvert_exporter": "python",
   "pygments_lexer": "ipython3",
   "version": "3.12.3"
  }
 },
 "nbformat": 4,
 "nbformat_minor": 5
}
