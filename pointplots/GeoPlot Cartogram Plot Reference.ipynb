{
 "cells": [
  {
   "cell_type": "code",
   "execution_count": 1,
   "id": "11025063-713b-4a2f-9534-1631d28d93c8",
   "metadata": {},
   "outputs": [
    {
     "name": "stdout",
     "output_type": "stream",
     "text": [
      "Pretty printing has been turned OFF\n"
     ]
    }
   ],
   "source": [
    "\n",
    "# Set up notebook\n",
    "%pprint\n",
    "%matplotlib inline\n",
    "import sys\n",
    "import os.path as osp, os as os\n",
    "\n",
    "executable_path = sys.executable\n",
    "scripts_folder = osp.join(osp.dirname(executable_path), 'Scripts'); assert osp.exists(scripts_folder)\n",
    "py_folder = osp.abspath(osp.join(os.pardir, 'py')); assert osp.exists(py_folder), \"Create the py folder\"\n",
    "ffmpeg_folder = r'C:\\ffmpeg\\bin'; assert osp.exists(ffmpeg_folder)\n",
    "shared_folder = osp.abspath(osp.join(os.pardir, 'share')); assert osp.exists(shared_folder)\n",
    "scripts312_folder = r'C:\\Users\\daveb\\AppData\\Roaming\\Python\\Python312\\Scripts'; assert osp.exists(scripts312_folder)\n",
    "\n",
    "if (scripts_folder not in sys.path): sys.path.insert(1, scripts_folder)\n",
    "if (py_folder not in sys.path): sys.path.insert(1, py_folder)\n",
    "if (ffmpeg_folder not in sys.path): sys.path.insert(1, ffmpeg_folder)\n",
    "if shared_folder not in sys.path: sys.path.insert(1, shared_folder)\n",
    "if (scripts312_folder not in sys.path): sys.path.insert(1, scripts312_folder)\n",
    "\n",
    "from notebook_utils import NotebookUtilities\n",
    "nu = NotebookUtilities(\n",
    "    data_folder_path=osp.abspath(osp.join(os.pardir, 'data')),\n",
    "    saves_folder_path=osp.abspath(osp.join(os.pardir, 'saves'))\n",
    ")\n",
    "nu.delete_ipynb_checkpoint_folders()"
   ]
  },
  {
   "cell_type": "markdown",
   "id": "95c8a3c7-a7fe-4fc8-a048-c2064b850769",
   "metadata": {},
   "source": [
    "\n",
    "Plot Reference\n",
    "=============="
   ]
  },
  {
   "cell_type": "markdown",
   "id": "a95f3cad-85a8-4955-beee-72b166c47d2e",
   "metadata": {},
   "source": [
    "\n",
    "Cartogram\n",
    "---------\n",
    "\n",
    "A cartogram distorts (grows or shrinks) polygons on a map according to the magnitude of some\n",
    "input data. A basic cartogram specifies data, a projection, and a ``scale`` parameter."
   ]
  },
  {
   "cell_type": "code",
   "execution_count": null,
   "id": "095b2b98-7cb1-4150-9df4-cfbe3f40587a",
   "metadata": {},
   "outputs": [],
   "source": [
    "\n",
    "import geoplot as gplt\n",
    "import geoplot.crs as gcrs\n",
    "import geopandas as gpd\n",
    "\n",
    "contiguous_usa = gpd.read_file(gplt.datasets.get_path('contiguous_usa'))\n",
    "\n",
    "gplt.cartogram(contiguous_usa, scale='population', projection=gcrs.AlbersEqualArea())"
   ]
  },
  {
   "cell_type": "markdown",
   "id": "81f9835c-59a6-4d72-bd63-3d3993d3c4cc",
   "metadata": {},
   "source": [
    "\n",
    "Toggle the legend with ``legend``. Keyword arguments can be passed to the legend using the\n",
    "``legend_kwargs`` argument. These arguments will be passed to the underlying legend."
   ]
  },
  {
   "cell_type": "code",
   "execution_count": null,
   "id": "75028fca-e297-493f-aefb-e04e233f18e9",
   "metadata": {},
   "outputs": [],
   "source": [
    "\n",
    "gplt.cartogram(\n",
    "    contiguous_usa, scale='population', projection=gcrs.AlbersEqualArea(),\n",
    "    legend=True, legend_kwargs={'loc': 'lower right'}\n",
    ")"
   ]
  },
  {
   "cell_type": "markdown",
   "id": "05a5df4d-ed7c-4310-8c53-00143c1e5047",
   "metadata": {},
   "source": [
    "\n",
    "To add a colormap to the plot, specify ``hue``. Use ``cmap`` to control the colormap. For a\n",
    "categorical colormap, specify a ``scheme``. In this plot we also add a backing outline of the\n",
    "original state shapes, for better geospatial context."
   ]
  },
  {
   "cell_type": "code",
   "execution_count": null,
   "id": "0737991d-21ef-4b22-96be-cb781bf80da7",
   "metadata": {},
   "outputs": [],
   "source": [
    "\n",
    "import mapclassify as mc\n",
    "\n",
    "scheme = mc.Quantiles(contiguous_usa['population'], k=5)\n",
    "ax = gplt.cartogram(\n",
    "    contiguous_usa, scale='population', projection=gcrs.AlbersEqualArea(),\n",
    "    legend=True, legend_kwargs={'bbox_to_anchor': (1, 0.9)}, legend_var='hue',\n",
    "    hue='population', scheme=scheme, cmap='Greens'\n",
    ")\n",
    "gplt.polyplot(contiguous_usa, facecolor='lightgray', edgecolor='white', ax=ax)"
   ]
  },
  {
   "cell_type": "markdown",
   "id": "051fbd16-e368-4497-88dc-43b783ddcbad",
   "metadata": {},
   "source": [
    "\n",
    "Use ``legend_labels`` and ``legend_values`` to customize the labels and values that appear\n",
    "in the legend."
   ]
  },
  {
   "cell_type": "code",
   "execution_count": null,
   "id": "410528cc-1c26-41c7-8d59-547c1c4ed252",
   "metadata": {},
   "outputs": [],
   "source": [
    "\n",
    "gplt.cartogram(\n",
    "    contiguous_usa, scale='population', projection=gcrs.AlbersEqualArea(),\n",
    "    legend=True, legend_kwargs={'bbox_to_anchor': (1, 0.9)}, legend_var='hue',\n",
    "    hue='population', scheme=scheme, cmap='Greens',\n",
    "    legend_labels=[\n",
    "        '<1.4 million', '1.4-3.2 million', '3.2-5.6 million',\n",
    "        '5.6-9 million', '9-37 million'\n",
    "    ]\n",
    ")\n",
    "gplt.polyplot(contiguous_usa, facecolor='lightgray', edgecolor='white', ax=ax)"
   ]
  },
  {
   "cell_type": "markdown",
   "id": "7022721e-1170-446a-91a4-8efe813e5eff",
   "metadata": {},
   "source": [
    "\n",
    "Use the ``limits`` parameter to adjust the minimum and maximum scaling factors.\n",
    "You can also pass a custom scaling function to ``scale_func`` to apply a\n",
    "different scale to the plot (the default scaling function is linear); see the\n",
    ":doc:`/gallery/plot_usa_city_elevations` for an example."
   ]
  },
  {
   "cell_type": "code",
   "execution_count": null,
   "id": "191d0ccf-a68f-4c09-89ab-9f3f632dc8fb",
   "metadata": {},
   "outputs": [],
   "source": [
    "\n",
    "ax = gplt.cartogram(\n",
    "    contiguous_usa, scale='population', projection=gcrs.AlbersEqualArea(),\n",
    "    legend=True, legend_kwargs={'bbox_to_anchor': (1, 0.9)}, legend_var='hue',\n",
    "    hue='population', scheme=scheme, cmap='Greens',\n",
    "    legend_labels=[\n",
    "        '<1.4 million', '1.4-3.2 million', '3.2-5.6 million',\n",
    "        '5.6-9 million', '9-37 million'\n",
    "    ],\n",
    "    limits=(0.5, 1)\n",
    ")\n",
    "gplt.polyplot(contiguous_usa, facecolor='lightgray', edgecolor='white', ax=ax)"
   ]
  }
 ],
 "metadata": {
  "kernelspec": {
   "display_name": "Python 3 (ipykernel)",
   "language": "python",
   "name": "python3"
  },
  "language_info": {
   "codemirror_mode": {
    "name": "ipython",
    "version": 3
   },
   "file_extension": ".py",
   "mimetype": "text/x-python",
   "name": "python",
   "nbconvert_exporter": "python",
   "pygments_lexer": "ipython3",
   "version": "3.12.3"
  }
 },
 "nbformat": 4,
 "nbformat_minor": 5
}
