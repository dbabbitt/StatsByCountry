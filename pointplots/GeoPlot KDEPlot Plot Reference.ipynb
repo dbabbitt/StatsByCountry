{
 "cells": [
  {
   "cell_type": "code",
   "execution_count": 1,
   "id": "11025063-713b-4a2f-9534-1631d28d93c8",
   "metadata": {},
   "outputs": [
    {
     "name": "stdout",
     "output_type": "stream",
     "text": [
      "Pretty printing has been turned OFF\n"
     ]
    }
   ],
   "source": [
    "\n",
    "# Set up notebook\n",
    "%pprint\n",
    "%matplotlib inline\n",
    "import sys\n",
    "import os.path as osp, os as os\n",
    "\n",
    "executable_path = sys.executable\n",
    "scripts_folder = osp.join(osp.dirname(executable_path), 'Scripts'); assert osp.exists(scripts_folder)\n",
    "py_folder = osp.abspath(osp.join(os.pardir, 'py')); assert osp.exists(py_folder), \"Create the py folder\"\n",
    "ffmpeg_folder = r'C:\\ffmpeg\\bin'; assert osp.exists(ffmpeg_folder)\n",
    "shared_folder = osp.abspath(osp.join(os.pardir, 'share')); assert osp.exists(shared_folder)\n",
    "scripts312_folder = r'C:\\Users\\daveb\\AppData\\Roaming\\Python\\Python312\\Scripts'; assert osp.exists(scripts312_folder)\n",
    "\n",
    "if (scripts_folder not in sys.path): sys.path.insert(1, scripts_folder)\n",
    "if (py_folder not in sys.path): sys.path.insert(1, py_folder)\n",
    "if (ffmpeg_folder not in sys.path): sys.path.insert(1, ffmpeg_folder)\n",
    "if shared_folder not in sys.path: sys.path.insert(1, shared_folder)\n",
    "if (scripts312_folder not in sys.path): sys.path.insert(1, scripts312_folder)\n",
    "\n",
    "from notebook_utils import NotebookUtilities\n",
    "nu = NotebookUtilities(\n",
    "    data_folder_path=osp.abspath(osp.join(os.pardir, 'data')),\n",
    "    saves_folder_path=osp.abspath(osp.join(os.pardir, 'saves'))\n",
    ")\n",
    "nu.delete_ipynb_checkpoint_folders()"
   ]
  },
  {
   "cell_type": "markdown",
   "id": "95c8a3c7-a7fe-4fc8-a048-c2064b850769",
   "metadata": {},
   "source": [
    "\n",
    "Plot Reference\n",
    "=============="
   ]
  },
  {
   "cell_type": "markdown",
   "id": "1a4fc30b-9167-4734-929e-e1e45d735091",
   "metadata": {},
   "source": [
    "\n",
    "KDEPlot\n",
    "-------\n",
    "\n",
    "`Kernel density estimation <https://en.wikipedia.org/wiki/Kernel_density_estimation>`_ is a\n",
    "technique that non-parameterically estimates a distribution function for a sample of point\n",
    "observations. KDEs are a popular tool for analyzing data distributions; this plot applies this\n",
    "technique to the geospatial setting.\n",
    "\n",
    "A basic ``kdeplot`` takes pointwise data as input. For interpretability, let's also plot the\n",
    "underlying borough geometry."
   ]
  },
  {
   "cell_type": "code",
   "execution_count": null,
   "id": "4455214d-fa2d-4704-8e08-b532769f37ed",
   "metadata": {},
   "outputs": [],
   "source": [
    "\n",
    "import geoplot as gplt\n",
    "import geoplot.crs as gcrs\n",
    "import geopandas as gpd\n",
    "\n",
    "boroughs = gpd.read_file(gplt.datasets.get_path('nyc_boroughs'))\n",
    "collisions = gpd.read_file(gplt.datasets.get_path('nyc_collision_factors'))\n",
    "\n",
    "ax = gplt.polyplot(boroughs, projection=gcrs.AlbersEqualArea())\n",
    "gplt.kdeplot(collisions, ax=ax)"
   ]
  },
  {
   "cell_type": "markdown",
   "id": "6f1b3ad8-2db1-4032-a9b6-27743d59a03e",
   "metadata": {},
   "source": [
    "\n",
    "``n_levels`` controls the number of isochrones. ``cmap`` control the colormap."
   ]
  },
  {
   "cell_type": "code",
   "execution_count": null,
   "id": "2ae835b0-844c-43ff-a5dc-61abc40f4ee3",
   "metadata": {},
   "outputs": [],
   "source": [
    "\n",
    "ax = gplt.polyplot(boroughs, projection=gcrs.AlbersEqualArea())\n",
    "gplt.kdeplot(collisions, n_levels=20, cmap='Reds', ax=ax)"
   ]
  },
  {
   "cell_type": "markdown",
   "id": "46aaa182-f1d9-461a-9117-ef10c1bbf651",
   "metadata": {},
   "source": [
    "\n",
    "``shade`` toggles shaded isochrones. Use ``clip`` to constrain the plot to the surrounding\n",
    "geometry."
   ]
  },
  {
   "cell_type": "code",
   "execution_count": null,
   "id": "b08856ac-9855-43b7-a1f0-117313b28f4b",
   "metadata": {},
   "outputs": [],
   "source": [
    "\n",
    "ax = gplt.polyplot(boroughs, projection=gcrs.AlbersEqualArea(), zorder=1)\n",
    "gplt.kdeplot(collisions, cmap='Reds', shade=True, clip=boroughs, ax=ax)"
   ]
  },
  {
   "cell_type": "markdown",
   "id": "45b6e34a-0a73-47ee-b1c1-c594e0e76311",
   "metadata": {},
   "source": [
    "\n",
    "Additional keyword arguments that are not part of the ``geoplot`` API are passed to\n",
    "`the underlying seaborn.kdeplot instance <https://seaborn.pydata.org/generated/seaborn.kdeplot.html#seaborn.kdeplot>`_.\n",
    "One of the most useful of these parameters is ``thresh=0.05``, which toggles shading on the\n",
    "lowest (basal) layer of the kernel density estimate."
   ]
  },
  {
   "cell_type": "code",
   "execution_count": null,
   "id": "30c9b920-340e-40bb-9bef-505ac7d08678",
   "metadata": {},
   "outputs": [],
   "source": [
    "\n",
    "ax = gplt.polyplot(boroughs, projection=gcrs.AlbersEqualArea(), zorder=1)\n",
    "gplt.kdeplot(collisions, cmap='Reds', shade=True, thresh=0.05,\n",
    "             clip=boroughs, ax=ax)"
   ]
  }
 ],
 "metadata": {
  "kernelspec": {
   "display_name": "Python 3 (ipykernel)",
   "language": "python",
   "name": "python3"
  },
  "language_info": {
   "codemirror_mode": {
    "name": "ipython",
    "version": 3
   },
   "file_extension": ".py",
   "mimetype": "text/x-python",
   "name": "python",
   "nbconvert_exporter": "python",
   "pygments_lexer": "ipython3",
   "version": "3.12.3"
  }
 },
 "nbformat": 4,
 "nbformat_minor": 5
}
