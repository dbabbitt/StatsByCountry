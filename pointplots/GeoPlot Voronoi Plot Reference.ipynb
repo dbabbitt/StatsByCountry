{
 "cells": [
  {
   "cell_type": "code",
   "execution_count": 1,
   "id": "11025063-713b-4a2f-9534-1631d28d93c8",
   "metadata": {},
   "outputs": [
    {
     "name": "stdout",
     "output_type": "stream",
     "text": [
      "Pretty printing has been turned OFF\n"
     ]
    }
   ],
   "source": [
    "\n",
    "# Set up notebook\n",
    "%pprint\n",
    "%matplotlib inline\n",
    "import sys\n",
    "import os.path as osp, os as os\n",
    "\n",
    "executable_path = sys.executable\n",
    "scripts_folder = osp.join(osp.dirname(executable_path), 'Scripts'); assert osp.exists(scripts_folder)\n",
    "py_folder = osp.abspath(osp.join(os.pardir, 'py')); assert osp.exists(py_folder), \"Create the py folder\"\n",
    "ffmpeg_folder = r'C:\\ffmpeg\\bin'; assert osp.exists(ffmpeg_folder)\n",
    "shared_folder = osp.abspath(osp.join(os.pardir, 'share')); assert osp.exists(shared_folder)\n",
    "scripts312_folder = r'C:\\Users\\daveb\\AppData\\Roaming\\Python\\Python312\\Scripts'; assert osp.exists(scripts312_folder)\n",
    "\n",
    "if (scripts_folder not in sys.path): sys.path.insert(1, scripts_folder)\n",
    "if (py_folder not in sys.path): sys.path.insert(1, py_folder)\n",
    "if (ffmpeg_folder not in sys.path): sys.path.insert(1, ffmpeg_folder)\n",
    "if shared_folder not in sys.path: sys.path.insert(1, shared_folder)\n",
    "if (scripts312_folder not in sys.path): sys.path.insert(1, scripts312_folder)\n",
    "\n",
    "from notebook_utils import NotebookUtilities\n",
    "nu = NotebookUtilities(\n",
    "    data_folder_path=osp.abspath(osp.join(os.pardir, 'data')),\n",
    "    saves_folder_path=osp.abspath(osp.join(os.pardir, 'saves'))\n",
    ")\n",
    "nu.delete_ipynb_checkpoint_folders()"
   ]
  },
  {
   "cell_type": "markdown",
   "id": "95c8a3c7-a7fe-4fc8-a048-c2064b850769",
   "metadata": {},
   "source": [
    "\n",
    "Plot Reference\n",
    "=============="
   ]
  },
  {
   "cell_type": "markdown",
   "id": "1d49cd4b-b4c5-447a-ac17-d4ab896f3bda",
   "metadata": {},
   "source": [
    "\n",
    "Voronoi\n",
    "-------\n",
    "\n",
    "The `Voronoi region <https://en.wikipedia.org/wiki/Voronoi_diagram>`_ of an point is the set\n",
    "of points which is closer to that point than to any other observation in a dataset. A Voronoi\n",
    "diagram is a space-filling diagram that constructs all of the Voronoi regions of a dataset and\n",
    "plots them.\n",
    "\n",
    "Voronoi plots are efficient for judging point density and, combined with colormap, can be used\n",
    "to infer regional trends in a set of data.\n",
    "\n",
    "A basic ``voronoi`` specifies some point data. We overlay geometry to aid interpretability."
   ]
  },
  {
   "cell_type": "code",
   "execution_count": null,
   "id": "34a5756a-ff2c-4c9c-ac51-122728edf687",
   "metadata": {},
   "outputs": [],
   "source": [
    "\n",
    "import geoplot as gplt\n",
    "import geoplot.crs as gcrs\n",
    "import geopandas as gpd\n",
    "\n",
    "boroughs = gpd.read_file(gplt.datasets.get_path('nyc_boroughs'))\n",
    "injurious_collisions = gpd.read_file(gplt.datasets.get_path('nyc_injurious_collisions'))\n",
    "\n",
    "ax = gplt.voronoi(injurious_collisions.head(1000))\n",
    "gplt.polyplot(boroughs, ax=ax)"
   ]
  },
  {
   "cell_type": "markdown",
   "id": "f56f02f0-d0bf-4807-ae6f-c5ab77a36c06",
   "metadata": {},
   "source": [
    "\n",
    "Use ``clip`` to clip the result to surrounding geometry. This is recommended in most cases.\n",
    "Note that if the clip geometry is complicated, this operation will take a long time; consider\n",
    "simplifying complex geometries with ``simplify`` to speed it up."
   ]
  },
  {
   "cell_type": "code",
   "execution_count": null,
   "id": "b151e525-8589-48cf-8ed3-fc34c49bf55d",
   "metadata": {},
   "outputs": [],
   "source": [
    "\n",
    "ax = gplt.voronoi(\n",
    "    injurious_collisions.head(100),\n",
    "    clip=boroughs.simplify(0.001), projection=gcrs.AlbersEqualArea()\n",
    ")\n",
    "gplt.polyplot(boroughs, ax=ax)"
   ]
  },
  {
   "cell_type": "markdown",
   "id": "4c4402cf-7494-4d8d-8385-7d83bc8455be",
   "metadata": {},
   "source": [
    "\n",
    "Use ``hue`` to add color as a visual variable to the plot. Change the colormap using ``cmap``. To\n",
    "use a categorical colormap, set ``scheme``. ``legend`` toggles the legend."
   ]
  },
  {
   "cell_type": "code",
   "execution_count": null,
   "id": "debaba55-2dab-4569-82fc-317860af5a6b",
   "metadata": {},
   "outputs": [],
   "source": [
    "\n",
    "import mapclassify as mc\n",
    "\n",
    "scheme = mc.NaturalBreaks(injurious_collisions['NUMBER OF PERSONS INJURED'], k=3)\n",
    "ax = gplt.voronoi(\n",
    "    injurious_collisions.head(1000), projection=gcrs.AlbersEqualArea(),\n",
    "    clip=boroughs.simplify(0.001),\n",
    "    hue='NUMBER OF PERSONS INJURED', scheme=scheme, cmap='Reds',\n",
    "    legend=True\n",
    ")\n",
    "gplt.polyplot(boroughs, ax=ax)"
   ]
  },
  {
   "cell_type": "markdown",
   "id": "81c416aa-bc0e-483b-98ff-eeaeb4c89a0a",
   "metadata": {},
   "source": [
    "\n",
    "Keyword arguments that are not part of the ``geoplot`` API are passed to the underlying\n",
    "``matplotlib``\n",
    "`Polygon patches <https://matplotlib.org/api/patches_api.html#matplotlib.patches.Polygon>`_,\n",
    "which can be used to customize the appearance of the plot. To pass keyword argument to the\n",
    "legend, use the ``legend_kwargs`` argument."
   ]
  },
  {
   "cell_type": "code",
   "execution_count": null,
   "id": "f5011e49-c863-4c08-949d-26a2c7f92e4b",
   "metadata": {},
   "outputs": [],
   "source": [
    "\n",
    "import mapclassify as mc\n",
    "\n",
    "scheme = mc.NaturalBreaks(injurious_collisions['NUMBER OF PERSONS INJURED'], k=3)\n",
    "ax = gplt.voronoi(\n",
    "    injurious_collisions.head(1000), projection=gcrs.AlbersEqualArea(),\n",
    "    clip=boroughs.simplify(0.001),\n",
    "    hue='NUMBER OF PERSONS INJURED', scheme=scheme, cmap='Reds',\n",
    "    legend=True,\n",
    "    edgecolor='white', legend_kwargs={'loc': 'upper left'}\n",
    ")\n",
    "gplt.polyplot(boroughs, edgecolor='black', zorder=1, ax=ax)"
   ]
  }
 ],
 "metadata": {
  "kernelspec": {
   "display_name": "Python 3 (ipykernel)",
   "language": "python",
   "name": "python3"
  },
  "language_info": {
   "codemirror_mode": {
    "name": "ipython",
    "version": 3
   },
   "file_extension": ".py",
   "mimetype": "text/x-python",
   "name": "python",
   "nbconvert_exporter": "python",
   "pygments_lexer": "ipython3",
   "version": "3.12.3"
  }
 },
 "nbformat": 4,
 "nbformat_minor": 5
}
