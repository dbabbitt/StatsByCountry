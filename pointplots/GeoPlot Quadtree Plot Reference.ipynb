{
 "cells": [
  {
   "cell_type": "code",
   "execution_count": 1,
   "id": "11025063-713b-4a2f-9534-1631d28d93c8",
   "metadata": {},
   "outputs": [
    {
     "name": "stdout",
     "output_type": "stream",
     "text": [
      "Pretty printing has been turned OFF\n"
     ]
    }
   ],
   "source": [
    "\n",
    "# Set up notebook\n",
    "%pprint\n",
    "%matplotlib inline\n",
    "import sys\n",
    "import os.path as osp, os as os\n",
    "\n",
    "executable_path = sys.executable\n",
    "scripts_folder = osp.join(osp.dirname(executable_path), 'Scripts'); assert osp.exists(scripts_folder)\n",
    "py_folder = osp.abspath(osp.join(os.pardir, 'py')); assert osp.exists(py_folder), \"Create the py folder\"\n",
    "ffmpeg_folder = r'C:\\ffmpeg\\bin'; assert osp.exists(ffmpeg_folder)\n",
    "shared_folder = osp.abspath(osp.join(os.pardir, 'share')); assert osp.exists(shared_folder)\n",
    "scripts312_folder = r'C:\\Users\\daveb\\AppData\\Roaming\\Python\\Python312\\Scripts'; assert osp.exists(scripts312_folder)\n",
    "\n",
    "if (scripts_folder not in sys.path): sys.path.insert(1, scripts_folder)\n",
    "if (py_folder not in sys.path): sys.path.insert(1, py_folder)\n",
    "if (ffmpeg_folder not in sys.path): sys.path.insert(1, ffmpeg_folder)\n",
    "if shared_folder not in sys.path: sys.path.insert(1, shared_folder)\n",
    "if (scripts312_folder not in sys.path): sys.path.insert(1, scripts312_folder)\n",
    "\n",
    "from notebook_utils import NotebookUtilities\n",
    "nu = NotebookUtilities(\n",
    "    data_folder_path=osp.abspath(osp.join(os.pardir, 'data')),\n",
    "    saves_folder_path=osp.abspath(osp.join(os.pardir, 'saves'))\n",
    ")\n",
    "nu.delete_ipynb_checkpoint_folders()"
   ]
  },
  {
   "cell_type": "markdown",
   "id": "95c8a3c7-a7fe-4fc8-a048-c2064b850769",
   "metadata": {},
   "source": [
    "\n",
    "Plot Reference\n",
    "=============="
   ]
  },
  {
   "cell_type": "markdown",
   "id": "887431da-0064-4b77-85f3-aa31f5a536d4",
   "metadata": {},
   "source": [
    "\n",
    "Quadtree\n",
    "--------\n",
    "\n",
    "A quadtree is a tree data structure which splits a space into increasingly small rectangular\n",
    "fractals. This plot takes a sequence of point or polygonal geometries as input and builds a\n",
    "choropleth out of their centroids, where each region is a fractal quadrangle with at least\n",
    "``nsig`` observations.\n",
    "\n",
    "A quadtree demonstrates density quite effectively. It's more flexible than a conventional\n",
    "choropleth, and given a sufficiently large number of points `can construct a very detailed\n",
    "view of a space <https://i.imgur.com/n2xlycT.png>`_.\n",
    "\n",
    "A simple ``quadtree`` specifies a dataset. It's recommended to also set a maximum number of\n",
    "observations per bin, ``nmax``. The smaller the ``nmax``, the more detailed the plot (the\n",
    "minimum value is 1)."
   ]
  },
  {
   "cell_type": "code",
   "execution_count": null,
   "id": "b3c0828f-f4e9-44a6-8e71-6abb7b99fcfc",
   "metadata": {},
   "outputs": [],
   "source": [
    "\n",
    "import geoplot as gplt\n",
    "import geoplot.crs as gcrs\n",
    "import geopandas as gpd\n",
    "\n",
    "boroughs = gpd.read_file(gplt.datasets.get_path('nyc_boroughs'))\n",
    "collisions = gpd.read_file(gplt.datasets.get_path('nyc_collision_factors'))\n",
    "\n",
    "gplt.quadtree(collisions, nmax=1)"
   ]
  },
  {
   "cell_type": "markdown",
   "id": "f7b8d00c-d6fd-4572-89f6-85490835d94a",
   "metadata": {},
   "source": [
    "\n",
    "Use ``clip`` to clip the result to surrounding geometry.  Note that if the clip geometry is\n",
    "complicated, this operation will take a long time; consider simplifying complex geometries with\n",
    "``simplify`` to speed it up.\n",
    "\n",
    "Keyword arguments that are not part of the ``geoplot`` API are passed to the\n",
    "`underlying matplotlib.patches.Patch instances\n",
    "<https://matplotlib.org/3.1.0/api/_as_gen/matplotlib.patches.Patch.html>`_, which can be used\n",
    "to customize the appearance of the plot."
   ]
  },
  {
   "cell_type": "code",
   "execution_count": null,
   "id": "fa0d05b4-0001-4d2e-b734-ae76d6db61ed",
   "metadata": {},
   "outputs": [],
   "source": [
    "\n",
    "gplt.quadtree(\n",
    "    collisions, nmax=1,\n",
    "    projection=gcrs.AlbersEqualArea(), clip=boroughs.simplify(0.001),\n",
    "    facecolor='lightgray', edgecolor='white'\n",
    ")"
   ]
  },
  {
   "cell_type": "markdown",
   "id": "d530c983-65d2-475d-b716-740526b264eb",
   "metadata": {},
   "source": [
    "\n",
    "A basic clipped quadtree plot such as this can be used as an alternative to ``polyplot`` as\n",
    "a basemap."
   ]
  },
  {
   "cell_type": "code",
   "execution_count": null,
   "id": "da6b1e4d-9c46-4f28-98fd-7f0eb1938ab2",
   "metadata": {},
   "outputs": [],
   "source": [
    "\n",
    "ax = gplt.quadtree(\n",
    "    collisions, nmax=1,\n",
    "    projection=gcrs.AlbersEqualArea(), clip=boroughs.simplify(0.001),\n",
    "    facecolor='lightgray', edgecolor='white', zorder=0\n",
    ")\n",
    "gplt.pointplot(collisions, s=1, ax=ax)"
   ]
  },
  {
   "cell_type": "markdown",
   "id": "c5d6f752-2622-4876-9b8b-4ca7f427b2fb",
   "metadata": {},
   "source": [
    "\n",
    "Use ``hue`` to add color as a visual variable to the plot. ``cmap`` controls the colormap\n",
    "used. ``legend`` toggles the legend. The individual\n",
    "values of the points included in the partitions are aggregated, and each partition is colormapped\n",
    "based on this aggregate value.\n",
    "\n",
    "This type of plot is an effective gauge of distribution: the less random the plot output, the\n",
    "more spatially correlated the variable.\n",
    "\n",
    "The default aggregation function is ``np.mean``, but you can configure the aggregation\n",
    "by passing a different function to ``agg``."
   ]
  },
  {
   "cell_type": "code",
   "execution_count": null,
   "id": "9f3e4189-3486-4d7d-86bd-04c01dbe108f",
   "metadata": {},
   "outputs": [],
   "source": [
    "\n",
    "gplt.quadtree(\n",
    "    collisions, nmax=1,\n",
    "    projection=gcrs.AlbersEqualArea(), clip=boroughs.simplify(0.001),\n",
    "    hue='NUMBER OF PEDESTRIANS INJURED', cmap='Reds',\n",
    "    edgecolor='white', legend=True,\n",
    ")"
   ]
  },
  {
   "cell_type": "markdown",
   "id": "2c9a3863-2868-40e7-990c-d984f9cbd0c3",
   "metadata": {},
   "source": [
    "\n",
    "To use a categorical colormap, set ``scheme``."
   ]
  },
  {
   "cell_type": "code",
   "execution_count": null,
   "id": "ed06a6b9-6502-4c3e-8314-9a10d514077a",
   "metadata": {},
   "outputs": [],
   "source": [
    "\n",
    "gplt.quadtree(\n",
    "    collisions, nmax=1,\n",
    "    projection=gcrs.AlbersEqualArea(), clip=boroughs.simplify(0.001),\n",
    "    hue='NUMBER OF PEDESTRIANS INJURED', cmap='Reds', scheme='Quantiles',\n",
    "    edgecolor='white', legend=True\n",
    ")"
   ]
  },
  {
   "cell_type": "markdown",
   "id": "e379a85a-949a-47b3-877d-dd9e1cd79ddc",
   "metadata": {},
   "source": [
    "\n",
    "Here is a demo of an alternative aggregation function."
   ]
  },
  {
   "cell_type": "code",
   "execution_count": null,
   "id": "389da15a-9982-4961-9d1f-4f754c0c8b23",
   "metadata": {},
   "outputs": [],
   "source": [
    "\n",
    "gplt.quadtree(\n",
    "    collisions, nmax=1, agg=np.max,\n",
    "    projection=gcrs.AlbersEqualArea(), clip=boroughs.simplify(0.001),\n",
    "    hue='NUMBER OF PEDESTRIANS INJURED', cmap='Reds',\n",
    "    edgecolor='white', legend=True\n",
    ")"
   ]
  }
 ],
 "metadata": {
  "kernelspec": {
   "display_name": "Python 3 (ipykernel)",
   "language": "python",
   "name": "python3"
  },
  "language_info": {
   "codemirror_mode": {
    "name": "ipython",
    "version": 3
   },
   "file_extension": ".py",
   "mimetype": "text/x-python",
   "name": "python",
   "nbconvert_exporter": "python",
   "pygments_lexer": "ipython3",
   "version": "3.12.3"
  }
 },
 "nbformat": 4,
 "nbformat_minor": 5
}
