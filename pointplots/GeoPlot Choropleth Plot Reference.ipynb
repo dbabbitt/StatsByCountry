{
 "cells": [
  {
   "cell_type": "code",
   "execution_count": 1,
   "id": "11025063-713b-4a2f-9534-1631d28d93c8",
   "metadata": {},
   "outputs": [
    {
     "name": "stdout",
     "output_type": "stream",
     "text": [
      "Pretty printing has been turned OFF\n"
     ]
    }
   ],
   "source": [
    "\n",
    "# Set up notebook\n",
    "%pprint\n",
    "%matplotlib inline\n",
    "import sys\n",
    "import os.path as osp, os as os\n",
    "\n",
    "executable_path = sys.executable\n",
    "scripts_folder = osp.join(osp.dirname(executable_path), 'Scripts'); assert osp.exists(scripts_folder)\n",
    "py_folder = osp.abspath(osp.join(os.pardir, 'py')); assert osp.exists(py_folder), \"Create the py folder\"\n",
    "ffmpeg_folder = r'C:\\ffmpeg\\bin'; assert osp.exists(ffmpeg_folder)\n",
    "shared_folder = osp.abspath(osp.join(os.pardir, 'share')); assert osp.exists(shared_folder)\n",
    "scripts312_folder = r'C:\\Users\\daveb\\AppData\\Roaming\\Python\\Python312\\Scripts'; assert osp.exists(scripts312_folder)\n",
    "\n",
    "if (scripts_folder not in sys.path): sys.path.insert(1, scripts_folder)\n",
    "if (py_folder not in sys.path): sys.path.insert(1, py_folder)\n",
    "if (ffmpeg_folder not in sys.path): sys.path.insert(1, ffmpeg_folder)\n",
    "if shared_folder not in sys.path: sys.path.insert(1, shared_folder)\n",
    "if (scripts312_folder not in sys.path): sys.path.insert(1, scripts312_folder)\n",
    "\n",
    "from notebook_utils import NotebookUtilities\n",
    "nu = NotebookUtilities(\n",
    "    data_folder_path=osp.abspath(osp.join(os.pardir, 'data')),\n",
    "    saves_folder_path=osp.abspath(osp.join(os.pardir, 'saves'))\n",
    ")\n",
    "nu.delete_ipynb_checkpoint_folders()"
   ]
  },
  {
   "cell_type": "markdown",
   "id": "95c8a3c7-a7fe-4fc8-a048-c2064b850769",
   "metadata": {},
   "source": [
    "\n",
    "Plot Reference\n",
    "=============="
   ]
  },
  {
   "cell_type": "markdown",
   "id": "e2723711-c941-4165-b66b-d4ed7236b599",
   "metadata": {},
   "source": [
    "\n",
    "Choropleth\n",
    "----------\n",
    "\n",
    "A choropleth takes observations that have been aggregated on some meaningful polygonal level\n",
    "(e.g. census tract, state, country, or continent) and displays the data to the reader using\n",
    "color. It is a well-known plot type, and likeliest the most general-purpose and well-known of\n",
    "the specifically spatial plot types.\n",
    "\n",
    "A basic choropleth requires polygonal geometries and a ``hue`` variable."
   ]
  },
  {
   "cell_type": "code",
   "execution_count": null,
   "id": "6469831a-f395-45c0-866d-bcc82c3ae360",
   "metadata": {},
   "outputs": [],
   "source": [
    "\n",
    "import geoplot as gplt\n",
    "import geoplot.crs as gcrs\n",
    "import geopandas as gpd\n",
    "\n",
    "contiguous_usa = gpd.read_file(gplt.datasets.get_path('contiguous_usa'))\n",
    "\n",
    "gplt.choropleth(contiguous_usa, hue='population')"
   ]
  },
  {
   "cell_type": "markdown",
   "id": "1f2276dd-f1ff-4479-ac98-f4305843c694",
   "metadata": {},
   "source": [
    "\n",
    "Change the colormap using ``cmap``. The ``legend`` parameter toggles the legend."
   ]
  },
  {
   "cell_type": "code",
   "execution_count": null,
   "id": "c38684e8-6d2b-453a-bd21-02c5e4b25f59",
   "metadata": {},
   "outputs": [],
   "source": [
    "\n",
    "gplt.choropleth(\n",
    "    contiguous_usa, hue='population', projection=gcrs.AlbersEqualArea(),\n",
    "    cmap='Greens', legend=True\n",
    ")"
   ]
  },
  {
   "cell_type": "markdown",
   "id": "7fd7a03d-5e2d-404c-b4df-09ad4c8e244e",
   "metadata": {},
   "source": [
    "\n",
    "Keyword arguments that are not part of the ``geoplot`` API are passed to the underlying\n",
    "``matplotlib.patches.Polygon`` objects; this can be used to control plot aesthetics. To pass\n",
    "keyword argument to the legend, use the ``legend_kwargs`` argument."
   ]
  },
  {
   "cell_type": "code",
   "execution_count": null,
   "id": "3a635935-9817-4abd-818f-f1f1c874770f",
   "metadata": {},
   "outputs": [],
   "source": [
    "\n",
    "gplt.choropleth(\n",
    "    contiguous_usa, hue='population', projection=gcrs.AlbersEqualArea(),\n",
    "    edgecolor='white', linewidth=1,\n",
    "    cmap='Greens', legend=True, legend_kwargs={'orientation': 'horizontal'}\n",
    ")"
   ]
  },
  {
   "cell_type": "markdown",
   "id": "f4001a32-83be-4156-a756-73ce2f4f257d",
   "metadata": {},
   "source": [
    "\n",
    "To specify a categorical colormap, use ``scheme``."
   ]
  },
  {
   "cell_type": "code",
   "execution_count": null,
   "id": "69142724-4e68-49c6-a469-c74da66ecd5e",
   "metadata": {},
   "outputs": [],
   "source": [
    "\n",
    "import mapclassify as mc\n",
    "\n",
    "scheme = mc.FisherJenks(contiguous_usa['population'], k=5)\n",
    "gplt.choropleth(\n",
    "    contiguous_usa, hue='population', projection=gcrs.AlbersEqualArea(),\n",
    "    edgecolor='white', linewidth=1,\n",
    "    cmap='Greens',\n",
    "    legend=True, legend_kwargs={'loc': 'lower left'},\n",
    "    scheme=scheme\n",
    ")"
   ]
  },
  {
   "cell_type": "markdown",
   "id": "67926171-1b6b-4c68-830a-96a8becad0ff",
   "metadata": {},
   "source": [
    "\n",
    "Use ``legend_labels`` and ``legend_values`` to customize the labels and values that appear\n",
    "in the legend."
   ]
  },
  {
   "cell_type": "code",
   "execution_count": null,
   "id": "a3722bd3-945f-49b4-bfcd-ab35295fc7bf",
   "metadata": {},
   "outputs": [],
   "source": [
    "\n",
    "import mapclassify as mc\n",
    "\n",
    "scheme = mc.FisherJenks(contiguous_usa['population'], k=5)\n",
    "gplt.choropleth(\n",
    "    contiguous_usa, hue='population', projection=gcrs.AlbersEqualArea(),\n",
    "    edgecolor='white', linewidth=1,\n",
    "    cmap='Greens', legend=True, legend_kwargs={'loc': 'lower left'},\n",
    "    scheme=scheme,\n",
    "    legend_labels=[\n",
    "        '<3 million', '3-6.7 million', '6.7-12.8 million',\n",
    "        '12.8-25 million', '25-37 million'\n",
    "    ]\n",
    ")"
   ]
  }
 ],
 "metadata": {
  "kernelspec": {
   "display_name": "Python 3 (ipykernel)",
   "language": "python",
   "name": "python3"
  },
  "language_info": {
   "codemirror_mode": {
    "name": "ipython",
    "version": 3
   },
   "file_extension": ".py",
   "mimetype": "text/x-python",
   "name": "python",
   "nbconvert_exporter": "python",
   "pygments_lexer": "ipython3",
   "version": "3.12.3"
  }
 },
 "nbformat": 4,
 "nbformat_minor": 5
}
