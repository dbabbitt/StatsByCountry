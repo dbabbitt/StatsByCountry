{
 "cells": [
  {
   "cell_type": "code",
   "execution_count": null,
   "id": "b263aba4-378c-4b7d-bf60-83c66f042b9a",
   "metadata": {},
   "outputs": [],
   "source": []
  },
  {
   "cell_type": "code",
   "execution_count": 1,
   "id": "0c4f1768-ea5c-4ea9-97de-b70703849906",
   "metadata": {},
   "outputs": [
    {
     "name": "stdout",
     "output_type": "stream",
     "text": [
      "C:\\ProgramData\\Anaconda3\\python.exe -m pip install colour-science --upgrade\n",
      "Requirement already satisfied: colour-science in c:\\programdata\\anaconda3\\lib\\site-packages (0.4.1)\n",
      "Requirement already satisfied: typing-extensions<5,>=4 in c:\\programdata\\anaconda3\\lib\\site-packages (from colour-science) (4.1.1)\n",
      "Requirement already satisfied: imageio<3,>=2 in c:\\programdata\\anaconda3\\lib\\site-packages (from colour-science) (2.9.0)\n",
      "Requirement already satisfied: scipy<2,>=1.5 in c:\\programdata\\anaconda3\\lib\\site-packages (from colour-science) (1.7.3)\n",
      "Requirement already satisfied: numpy<2,>=1.19 in c:\\programdata\\anaconda3\\lib\\site-packages (from colour-science) (1.21.5)\n",
      "Requirement already satisfied: pillow in c:\\programdata\\anaconda3\\lib\\site-packages (from imageio<3,>=2->colour-science) (9.1.0)\n"
     ]
    }
   ],
   "source": [
    "\n",
    "import sys\n",
    "\n",
    "command_str = f'{sys.executable} -m pip install colour-science --upgrade'# --force\n",
    "print(command_str)\n",
    "!{command_str}"
   ]
  },
  {
   "cell_type": "code",
   "execution_count": 2,
   "id": "c879f5f0-212b-47c1-b529-879cb8a2bc0b",
   "metadata": {},
   "outputs": [
    {
     "name": "stderr",
     "output_type": "stream",
     "text": [
      "C:\\ProgramData\\Anaconda3\\lib\\site-packages\\colour\\utilities\\verbose.py:262: ColourUsageWarning: The \"Automatic Colour Conversion Graph\" is a beta feature, be mindful of this when using it. Please report any unexpected behaviour and do not hesitate to ask any questions should they arise.\n",
      "This warning can be disabled with the \"colour.utilities.suppress_warnings\" context manager as follows:\n",
      "with colour.utilities.suppress_warnings(colour_usage_warnings=True): \n",
      "    convert(*args, **kwargs)\n",
      "  warn(*args, **kwargs)\n"
     ]
    },
    {
     "ename": "AttributeError",
     "evalue": "module 'colour.utilities' has no attribute 'lerp'",
     "output_type": "error",
     "traceback": [
      "\u001b[1;31m---------------------------------------------------------------------------\u001b[0m",
      "\u001b[1;31mAttributeError\u001b[0m                            Traceback (most recent call last)",
      "Input \u001b[1;32mIn [2]\u001b[0m, in \u001b[0;36m<cell line: 5>\u001b[1;34m()\u001b[0m\n\u001b[0;32m      2\u001b[0m \u001b[38;5;28;01mimport\u001b[39;00m \u001b[38;5;21;01mnumpy\u001b[39;00m \u001b[38;5;28;01mas\u001b[39;00m \u001b[38;5;21;01mnp\u001b[39;00m\n\u001b[0;32m      4\u001b[0m CAM16UCS \u001b[38;5;241m=\u001b[39m colour\u001b[38;5;241m.\u001b[39mconvert([\u001b[38;5;124m'\u001b[39m\u001b[38;5;124m#ff0000\u001b[39m\u001b[38;5;124m'\u001b[39m, \u001b[38;5;124m'\u001b[39m\u001b[38;5;124m#00ff00\u001b[39m\u001b[38;5;124m'\u001b[39m], \u001b[38;5;124m'\u001b[39m\u001b[38;5;124mHexadecimal\u001b[39m\u001b[38;5;124m'\u001b[39m, \u001b[38;5;124m'\u001b[39m\u001b[38;5;124mCAM16UCS\u001b[39m\u001b[38;5;124m'\u001b[39m)\n\u001b[1;32m----> 5\u001b[0m gradient \u001b[38;5;241m=\u001b[39m \u001b[43mcolour\u001b[49m\u001b[38;5;241;43m.\u001b[39;49m\u001b[43mutilities\u001b[49m\u001b[38;5;241;43m.\u001b[39;49m\u001b[43mlerp\u001b[49m(\n\u001b[0;32m      6\u001b[0m     CAM16UCS[\u001b[38;5;241m0\u001b[39m][np\u001b[38;5;241m.\u001b[39mnewaxis],\n\u001b[0;32m      7\u001b[0m     CAM16UCS[\u001b[38;5;241m1\u001b[39m][np\u001b[38;5;241m.\u001b[39mnewaxis],\n\u001b[0;32m      8\u001b[0m     np\u001b[38;5;241m.\u001b[39mlinspace(\u001b[38;5;241m0\u001b[39m, \u001b[38;5;241m1\u001b[39m, \u001b[38;5;241m20\u001b[39m)[\u001b[38;5;241m.\u001b[39m\u001b[38;5;241m.\u001b[39m\u001b[38;5;241m.\u001b[39m, np\u001b[38;5;241m.\u001b[39mnewaxis])\n\u001b[0;32m      9\u001b[0m RGB \u001b[38;5;241m=\u001b[39m colour\u001b[38;5;241m.\u001b[39mconvert(gradient, \u001b[38;5;124m'\u001b[39m\u001b[38;5;124mCAM16UCS\u001b[39m\u001b[38;5;124m'\u001b[39m, \u001b[38;5;124m'\u001b[39m\u001b[38;5;124mOutput-Referred RGB\u001b[39m\u001b[38;5;124m'\u001b[39m)\n\u001b[0;32m     11\u001b[0m colour\u001b[38;5;241m.\u001b[39mplotting\u001b[38;5;241m.\u001b[39mplot_multi_colour_swatches(\n\u001b[0;32m     12\u001b[0m     [colour\u001b[38;5;241m.\u001b[39mplotting\u001b[38;5;241m.\u001b[39mColourSwatch(RGB\u001b[38;5;241m=\u001b[39mnp\u001b[38;5;241m.\u001b[39mclip(x, \u001b[38;5;241m0\u001b[39m, \u001b[38;5;241m1\u001b[39m)) \u001b[38;5;28;01mfor\u001b[39;00m x \u001b[38;5;129;01min\u001b[39;00m RGB])\n",
      "File \u001b[1;32mC:\\ProgramData\\Anaconda3\\lib\\site-packages\\colour\\utilities\\__init__.py:247\u001b[0m, in \u001b[0;36mutilities.__getattr__\u001b[1;34m(self, attribute)\u001b[0m\n\u001b[0;32m    244\u001b[0m \u001b[38;5;28;01mdef\u001b[39;00m \u001b[38;5;21m__getattr__\u001b[39m(\u001b[38;5;28mself\u001b[39m, attribute) \u001b[38;5;241m-\u001b[39m\u001b[38;5;241m>\u001b[39m Any:\n\u001b[0;32m    245\u001b[0m     \u001b[38;5;124;03m\"\"\"Return the value from the attribute with given name.\"\"\"\u001b[39;00m\n\u001b[1;32m--> 247\u001b[0m     \u001b[38;5;28;01mreturn\u001b[39;00m \u001b[38;5;28;43msuper\u001b[39;49m\u001b[43m(\u001b[49m\u001b[43m)\u001b[49m\u001b[38;5;241;43m.\u001b[39;49m\u001b[38;5;21;43m__getattr__\u001b[39;49m\u001b[43m(\u001b[49m\u001b[43mattribute\u001b[49m\u001b[43m)\u001b[49m\n",
      "File \u001b[1;32mC:\\ProgramData\\Anaconda3\\lib\\site-packages\\colour\\utilities\\deprecation.py:374\u001b[0m, in \u001b[0;36mModuleAPI.__getattr__\u001b[1;34m(self, attribute)\u001b[0m\n\u001b[0;32m    371\u001b[0m     \u001b[38;5;28;01melse\u001b[39;00m:\n\u001b[0;32m    372\u001b[0m         \u001b[38;5;28;01mraise\u001b[39;00m \u001b[38;5;167;01mAttributeError\u001b[39;00m(\u001b[38;5;28mstr\u001b[39m(change))\n\u001b[1;32m--> 374\u001b[0m \u001b[38;5;28;01mreturn\u001b[39;00m \u001b[38;5;28;43mgetattr\u001b[39;49m\u001b[43m(\u001b[49m\u001b[38;5;28;43mself\u001b[39;49m\u001b[38;5;241;43m.\u001b[39;49m\u001b[43m_module\u001b[49m\u001b[43m,\u001b[49m\u001b[43m \u001b[49m\u001b[43mattribute\u001b[49m\u001b[43m)\u001b[49m\n",
      "\u001b[1;31mAttributeError\u001b[0m: module 'colour.utilities' has no attribute 'lerp'"
     ]
    }
   ],
   "source": [
    "\n",
    "import colour\n",
    "import numpy as np\n",
    "\n",
    "CAM16UCS = colour.convert(['#ff0000', '#00ff00'], 'Hexadecimal', 'CAM16UCS')\n",
    "gradient = colour.utilities.lerp(\n",
    "    CAM16UCS[0][np.newaxis],\n",
    "    CAM16UCS[1][np.newaxis],\n",
    "    np.linspace(0, 1, 20)[..., np.newaxis])\n",
    "RGB = colour.convert(gradient, 'CAM16UCS', 'Output-Referred RGB')\n",
    "\n",
    "colour.plotting.plot_multi_colour_swatches(\n",
    "    [colour.plotting.ColourSwatch(RGB=np.clip(x, 0, 1)) for x in RGB])\n",
    "\n",
    "print(colour.convert(RGB, 'Output-Referred RGB', 'Hexadecimal'))"
   ]
  },
  {
   "cell_type": "code",
   "execution_count": null,
   "id": "9e387793-cc10-4354-8a2b-1f484cfef512",
   "metadata": {},
   "outputs": [],
   "source": []
  }
 ],
 "metadata": {
  "kernelspec": {
   "display_name": "Python 3 (ipykernel)",
   "language": "python",
   "name": "python3"
  },
  "language_info": {
   "codemirror_mode": {
    "name": "ipython",
    "version": 3
   },
   "file_extension": ".py",
   "mimetype": "text/x-python",
   "name": "python",
   "nbconvert_exporter": "python",
   "pygments_lexer": "ipython3",
   "version": "3.9.7"
  }
 },
 "nbformat": 4,
 "nbformat_minor": 5
}
