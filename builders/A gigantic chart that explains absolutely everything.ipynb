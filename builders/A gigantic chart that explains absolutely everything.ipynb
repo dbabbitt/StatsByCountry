{
 "cells": [
  {
   "cell_type": "code",
   "execution_count": null,
   "id": "eaf8b4ef-6225-4350-a8db-5273115ea91b",
   "metadata": {},
   "outputs": [],
   "source": []
  },
  {
   "cell_type": "code",
   "execution_count": 1,
   "id": "c295014a-80c5-4739-9553-cd9de03b8e42",
   "metadata": {
    "tags": []
   },
   "outputs": [
    {
     "name": "stdout",
     "output_type": "stream",
     "text": [
      "Pretty printing has been turned OFF\n"
     ]
    }
   ],
   "source": [
    "\n",
    "%pprint"
   ]
  },
  {
   "cell_type": "code",
   "execution_count": 2,
   "id": "e81f4ee4-8cc7-46c9-b1c5-2e44f83f14bb",
   "metadata": {
    "tags": []
   },
   "outputs": [],
   "source": [
    "\n",
    "import sys\n",
    "\n",
    "# Insert at 1, 0 is the script path (or '' in REPL)\n",
    "sys.path.insert(1, osp.join(os.pardir, 'py'))\n",
    "\n",
    "from storage import Storage\n",
    "from stats_scraping_utils import StatsScrapingUtilities\n",
    "import pandas as pd\n",
    "import os\n",
    "\n",
    "s = Storage()\n",
    "ssu = StatsScrapingUtilities(s=s)"
   ]
  },
  {
   "cell_type": "code",
   "execution_count": 3,
   "id": "dcfbca9e-718a-4b57-87ad-94b5e14605c3",
   "metadata": {},
   "outputs": [
    {
     "name": "stdout",
     "output_type": "stream",
     "text": [
      "[(0, (11, 8))]\n"
     ]
    }
   ],
   "source": [
    "\n",
    "chart_url = 'https://meaningness.com/modes-chart'\n",
    "page_tables_list = ssu.get_page_tables(chart_url, verbose=True)"
   ]
  },
  {
   "cell_type": "code",
   "execution_count": 10,
   "id": "4139e9d0-fb41-4ffb-a9d6-90d9f380cf59",
   "metadata": {},
   "outputs": [
    {
     "data": {
      "text/html": [
       "<div>\n",
       "<style scoped>\n",
       "    .dataframe tbody tr th:only-of-type {\n",
       "        vertical-align: middle;\n",
       "    }\n",
       "\n",
       "    .dataframe tbody tr th {\n",
       "        vertical-align: top;\n",
       "    }\n",
       "\n",
       "    .dataframe thead th {\n",
       "        text-align: right;\n",
       "    }\n",
       "</style>\n",
       "<table border=\"1\" class=\"dataframe\">\n",
       "  <thead>\n",
       "    <tr style=\"text-align: right;\">\n",
       "      <th></th>\n",
       "      <th>8</th>\n",
       "      <th>6</th>\n",
       "      <th>2</th>\n",
       "    </tr>\n",
       "  </thead>\n",
       "  <tbody>\n",
       "    <tr>\n",
       "      <th>Mode</th>\n",
       "      <td>Buddhism</td>\n",
       "      <td>Music</td>\n",
       "      <td>Attempted solution</td>\n",
       "    </tr>\n",
       "    <tr>\n",
       "      <th>Choiceless</th>\n",
       "      <td>Miscellaneous practical superstitions; karma, ...</td>\n",
       "      <td>Traditional forms; community production; no se...</td>\n",
       "      <td>[None needed]</td>\n",
       "    </tr>\n",
       "    <tr>\n",
       "      <th>Successful systems</th>\n",
       "      <td>Scriptural Buddhist theorizing</td>\n",
       "      <td>Self-conscious art music (“classical” in  the ...</td>\n",
       "      <td>Supposed foundations for certainty: scripture,...</td>\n",
       "    </tr>\n",
       "    <tr>\n",
       "      <th>Systems in crisis</th>\n",
       "      <td>Buddhist modernism: importation of new,  ratio...</td>\n",
       "      <td>Crisis in classical music; nihilistic atonalit...</td>\n",
       "      <td>Totalitarianism (attempt to force systems to w...</td>\n",
       "    </tr>\n",
       "    <tr>\n",
       "      <th>Countercultures</th>\n",
       "      <td>Consensus Buddhism: hybrid of Asian Buddhist m...</td>\n",
       "      <td>Everyone in Boomer generation listens to all c...</td>\n",
       "      <td>Alternatives (monist and dualist). Universalis...</td>\n",
       "    </tr>\n",
       "    <tr>\n",
       "      <th>Subcultures</th>\n",
       "      <td>Diverse Western Buddhist subcultures, mainly  ...</td>\n",
       "      <td>Punk as first mass subculture. Not intended as...</td>\n",
       "      <td>Subcultures provide diverse bodies of meaning,...</td>\n",
       "    </tr>\n",
       "    <tr>\n",
       "      <th>Atomization</th>\n",
       "      <td>McMahan: “Global folk Buddhism.” Dharma burger...</td>\n",
       "      <td>Ludicrousness of genre leads to mash-ups.  Run...</td>\n",
       "      <td>Global consumer culture provides  conveniently...</td>\n",
       "    </tr>\n",
       "    <tr>\n",
       "      <th>Fluidity</th>\n",
       "      <td>Buddhism as amorphous assemblage of means for ...</td>\n",
       "      <td>Genre as musical element, like melody and rhyt...</td>\n",
       "      <td>Watercraft on the sea of meanings. Meta-system...</td>\n",
       "    </tr>\n",
       "  </tbody>\n",
       "</table>\n",
       "</div>"
      ],
      "text/plain": [
       "                                                                    8  \\\n",
       "Mode                                                         Buddhism   \n",
       "Choiceless          Miscellaneous practical superstitions; karma, ...   \n",
       "Successful systems                     Scriptural Buddhist theorizing   \n",
       "Systems in crisis   Buddhist modernism: importation of new,  ratio...   \n",
       "Countercultures     Consensus Buddhism: hybrid of Asian Buddhist m...   \n",
       "Subcultures         Diverse Western Buddhist subcultures, mainly  ...   \n",
       "Atomization         McMahan: “Global folk Buddhism.” Dharma burger...   \n",
       "Fluidity            Buddhism as amorphous assemblage of means for ...   \n",
       "\n",
       "                                                                    6  \\\n",
       "Mode                                                            Music   \n",
       "Choiceless          Traditional forms; community production; no se...   \n",
       "Successful systems  Self-conscious art music (“classical” in  the ...   \n",
       "Systems in crisis   Crisis in classical music; nihilistic atonalit...   \n",
       "Countercultures     Everyone in Boomer generation listens to all c...   \n",
       "Subcultures         Punk as first mass subculture. Not intended as...   \n",
       "Atomization         Ludicrousness of genre leads to mash-ups.  Run...   \n",
       "Fluidity            Genre as musical element, like melody and rhyt...   \n",
       "\n",
       "                                                                    2  \n",
       "Mode                                               Attempted solution  \n",
       "Choiceless                                              [None needed]  \n",
       "Successful systems  Supposed foundations for certainty: scripture,...  \n",
       "Systems in crisis   Totalitarianism (attempt to force systems to w...  \n",
       "Countercultures     Alternatives (monist and dualist). Universalis...  \n",
       "Subcultures         Subcultures provide diverse bodies of meaning,...  \n",
       "Atomization         Global consumer culture provides  conveniently...  \n",
       "Fluidity            Watercraft on the sea of meanings. Meta-system...  "
      ]
     },
     "execution_count": 10,
     "metadata": {},
     "output_type": "execute_result"
    }
   ],
   "source": [
    "\n",
    "df = page_tables_list[0]\n",
    "df.sample(3).T"
   ]
  },
  {
   "cell_type": "code",
   "execution_count": 15,
   "id": "131b787a-d424-49bf-b4b0-4d85c4067d4a",
   "metadata": {},
   "outputs": [
    {
     "data": {
      "text/plain": [
       "{'Mode': 'Era (all dates  approximate and are for leading-edge societies)', 'Choiceless': 'Over by 1700', 'Successful systems': '1450-1914', 'Systems in crisis': '1914-1980; native for those born before WWII', 'Countercultures': '1964-1990; native for Baby Boom generation', 'Subcultures': '1975-2001; native for Generation X', 'Atomization': '2001-?; native for Millennials', 'Fluidity': 'Hypothetical present or near future'}"
      ]
     },
     "execution_count": 15,
     "metadata": {},
     "output_type": "execute_result"
    }
   ],
   "source": [
    "\n",
    "df.loc[0].to_dict()"
   ]
  },
  {
   "cell_type": "code",
   "execution_count": 16,
   "id": "7d7c06c6-5997-4bad-a125-8f3916f53595",
   "metadata": {},
   "outputs": [
    {
     "data": {
      "text/plain": [
       "{'Mode': 'Problems this mode addresses, created by the previous one', 'Choiceless': '[None]', 'Successful systems': 'Challenge of alternatives. How do we know our way is  right and all others are wrong?', 'Systems in crisis': 'Failure of all foundations. Nihilism:  meaninglessness, materialism, disenchantment of the world', 'Countercultures': 'Failure of mainstream culture, society, and self to  provide meaning; disgust at hypocrisy, business-as-usual, and moral breakdown', 'Subcultures': 'Countercultures deny diversity, are revealed as  idealistically impractical, fail to find new foundations; mass movement  cannot provide community', 'Atomization': 'Subculture does not provide adequate breadth or depth of meaning; exploitation/parasitism relationship with mass-scale culture and society', 'Fluidity': 'Overwhelming ocean of meaning; triviality  (distraction from value judgement); perceived tensions between internet and  “real life”; collapsing legacy systematic-mode institutions'}"
      ]
     },
     "execution_count": 16,
     "metadata": {},
     "output_type": "execute_result"
    }
   ],
   "source": [
    "\n",
    "df.loc[1].to_dict()"
   ]
  },
  {
   "cell_type": "code",
   "execution_count": 17,
   "id": "094aa725-1d8a-4c1e-a7c8-62cdd8f61747",
   "metadata": {},
   "outputs": [
    {
     "data": {
      "text/plain": [
       "{'Mode': 'Attempted solution', 'Choiceless': '[None needed]', 'Successful systems': 'Supposed foundations for certainty: scripture, rationality, science, personal or collective revelation. Rational, universal, coherent', 'Systems in crisis': 'Totalitarianism (attempt to force systems to work); existentialism (attempt to create personal meaning out of nothing)', 'Countercultures': 'Alternatives (monist and dualist). Universalist (supposed to be right for everyone).  Explicitly anti-nihilist. Draws heavily on 1800s Romanticism; abandons rationality', 'Subcultures': 'Subcultures provide diverse bodies of meaning, without attempting foundations. Exclusivity  limits group size to provide community. Abandons universality', 'Atomization': 'Global consumer culture provides  conveniently-packaged morsels of meaning to cover all eventualities. Abandons coherence', 'Fluidity': 'Watercraft on the sea of meanings. Meta-systematic, complete stance: reinstates rationality, universality, coherence, but recognizes their nebulosity'}"
      ]
     },
     "execution_count": 17,
     "metadata": {},
     "output_type": "execute_result"
    }
   ],
   "source": [
    "\n",
    "df.loc[2].to_dict()"
   ]
  },
  {
   "cell_type": "code",
   "execution_count": 18,
   "id": "d473eb70-33b0-41c3-8f3f-0b4c6460a81e",
   "metadata": {},
   "outputs": [
    {
     "data": {
      "text/plain": [
       "{'Mode': 'Culture', 'Choiceless': 'Incoherent traditions, accepted without question', 'Successful systems': 'Attempts to formalize/ rationalize/ systematize  culture. Classicism followed by Romanticism.', 'Systems in crisis': 'Development of avant-garde; beginning of the  “culture war”', 'Countercultures': 'Development of new cultures as self-conscious,  positive mass alternative. Collapse of high culture/pop culture distinction', 'Subcultures': 'Repeated fissioning of subcultures. Genre obsession.  Hipsterism. Quest for “authenticity.” Postmodernism.', 'Atomization': 'Universal soup of tiny culture-bits. Kaleidoscopic,  hypnotic, senseless reconfiguration.', 'Fluidity': 'Groundless creative production; awareness of the intertwining of nebulosity and pattern; synergistic remix. Collaborative, improvised, intimate'}"
      ]
     },
     "execution_count": 18,
     "metadata": {},
     "output_type": "execute_result"
    }
   ],
   "source": [
    "\n",
    "df.loc[3].to_dict()"
   ]
  },
  {
   "cell_type": "code",
   "execution_count": 19,
   "id": "3d5161ff-acef-45a2-9ebf-193692f06934",
   "metadata": {},
   "outputs": [
    {
     "data": {
      "text/plain": [
       "{'Mode': 'Society', 'Choiceless': 'Unquestioned, simple social structure', 'Successful systems': 'Complex, rationalized social structure; bureaucracy', 'Systems in crisis': 'Social structures increasingly diverse and  problematic; competing political theories; world wars and clash of  civilizations', 'Countercultures': 'Brotherhood of all counterculture participants', 'Subcultures': 'Subcultural tribalism: communities based on narrow  but innovative shared values/interests. Rituals replace belief systems.', 'Atomization': 'Global society moves into interactive media; virtual  communities; social networks enable larger, geographically dispersed  communities', 'Fluidity': 'Transitory organizations spontaneously assemble within a durable social infrastructure matrix. Ongoing meta-systematic re-negotiation of individual/subsociety/superstructure interfaces'}"
      ]
     },
     "execution_count": 19,
     "metadata": {},
     "output_type": "execute_result"
    }
   ],
   "source": [
    "\n",
    "df.loc[4].to_dict()"
   ]
  },
  {
   "cell_type": "code",
   "execution_count": 20,
   "id": "dc630d94-6ae4-45c2-9e69-82d6811abbf2",
   "metadata": {},
   "outputs": [
    {
     "data": {
      "text/plain": [
       "{'Mode': 'Self', 'Choiceless': 'Person fixed by unquestioned social role; no awareness of inside/outside distinction', 'Successful systems': 'Self as unitary, rational individual, with an “inner life,” and an explicitly-defined relationship with society', 'Systems in crisis': 'Age of anxiety: growing awareness of internal incoherence.', 'Countercultures': 'Self defined by membership in one counterculture (and rejection of the other counterculture)', 'Subcultures': 'Identity derives from subcultural allegiance. Integration of personality a receding ideal.', 'Atomization': 'Atomization of self due to always-on internet: massively more interruptions, entertainments, relationships, tasks', 'Fluidity': 'Self explicitly accepted as fluid, nebulous assembly, inherently in dynamic interaction, with transient characteristics but no essential nature'}"
      ]
     },
     "execution_count": 20,
     "metadata": {},
     "output_type": "execute_result"
    }
   ],
   "source": [
    "\n",
    "df.loc[5].to_dict()"
   ]
  },
  {
   "cell_type": "code",
   "execution_count": 21,
   "id": "ea8f7531-5b7d-44c1-92f9-8f484371c0aa",
   "metadata": {},
   "outputs": [
    {
     "data": {
      "text/plain": [
       "{'Mode': 'Music', 'Choiceless': 'Traditional forms; community production; no sense of  authorship', 'Successful systems': 'Self-conscious art music (“classical” in  the broad sense). Cult of the composer', 'Systems in crisis': 'Crisis in classical music; nihilistic atonality. Serialism. Jazz.', 'Countercultures': 'Everyone in Boomer generation listens to all countercultural music, regardless of genre. In dualist counterculture, attempts at Christian alternative', 'Subcultures': 'Punk as first mass subculture. Not intended as a  universal alternative; explicitly nihilistic. Repeated fragmentation of  genres into sub-sub-genres.', 'Atomization': 'Ludicrousness of genre leads to mash-ups.  Run-DMC/Aerosmith “Walk this way” video collaboration as early explicit  example.', 'Fluidity': 'Genre as musical element, like melody and rhythm, to  use and play with. Democratization of music production and distribution as  computer tools (DAWs, Soundcloud) improve.'}"
      ]
     },
     "execution_count": 21,
     "metadata": {},
     "output_type": "execute_result"
    }
   ],
   "source": [
    "\n",
    "df.loc[6].to_dict()"
   ]
  },
  {
   "cell_type": "code",
   "execution_count": 22,
   "id": "3dacb8e9-1610-4588-8e88-9412ebfe6ee2",
   "metadata": {},
   "outputs": [
    {
     "data": {
      "text/plain": [
       "{'Mode': 'Sex and gender', 'Choiceless': 'Unquestioned sex roles', 'Successful systems': 'Sex roles reinforced by systematic ideologies', 'Systems in crisis': 'First wave feminism', 'Countercultures': 'Second-wave feminism in the monist counterculture. Moral Majority & “family values” in dualist counterculture', 'Subcultures': 'Fragmentation of feminism: pro- vs. anti-sex, egalitarian vs. essentialist.  LGBTQ, Quiverfull, men’s movements, orthosexuality, Bears, PUA, NoFap, Rules Girls, furverts, …', 'Atomization': 'Intersectionalism. Jagged, incoherent, decontextualized political and  ethical claims about sex and gender that have escaped from subcultures', 'Fluidity': 'Whole-hearted ironism; recognition that there is no  fair system and conflict is inevitable; passion & compassion together'}"
      ]
     },
     "execution_count": 22,
     "metadata": {},
     "output_type": "execute_result"
    }
   ],
   "source": [
    "\n",
    "df.loc[7].to_dict()"
   ]
  },
  {
   "cell_type": "code",
   "execution_count": 23,
   "id": "093e3715-c866-4782-bf8d-4d3085fdb882",
   "metadata": {},
   "outputs": [
    {
     "data": {
      "text/plain": [
       "{'Mode': 'Buddhism', 'Choiceless': 'Miscellaneous practical superstitions; karma, merit,  and auspiciousness; monastic economics. Entirely unknown to Consensus  Buddhists.', 'Successful systems': 'Scriptural Buddhist theorizing', 'Systems in crisis': 'Buddhist modernism: importation of new,  rationalizing foundations from West, as a response to cultural breakdown in  Asia', 'Countercultures': 'Consensus Buddhism: hybrid of Asian Buddhist modernism with American monist counterculture', 'Subcultures': 'Diverse Western Buddhist subcultures, mainly  developed by charismatic Asian modernizers. No serious attempt at  universality. Spurious rhetoric of traditionalism (usually actually Asian  nationalism).', 'Atomization': 'McMahan: “Global folk Buddhism.” Dharma burgers.  Vapid @DalaiLama tweets. Fake Buddha quotes. McMindfulness. Eckhart Tolle.  SBNR.', 'Fluidity': 'Buddhism as amorphous assemblage of means for  transformation of culture, society, and self by uniting spaciousness and  passion to unclog energy and empower nobility'}"
      ]
     },
     "execution_count": 23,
     "metadata": {},
     "output_type": "execute_result"
    }
   ],
   "source": [
    "\n",
    "df.loc[8].to_dict()"
   ]
  },
  {
   "cell_type": "code",
   "execution_count": 24,
   "id": "e74df488-3131-497f-9b54-6d1373c6c256",
   "metadata": {},
   "outputs": [
    {
     "data": {
      "text/plain": [
       "{'Mode': 'Vampires', 'Choiceless': 'Considered a realistic physical danger', 'Successful systems': 'Symbolize incoherence as challenge to the system  (Church, Nation, and/or rationality) [Bram Stoker’s Dracula]', 'Systems in crisis': 'Monstrous Other as Romantic anti-hero [Ann Rice; Dark Shadows]', 'Countercultures': 'Monstrous Self as Romantic anti-hero [Laurel K.  Hamilton’s Anita Blake books]', 'Subcultures': 'Monstrosity (incoherence) of the self as a practical  hassle that can be managed [Kim Harrison]', 'Atomization': 'Trivialization of no-longer-threatening incoherence  [Twilight as first attempt]. But  fails until we have fully digested shadow', 'Fluidity': 'Nobility of vampires as creative, benevolent  appropriation of personal incoherence'}"
      ]
     },
     "execution_count": 24,
     "metadata": {},
     "output_type": "execute_result"
    }
   ],
   "source": [
    "\n",
    "df.loc[9].to_dict()"
   ]
  },
  {
   "cell_type": "code",
   "execution_count": 25,
   "id": "3009889d-0fb2-454c-b050-ca5771dddfd3",
   "metadata": {},
   "outputs": [
    {
     "data": {
      "text/plain": [
       "{'Mode': 'Food', 'Choiceless': 'Mythological food taboos; pre-systematic practices  of hunting, gathering, growing, harvesting, cooking, sharing, and eating it', 'Successful systems': 'Mainstream state/academic/industrial food  ideologies: Domestic Science, Home Economics, Nutrition', 'Systems in crisis': 'On-going; the mainstream is still strong in this  domain, oddly enough', 'Countercultures': 'Hippie health-food culture; macrobiotics;  vegetarianism', 'Subcultures': 'Subcultural food ideologies: proliferation of  variants of vegetarianism (vegan, fruitarian, etc); Slow Food; locavorism;  raw foodism; paleo; etc.', 'Atomization': 'Commercial diet fads; magic ingredient of the week;  proliferation of decontextualized health/nutrion claims in food marketing;  soylents', 'Fluidity': '??? [Current paucity of knowledge makes future  inconceivable]'}"
      ]
     },
     "execution_count": 25,
     "metadata": {},
     "output_type": "execute_result"
    }
   ],
   "source": [
    "\n",
    "df.loc[10].to_dict()"
   ]
  },
  {
   "cell_type": "code",
   "execution_count": null,
   "id": "bd77d73b-1f18-42b0-8437-aecbe5ae480c",
   "metadata": {},
   "outputs": [],
   "source": []
  }
 ],
 "metadata": {
  "kernelspec": {
   "display_name": "Python 3 (ipykernel)",
   "language": "python",
   "name": "python3"
  },
  "language_info": {
   "codemirror_mode": {
    "name": "ipython",
    "version": 3
   },
   "file_extension": ".py",
   "mimetype": "text/x-python",
   "name": "python",
   "nbconvert_exporter": "python",
   "pygments_lexer": "ipython3",
   "version": "3.9.7"
  }
 },
 "nbformat": 4,
 "nbformat_minor": 5
}
