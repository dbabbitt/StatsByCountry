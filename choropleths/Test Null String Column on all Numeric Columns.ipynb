{
 "cells": [
  {
   "cell_type": "code",
   "execution_count": null,
   "id": "6080a3d5-8dac-4a93-bdf2-a11f47c0557b",
   "metadata": {},
   "outputs": [],
   "source": []
  },
  {
   "cell_type": "markdown",
   "id": "6d30484f-eb58-47e5-9577-c8099bcae738",
   "metadata": {
    "tags": []
   },
   "source": [
    "\n",
    "# Set up the notebook"
   ]
  },
  {
   "cell_type": "code",
   "execution_count": 1,
   "id": "5a0bbfe1-6338-4e06-9be0-c3addb137849",
   "metadata": {},
   "outputs": [
    {
     "name": "stdout",
     "output_type": "stream",
     "text": [
      "Pretty printing has been turned OFF\n"
     ]
    }
   ],
   "source": [
    "\n",
    "%pprint"
   ]
  },
  {
   "cell_type": "code",
   "execution_count": 2,
   "id": "d42f2fc5-c6eb-4493-b912-b13e94f98cab",
   "metadata": {},
   "outputs": [],
   "source": [
    "\n",
    "import sys\n",
    "\n",
    "# Insert at 1, 0 is the script path (or '' in REPL)\n",
    "sys.path.insert(1, '../py')\n",
    "\n",
    "from choropleth_utils import ChoroplethUtilities\n",
    "from stats_scraping_utils import StatsScrapingUtilities\n",
    "from storage import Storage\n",
    "import pandas as pd\n",
    "import re\n",
    "import os\n",
    "import numpy as np\n",
    "\n",
    "s = Storage()\n",
    "ssu = StatsScrapingUtilities(s=s)"
   ]
  },
  {
   "cell_type": "markdown",
   "id": "f9659105-471e-4673-a172-4412e4b621c0",
   "metadata": {
    "tags": []
   },
   "source": [
    "\n",
    "## Prepare for and Create Choropleth"
   ]
  },
  {
   "cell_type": "code",
   "execution_count": 3,
   "id": "3425dc7c-6ab6-4ba9-b553-0291be7fc58d",
   "metadata": {},
   "outputs": [],
   "source": [
    "\n",
    "c = ChoroplethUtilities(iso_3166_2_code='us', one_country_df=ssu.us_stats_df)\n",
    "string_column_name = None\n",
    "columns_list = [cn for cn in c.one_country_df.columns if np.issubdtype(c.one_country_df[cn].dtype, np.number)]\n",
    "for numeric_column_name in columns_list:\n",
    "    svg_file_path = c.create_country_colored_labeled_map(numeric_column_name=numeric_column_name,\n",
    "                                                    string_column_name=string_column_name,\n",
    "                                                    one_country_df=ssu.us_stats_df)"
   ]
  },
  {
   "cell_type": "code",
   "execution_count": null,
   "id": "7ac9f2f6-d222-4839-8a86-ae75fbc6fee5",
   "metadata": {},
   "outputs": [],
   "source": []
  }
 ],
 "metadata": {
  "kernelspec": {
   "display_name": "Python 3 (ipykernel)",
   "language": "python",
   "name": "python3"
  },
  "language_info": {
   "codemirror_mode": {
    "name": "ipython",
    "version": 3
   },
   "file_extension": ".py",
   "mimetype": "text/x-python",
   "name": "python",
   "nbconvert_exporter": "python",
   "pygments_lexer": "ipython3",
   "version": "3.9.7"
  }
 },
 "nbformat": 4,
 "nbformat_minor": 5
}
